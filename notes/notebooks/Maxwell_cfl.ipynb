{
 "cells": [
  {
   "cell_type": "markdown",
   "metadata": {},
   "source": [
    "Vérification de CFL de Maxwell\n",
    "===\n",
    "\n",
    "Il s'agit ici de vérifier un calcul de CFL lié à Maxwell dans RK(3,3) suite à un mail de Nicolas du 4 novembre 2020 à 16h21."
   ]
  },
  {
   "cell_type": "code",
   "execution_count": null,
   "metadata": {},
   "outputs": [],
   "source": [
    "import numpy as np\n",
    "import sympy as sp\n",
    "import matplotlib.pyplot as plt"
   ]
  },
  {
   "cell_type": "code",
   "execution_count": null,
   "metadata": {},
   "outputs": [],
   "source": [
    "k = sp.symbols(\"k\",real=True)\n",
    "dt = sp.symbols(r\"\\Delta\\ t\",real=True,positive=True)"
   ]
  },
  {
   "cell_type": "markdown",
   "metadata": {},
   "source": [
    "On cherche à résoudre uniquement la partie Maxwell :\n",
    "$$\n",
    "  \\partial_t U = A\\cdot U\n",
    "$$\n",
    "avec $U$ le vecteur de variable (uniquement $B$ et $E$, seules variables intervenant dans Maxwell) et la matrice $A$ suivante :  "
   ]
  },
  {
   "cell_type": "code",
   "execution_count": null,
   "metadata": {},
   "outputs": [],
   "source": [
    "A = sp.Matrix([\n",
    "        [ 0      ,  0      ,  0     , sp.I*k ],\n",
    "        [ 0      ,  0      , -sp.I*k, 0      ],\n",
    "        [ 0      , -sp.I*k ,  0     , 0      ],\n",
    "        [ sp.I*k ,  0      ,  0     , 0      ],\n",
    "    ])\n",
    "U = sp.MatrixSymbol(\"U^n\",4,1)\n",
    "\n",
    "A"
   ]
  },
  {
   "cell_type": "markdown",
   "metadata": {},
   "source": [
    "On souhaite résoudre ce problème avec une méthode RK(3,3) ou RK(4,4) pour déterminer la CFL dans ce problème pour tout mode de Fourier $k$."
   ]
  },
  {
   "cell_type": "code",
   "execution_count": null,
   "metadata": {},
   "outputs": [],
   "source": [
    "def rk33(un,L,dt):\n",
    "  \"\"\"\n",
    "    méthode RK(3,3) de Shu-Osher\n",
    "  \"\"\"\n",
    "  u1 = un + dt*L*un\n",
    "  u2 = sp.Rational(3,4)*un + sp.Rational(1,4)*u1 + sp.Rational(1,4)*dt*L*u1\n",
    "  return sp.Rational(1,3)*un + sp.Rational(2,3)*u2 + sp.Rational(2,3)*dt*L*u2"
   ]
  },
  {
   "cell_type": "code",
   "execution_count": null,
   "metadata": {},
   "outputs": [],
   "source": [
    "def rk44(un,L,dt):\n",
    "  \"\"\"\n",
    "    méthode RK(4,4)\n",
    "  \"\"\"\n",
    "  u1 = un + sp.Rational(1,2)*dt*L*un\n",
    "  u2 = un + sp.Rational(1,2)*dt*L*u1\n",
    "  u3 = un + dt*L*u2\n",
    "  return sp.Rational(1,3)*( -un + u1 + 2*u2 + u3 ) + sp.Rational(1,6)*dt*L*u3"
   ]
  },
  {
   "cell_type": "markdown",
   "metadata": {},
   "source": [
    "On vérifie nos méthodes de Runge-Kutta, pour cela on vérifie que l'on obtient bien sur une itération le développement de Taylor évalué en $\\Delta t \\lambda$ ($\\lambda$ étant une linéarisation de notre fonction dans notre problème)."
   ]
  },
  {
   "cell_type": "code",
   "execution_count": null,
   "metadata": {},
   "outputs": [],
   "source": [
    "# vérification de notre méthode RK\n",
    "L = sp.symbols(\"L\")\n",
    "un = sp.symbols(\"u_n\")\n",
    "\n",
    "rk33(un,L,dt).expand().collect(un).subs(L,sp.symbols(r\"\\lambda\"))"
   ]
  },
  {
   "cell_type": "code",
   "execution_count": null,
   "metadata": {},
   "outputs": [],
   "source": [
    "rk44(un,L,dt).expand().collect(un).subs(L,sp.symbols(r\"\\lambda\"))"
   ]
  },
  {
   "cell_type": "markdown",
   "metadata": {},
   "source": [
    "Maintenant on test avec la matrice $A$ à la place du symbole $L$, et le vecteur $U$ en lieu et place de $u_n$."
   ]
  },
  {
   "cell_type": "code",
   "execution_count": null,
   "metadata": {},
   "outputs": [],
   "source": [
    "sp.Matrix(rk33(U,A,dt).expand().simplify())"
   ]
  },
  {
   "cell_type": "code",
   "execution_count": null,
   "metadata": {},
   "outputs": [],
   "source": [
    "sp.Matrix(rk44(U,A,dt).expand().simplify())"
   ]
  },
  {
   "cell_type": "markdown",
   "metadata": {},
   "source": [
    "Il n'est pas possible avec `sympy` d'écrire cela sous la forme $B_{A,\\Delta t}\\cdot U$. Donc pour RK(3,3) on trouve à la main la matrice :\n",
    "\n",
    "$$\n",
    "  \\begin{pmatrix}\n",
    "      1 - \\frac{\\Delta t^2k^2}{2} & 0 & 0 & i\\Delta tk - \\frac{i\\Delta t^3k^3}{6} \\\\\n",
    "      0 & 1 - \\frac{\\Delta t^2k^2}{2} & -i\\Delta tk + \\frac{i\\Delta t^3k^3}{6} & 0 \\\\\n",
    "      0 & -i\\Delta tk + \\frac{i\\Delta t^3k^3}{6} & 1 - \\frac{\\Delta t^2k^2}{2} & 0 \\\\\n",
    "      i\\Delta tk - \\frac{i\\Delta t^3k^3}{6} & 0 & 0 & 1 - \\frac{\\Delta t^2k^2}{2} \\\\\n",
    "  \\end{pmatrix}\n",
    "$$"
   ]
  },
  {
   "cell_type": "markdown",
   "metadata": {},
   "source": [
    "Mais on sait que l'on doit obtenir le développement de Taylor de la fonction exponentielle :"
   ]
  },
  {
   "cell_type": "code",
   "execution_count": null,
   "metadata": {},
   "outputs": [],
   "source": [
    "l = sp.symbols(r\"\\lambda\")\n",
    "sp.exp(dt*l).series(dt*l,n=5)"
   ]
  },
  {
   "cell_type": "code",
   "execution_count": null,
   "metadata": {},
   "outputs": [],
   "source": [
    "B_rk33 = sp.eye(4) + dt*A + sp.Rational(1,2)*(A*dt)**2 + sp.Rational(1,6)*(dt*A)**3\n",
    "B_rk33"
   ]
  },
  {
   "cell_type": "code",
   "execution_count": null,
   "metadata": {},
   "outputs": [],
   "source": [
    "B_rk44 = sp.eye(4) + dt*A + sp.Rational(1,2)*(A*dt)**2 + sp.Rational(1,6)*(dt*A)**3 + sp.Rational(1,24)*(dt*A)**4\n",
    "B_rk44"
   ]
  },
  {
   "cell_type": "code",
   "execution_count": null,
   "metadata": {},
   "outputs": [],
   "source": [
    "# on vérifie bien le résultat\n",
    "sp.Matrix(B_rk33*U).expand()"
   ]
  },
  {
   "cell_type": "code",
   "execution_count": null,
   "metadata": {},
   "outputs": [],
   "source": [
    "sp.Matrix(B_rk44*U).expand()"
   ]
  },
  {
   "cell_type": "markdown",
   "metadata": {},
   "source": [
    "Maintenant calculons les valeurs propres de nos matrices $B_{rk(n,n)}$"
   ]
  },
  {
   "cell_type": "code",
   "execution_count": null,
   "metadata": {},
   "outputs": [],
   "source": [
    "ev_rk33 = B_rk33.eigenvals()\n",
    "\n",
    "for v,m in ev_rk33.items():\n",
    "    display(v.collect(sp.I))\n",
    "    print(\"multiplicity of \",m)"
   ]
  },
  {
   "cell_type": "code",
   "execution_count": null,
   "metadata": {},
   "outputs": [],
   "source": [
    "ev_rk44 = B_rk44.eigenvals()\n",
    "\n",
    "for v,m in ev_rk44.items():\n",
    "    display(v.collect(sp.I))\n",
    "    print(\"multiplicity of \",m)"
   ]
  },
  {
   "cell_type": "markdown",
   "metadata": {},
   "source": [
    "Maintenant on trace le module de ces valeurs propres pour différentes valeurs de $\\Delta tk$."
   ]
  },
  {
   "cell_type": "code",
   "execution_count": null,
   "metadata": {},
   "outputs": [],
   "source": [
    "nK = np.linspace(-2,2,100)\n",
    "\n",
    "for i,v in enumerate(ev_rk33):\n",
    "    evk = sp.lambdify(k,v.subs(dt,1))(nK)\n",
    "    kmin = np.amin(nK[np.where(np.abs(evk)<1.0)])\n",
    "    kmax = np.amax(nK[np.where(np.abs(evk)<1.0)])\n",
    "    print(kmin,kmax)\n",
    "    plt.plot(nK,np.abs(evk),linewidth=2-i)\n",
    "    plt.vlines(kmin,np.amin(np.abs(evk))*0.99,np.max(np.abs(evk))*1.01,colors=\"gray\",linestyles=\"dotted\")\n",
    "    plt.vlines(kmax,np.amin(np.abs(evk))*0.99,np.max(np.abs(evk))*1.01,colors=\"gray\",linestyles=\"dotted\")\n",
    "plt.hlines(1.0,-2,2,colors=\"gray\",linestyles=\"dotted\")"
   ]
  },
  {
   "cell_type": "markdown",
   "metadata": {},
   "source": [
    "J'en conclus qu'avec RK(3,3), il faut que $\\Delta tk \\leq 1.71$ pour assurer la stabilité. Sachant que $k$ sont les fréquences de Fourier, donc $k = \\frac{2\\pi n}{L}$ avec $L = \\pi$ et $n\\in[\\![-\\frac{N_z}{2},\\frac{N_z}{2}]\\!]$. On a donc $k_\\text{max} = N_z$, il faut donc $\\Delta t \\leq \\frac{1.71}{N_z}$, avec typiquement $N_z = 15$ pour les simus grossières : $\\Delta t\\leq0.114$ ou $N_z = 27$ pour les simus plus fines : $\\Delta t \\leq 0.063$."
   ]
  },
  {
   "cell_type": "code",
   "execution_count": null,
   "metadata": {},
   "outputs": [],
   "source": [
    "nK = np.linspace(-3,3,100)\n",
    "\n",
    "for i,v in enumerate(ev_rk44):\n",
    "    evk = sp.lambdify(k,v.subs(dt,1))(nK)\n",
    "    kmin = np.amin(nK[np.where(np.abs(evk)<1.0)])\n",
    "    kmax = np.amax(nK[np.where(np.abs(evk)<1.0)])\n",
    "    print(kmin,kmax)\n",
    "    plt.plot(nK,np.abs(evk),linewidth=2-i)\n",
    "    plt.vlines(kmin,np.amin(np.abs(evk))*0.99,np.max(np.abs(evk))*1.01,colors=\"gray\",linestyles=\"dotted\")\n",
    "    plt.vlines(kmax,np.amin(np.abs(evk))*0.99,np.max(np.abs(evk))*1.01,colors=\"gray\",linestyles=\"dotted\")\n",
    "plt.hlines(1.0,-3,3,colors=\"gray\",linestyles=\"dotted\")"
   ]
  },
  {
   "cell_type": "markdown",
   "metadata": {},
   "source": [
    "J'en conclus qu'avec RK(4,4), il faut que $\\Delta tk \\leq 2.81$ pour assurer la stabilité. Sachant que $k$ sont les fréquences de Fourier, donc $k = \\frac{2\\pi n}{L}$ avec $L = \\pi$ et $n\\in[\\![-\\frac{N_z}{2},\\frac{N_z}{2}]\\!]$. On a donc $k_\\text{max} = N_z$, il faut donc $\\Delta t \\leq \\frac{2.81}{N_z}$, avec typiquement $N_z = 15$ pour les simus grossières : $\\Delta t\\leq0.187$ ou $N_z = 27$ pour les simus plus fines : $\\Delta t \\leq 0.104$."
   ]
  },
  {
   "cell_type": "markdown",
   "metadata": {},
   "source": [
    "Maintenant étudions le résultat en fixant la valeur de $N_z$ donc de $k$ à 27 (pour se rapprocher de l'approche de Nicolas)."
   ]
  },
  {
   "cell_type": "code",
   "execution_count": null,
   "metadata": {},
   "outputs": [],
   "source": [
    "B27 = B_rk33.subs(k,27)\n",
    "B27"
   ]
  },
  {
   "cell_type": "markdown",
   "metadata": {},
   "source": [
    "On cherche maintenant à trouver le $\\Delta t$ tel que la valeur propre vaut 1."
   ]
  },
  {
   "cell_type": "code",
   "execution_count": null,
   "metadata": {},
   "outputs": [],
   "source": [
    "for v in B27.eigenvals():\n",
    "  display(sp.solve(sp.Eq(sp.Abs(v)**2,1),dt))"
   ]
  },
  {
   "cell_type": "code",
   "execution_count": null,
   "metadata": {},
   "outputs": [],
   "source": [
    "np.sqrt(3.)/27."
   ]
  },
  {
   "cell_type": "markdown",
   "metadata": {},
   "source": [
    "Résultat très similaire à l'étude numérique."
   ]
  },
  {
   "cell_type": "markdown",
   "metadata": {},
   "source": [
    "Pour $N_z=15$"
   ]
  },
  {
   "cell_type": "code",
   "execution_count": null,
   "metadata": {},
   "outputs": [],
   "source": [
    "B15 = B_rk33.subs(k,15)\n",
    "B15"
   ]
  },
  {
   "cell_type": "code",
   "execution_count": null,
   "metadata": {},
   "outputs": [],
   "source": [
    "for v in B15.eigenvals():\n",
    "  display(sp.solve(sp.Eq(sp.Abs(v)**2,1),dt))"
   ]
  },
  {
   "cell_type": "code",
   "execution_count": null,
   "metadata": {},
   "outputs": [],
   "source": [
    "np.sqrt(3.)/15."
   ]
  },
  {
   "cell_type": "markdown",
   "metadata": {},
   "source": [
    "On a visiblement quelque chose en $\\frac{\\sqrt{3}}{N_z}$, on vérifie ça directement sur $B_{RK(3,3)}$."
   ]
  },
  {
   "cell_type": "code",
   "execution_count": null,
   "metadata": {},
   "outputs": [],
   "source": [
    "for v in B_rk33.eigenvals():\n",
    "  display(sp.solve(sp.Eq(sp.Abs(v)**2,1),dt))"
   ]
  },
  {
   "cell_type": "markdown",
   "metadata": {},
   "source": [
    "Maintenant avec RK(4,4)"
   ]
  },
  {
   "cell_type": "code",
   "execution_count": null,
   "metadata": {},
   "outputs": [],
   "source": [
    "B27 = B_rk44.subs(k,27)\n",
    "B27"
   ]
  },
  {
   "cell_type": "code",
   "execution_count": null,
   "metadata": {},
   "outputs": [],
   "source": [
    "for v in B27.eigenvals():\n",
    "  x = sp.solve(sp.Eq(sp.Abs(v)**2,1),dt)[0]\n",
    "  display(x,x.evalf())"
   ]
  },
  {
   "cell_type": "markdown",
   "metadata": {},
   "source": [
    "Maintenant avec $N_z=15$ :"
   ]
  },
  {
   "cell_type": "code",
   "execution_count": null,
   "metadata": {},
   "outputs": [],
   "source": [
    "B15 = B_rk44.subs(k,15)\n",
    "\n",
    "for v in B15.eigenvals():\n",
    "  x = sp.solve(sp.Eq(sp.Abs(v)**2,1),dt)[0]\n",
    "  display(x,x.evalf())"
   ]
  },
  {
   "cell_type": "code",
   "execution_count": null,
   "metadata": {},
   "outputs": [],
   "source": [
    "for v in B_rk44.eigenvals():\n",
    "  display(sp.solve(sp.Eq(sp.Abs(v)**2,1),dt))"
   ]
  },
  {
   "cell_type": "markdown",
   "metadata": {},
   "source": [
    "Donc pour RK(3,3) on a une CFL de Maxwell en $\\frac{\\sqrt{3}}{N_z}$ et pour RK(4,4) une CFL en $\\frac{2\\sqrt{2}}{N_z}$."
   ]
  },
  {
   "cell_type": "markdown",
   "metadata": {},
   "source": [
    "En fait il s'agit de chercher la CFL d'un transport pur non diffusif, donc trouver ce qu'on avait nommé $y_\\text{max}$ pour la stabilité de CD2. Donc les valeurs ont déjà été calculé sur [Ponio](http://jmassot.perso.math.cnrs.fr/ponio.html), j'ai un ami webdev qui s'est aussi amusé à faire une visualisation, un peu plus optimisé [ici](https://runge-kutta-method-viewer.netlify.app/runge-kutta-methods/compare?left=10&right=15)."
   ]
  },
  {
   "cell_type": "code",
   "execution_count": null,
   "metadata": {},
   "outputs": [],
   "source": []
  }
 ],
 "metadata": {
  "kernelspec": {
   "display_name": "Python 3",
   "language": "python",
   "name": "python3"
  },
  "language_info": {
   "codemirror_mode": {
    "name": "ipython",
    "version": 3
   },
   "file_extension": ".py",
   "mimetype": "text/x-python",
   "name": "python",
   "nbconvert_exporter": "python",
   "pygments_lexer": "ipython3",
   "version": "3.9.1"
  }
 },
 "nbformat": 4,
 "nbformat_minor": 4
}
