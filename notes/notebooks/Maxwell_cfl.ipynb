{
 "cells": [
  {
   "cell_type": "markdown",
   "metadata": {},
   "source": [
    "Vérification de CFL de Maxwell\n",
    "===\n",
    "\n",
    "Il s'agit ici de vérifier un calcul de CFL lié à Maxwell dans RK(3,3) suite à un mail de Nicolas du 4 novembre 2020 à 16h21."
   ]
  },
  {
   "cell_type": "code",
   "execution_count": 1,
   "metadata": {},
   "outputs": [],
   "source": [
    "import numpy as np\n",
    "import sympy as sp\n",
    "import matplotlib.pyplot as plt"
   ]
  },
  {
   "cell_type": "code",
   "execution_count": 2,
   "metadata": {},
   "outputs": [],
   "source": [
    "k = sp.symbols(\"k\",real=True)\n",
    "dt = sp.symbols(r\"\\Delta\\ t\",real=True,positive=True)"
   ]
  },
  {
   "cell_type": "code",
   "execution_count": 3,
   "metadata": {},
   "outputs": [
    {
     "data": {
      "text/latex": [
       "$\\displaystyle \\left[\\begin{matrix}0 & 0 & 0 & i k\\\\0 & 0 & - i k & 0\\\\0 & - i k & 0 & 0\\\\i k & 0 & 0 & 0\\end{matrix}\\right]$"
      ],
      "text/plain": [
       "Matrix([\n",
       "[  0,    0,    0, I*k],\n",
       "[  0,    0, -I*k,   0],\n",
       "[  0, -I*k,    0,   0],\n",
       "[I*k,    0,    0,   0]])"
      ]
     },
     "execution_count": 3,
     "metadata": {},
     "output_type": "execute_result"
    }
   ],
   "source": [
    "A = sp.Matrix([\n",
    "        [ 0      ,  0      ,  0     , sp.I*k ],\n",
    "        [ 0      ,  0      , -sp.I*k, 0      ],\n",
    "        [ 0      , -sp.I*k ,  0     , 0      ],\n",
    "        [ sp.I*k ,  0      ,  0     , 0      ],\n",
    "    ])\n",
    "U = sp.MatrixSymbol(\"U^n\",4,1)\n",
    "\n",
    "A"
   ]
  },
  {
   "cell_type": "code",
   "execution_count": 4,
   "metadata": {},
   "outputs": [],
   "source": [
    "# Maintenant on écrit notre RK(3,3)\n",
    "def rk33(un,L,dt):\n",
    "    u1 = un + dt*L*un\n",
    "    u2 = sp.Rational(3,4)*un + sp.Rational(1,4)*u1 + sp.Rational(1,4)*dt*L*u1\n",
    "    return sp.Rational(1,3)*un + sp.Rational(2,3)*u2 + sp.Rational(2,3)*dt*L*u2"
   ]
  },
  {
   "cell_type": "code",
   "execution_count": 5,
   "metadata": {},
   "outputs": [
    {
     "data": {
      "text/latex": [
       "$\\displaystyle u_{n} \\left(\\frac{\\Delta t^{3} \\lambda^{3}}{6} + \\frac{\\Delta t^{2} \\lambda^{2}}{2} + \\Delta t \\lambda + 1\\right)$"
      ],
      "text/plain": [
       "u_n*(\\Delta t**3*\\lambda**3/6 + \\Delta t**2*\\lambda**2/2 + \\Delta t*\\lambda + 1)"
      ]
     },
     "execution_count": 5,
     "metadata": {},
     "output_type": "execute_result"
    }
   ],
   "source": [
    "# vérification de notre méthode RK\n",
    "L = sp.symbols(\"L\")\n",
    "un = sp.symbols(\"u_n\")\n",
    "\n",
    "rk33(un,L,dt).expand().collect(un).subs(L,sp.symbols(r\"\\lambda\"))"
   ]
  },
  {
   "cell_type": "markdown",
   "metadata": {},
   "source": [
    "Maintenant on test avec la matrice $A$ à la place du symbole $L$, et le vecteur $U$ en lieu et place de $u_n$."
   ]
  },
  {
   "cell_type": "code",
   "execution_count": 6,
   "metadata": {},
   "outputs": [
    {
     "data": {
      "text/latex": [
       "$\\displaystyle \\left[\\begin{array}{c}- \\frac{i \\Delta t^{3} k^{3} U^{n}_{3, 0}}{6} - \\frac{\\Delta t^{2} k^{2} U^{n}_{0, 0}}{2} + i \\Delta t k U^{n}_{3, 0} + U^{n}_{0, 0}\\\\\\frac{i \\Delta t^{3} k^{3} U^{n}_{2, 0}}{6} - \\frac{\\Delta t^{2} k^{2} U^{n}_{1, 0}}{2} - i \\Delta t k U^{n}_{2, 0} + U^{n}_{1, 0}\\\\\\frac{i \\Delta t^{3} k^{3} U^{n}_{1, 0}}{6} - \\frac{\\Delta t^{2} k^{2} U^{n}_{2, 0}}{2} - i \\Delta t k U^{n}_{1, 0} + U^{n}_{2, 0}\\\\- \\frac{i \\Delta t^{3} k^{3} U^{n}_{0, 0}}{6} - \\frac{\\Delta t^{2} k^{2} U^{n}_{3, 0}}{2} + i \\Delta t k U^{n}_{0, 0} + U^{n}_{3, 0}\\end{array}\\right]$"
      ],
      "text/plain": [
       "Matrix([\n",
       "[-I*\\Delta t**3*k**3*U^n[3, 0]/6 - \\Delta t**2*k**2*U^n[0, 0]/2 + I*\\Delta t*k*U^n[3, 0] + U^n[0, 0]],\n",
       "[ I*\\Delta t**3*k**3*U^n[2, 0]/6 - \\Delta t**2*k**2*U^n[1, 0]/2 - I*\\Delta t*k*U^n[2, 0] + U^n[1, 0]],\n",
       "[ I*\\Delta t**3*k**3*U^n[1, 0]/6 - \\Delta t**2*k**2*U^n[2, 0]/2 - I*\\Delta t*k*U^n[1, 0] + U^n[2, 0]],\n",
       "[-I*\\Delta t**3*k**3*U^n[0, 0]/6 - \\Delta t**2*k**2*U^n[3, 0]/2 + I*\\Delta t*k*U^n[0, 0] + U^n[3, 0]]])"
      ]
     },
     "execution_count": 6,
     "metadata": {},
     "output_type": "execute_result"
    }
   ],
   "source": [
    "sp.Matrix(rk33(U,A,dt).expand().simplify())"
   ]
  },
  {
   "cell_type": "markdown",
   "metadata": {},
   "source": [
    "Je n'ai pas trouvé de méthode simple avec `sympy` pour écrire cela sous la forme $B_{A,\\Delta t}\\cdot U$. Donc je le fais à la main pour trouver la matrice :\n",
    "\n",
    "$$\n",
    "  \\begin{pmatrix}\n",
    "      1 - \\frac{\\Delta t^2k^2}{2} & 0 & 0 & i\\Delta tk - \\frac{i\\Delta t^3k^3}{6} \\\\\n",
    "      0 & 1 - \\frac{\\Delta t^2k^2}{2} & -i\\Delta tk + \\frac{i\\Delta t^3k^3}{6} & 0 \\\\\n",
    "      0 & -i\\Delta tk + \\frac{i\\Delta t^3k^3}{6} & 1 - \\frac{\\Delta t^2k^2}{2} & 0 \\\\\n",
    "      i\\Delta tk - \\frac{i\\Delta t^3k^3}{6} & 0 & 0 & 1 - \\frac{\\Delta t^2k^2}{2} \\\\\n",
    "  \\end{pmatrix}\n",
    "$$"
   ]
  },
  {
   "cell_type": "markdown",
   "metadata": {},
   "source": [
    "J'ai préféré utiliser cette méthode pour ne pas supposer une quelconque commutativité de A avec... A\n",
    "\n",
    "Le polynôme de stabilité appliqué en dt*A fonctionne très bien"
   ]
  },
  {
   "cell_type": "code",
   "execution_count": 7,
   "metadata": {},
   "outputs": [
    {
     "data": {
      "text/latex": [
       "$\\displaystyle \\left[\\begin{matrix}- \\frac{\\Delta t^{2} k^{2}}{2} + 1 & 0 & 0 & - \\frac{i \\Delta t^{3} k^{3}}{6} + i \\Delta t k\\\\0 & - \\frac{\\Delta t^{2} k^{2}}{2} + 1 & \\frac{i \\Delta t^{3} k^{3}}{6} - i \\Delta t k & 0\\\\0 & \\frac{i \\Delta t^{3} k^{3}}{6} - i \\Delta t k & - \\frac{\\Delta t^{2} k^{2}}{2} + 1 & 0\\\\- \\frac{i \\Delta t^{3} k^{3}}{6} + i \\Delta t k & 0 & 0 & - \\frac{\\Delta t^{2} k^{2}}{2} + 1\\end{matrix}\\right]$"
      ],
      "text/plain": [
       "Matrix([\n",
       "[             -\\Delta t**2*k**2/2 + 1,                                   0,                                   0, -I*\\Delta t**3*k**3/6 + I*\\Delta t*k],\n",
       "[                                   0,             -\\Delta t**2*k**2/2 + 1, I*\\Delta t**3*k**3/6 - I*\\Delta t*k,                                    0],\n",
       "[                                   0, I*\\Delta t**3*k**3/6 - I*\\Delta t*k,             -\\Delta t**2*k**2/2 + 1,                                    0],\n",
       "[-I*\\Delta t**3*k**3/6 + I*\\Delta t*k,                                   0,                                   0,              -\\Delta t**2*k**2/2 + 1]])"
      ]
     },
     "execution_count": 7,
     "metadata": {},
     "output_type": "execute_result"
    }
   ],
   "source": [
    "sp.eye(4)+dt*A + sp.Rational(1,2)*dt**2*A**2 + sp.Rational(1,6)*dt**3*A**3"
   ]
  },
  {
   "cell_type": "code",
   "execution_count": 8,
   "metadata": {},
   "outputs": [
    {
     "data": {
      "text/latex": [
       "$\\displaystyle \\left[\\begin{matrix}- \\frac{\\Delta t^{2} k^{2}}{2} + 1 & 0 & 0 & - \\frac{i \\Delta t^{3} k^{3}}{6} + i \\Delta t k\\\\0 & - \\frac{\\Delta t^{2} k^{2}}{2} + 1 & \\frac{i \\Delta t^{3} k^{3}}{6} - i \\Delta t k & 0\\\\0 & \\frac{i \\Delta t^{3} k^{3}}{6} - i \\Delta t k & - \\frac{\\Delta t^{2} k^{2}}{2} + 1 & 0\\\\- \\frac{i \\Delta t^{3} k^{3}}{6} + i \\Delta t k & 0 & 0 & - \\frac{\\Delta t^{2} k^{2}}{2} + 1\\end{matrix}\\right]$"
      ],
      "text/plain": [
       "Matrix([\n",
       "[             -\\Delta t**2*k**2/2 + 1,                                   0,                                   0, -I*\\Delta t**3*k**3/6 + I*\\Delta t*k],\n",
       "[                                   0,             -\\Delta t**2*k**2/2 + 1, I*\\Delta t**3*k**3/6 - I*\\Delta t*k,                                    0],\n",
       "[                                   0, I*\\Delta t**3*k**3/6 - I*\\Delta t*k,             -\\Delta t**2*k**2/2 + 1,                                    0],\n",
       "[-I*\\Delta t**3*k**3/6 + I*\\Delta t*k,                                   0,                                   0,              -\\Delta t**2*k**2/2 + 1]])"
      ]
     },
     "execution_count": 8,
     "metadata": {},
     "output_type": "execute_result"
    }
   ],
   "source": [
    "dtk = dt*k\n",
    "B = sp.Matrix([\n",
    "    [ 1-sp.Rational(1,2)*dtk**2 , 0 , 0 , sp.I*dtk - sp.Rational(1,6)*sp.I*dtk**3 ],\n",
    "    [ 0 , 1-sp.Rational(1,2)*dtk**2 , -sp.I*dtk + sp.Rational(1,6)*sp.I*dtk**3 , 0 ],\n",
    "    [ 0 , -sp.I*dtk + sp.Rational(1,6)*sp.I*dtk**3 , 1-sp.Rational(1,2)*dtk**2 , 0 ],\n",
    "    [ sp.I*dtk - sp.Rational(1,6)*sp.I*dtk**3 , 0 , 0 , 1-sp.Rational(1,2)*dtk**2 ],\n",
    "])\n",
    "B"
   ]
  },
  {
   "cell_type": "code",
   "execution_count": 9,
   "metadata": {},
   "outputs": [
    {
     "data": {
      "text/latex": [
       "$\\displaystyle \\left[\\begin{matrix}- \\frac{i \\Delta t^{3} k^{3} U^{n}_{3, 0}}{6} - \\frac{\\Delta t^{2} k^{2} U^{n}_{0, 0}}{2} + i \\Delta t k U^{n}_{3, 0} + U^{n}_{0, 0}\\\\\\frac{i \\Delta t^{3} k^{3} U^{n}_{2, 0}}{6} - \\frac{\\Delta t^{2} k^{2} U^{n}_{1, 0}}{2} - i \\Delta t k U^{n}_{2, 0} + U^{n}_{1, 0}\\\\\\frac{i \\Delta t^{3} k^{3} U^{n}_{1, 0}}{6} - \\frac{\\Delta t^{2} k^{2} U^{n}_{2, 0}}{2} - i \\Delta t k U^{n}_{1, 0} + U^{n}_{2, 0}\\\\- \\frac{i \\Delta t^{3} k^{3} U^{n}_{0, 0}}{6} - \\frac{\\Delta t^{2} k^{2} U^{n}_{3, 0}}{2} + i \\Delta t k U^{n}_{0, 0} + U^{n}_{3, 0}\\end{matrix}\\right]$"
      ],
      "text/plain": [
       "Matrix([\n",
       "[-I*\\Delta t**3*k**3*U^n[3, 0]/6 - \\Delta t**2*k**2*U^n[0, 0]/2 + I*\\Delta t*k*U^n[3, 0] + U^n[0, 0]],\n",
       "[ I*\\Delta t**3*k**3*U^n[2, 0]/6 - \\Delta t**2*k**2*U^n[1, 0]/2 - I*\\Delta t*k*U^n[2, 0] + U^n[1, 0]],\n",
       "[ I*\\Delta t**3*k**3*U^n[1, 0]/6 - \\Delta t**2*k**2*U^n[2, 0]/2 - I*\\Delta t*k*U^n[1, 0] + U^n[2, 0]],\n",
       "[-I*\\Delta t**3*k**3*U^n[0, 0]/6 - \\Delta t**2*k**2*U^n[3, 0]/2 + I*\\Delta t*k*U^n[0, 0] + U^n[3, 0]]])"
      ]
     },
     "execution_count": 9,
     "metadata": {},
     "output_type": "execute_result"
    }
   ],
   "source": [
    "sp.Matrix(B*U).expand()"
   ]
  },
  {
   "cell_type": "markdown",
   "metadata": {},
   "source": [
    "Maintenant calculons les valeurs propres de $B$."
   ]
  },
  {
   "cell_type": "code",
   "execution_count": 10,
   "metadata": {},
   "outputs": [
    {
     "data": {
      "text/latex": [
       "$\\displaystyle - \\frac{\\Delta t^{2} k^{2}}{2} + i \\left(- \\frac{\\Delta t^{3} k^{3}}{6} + \\Delta t k\\right) + 1$"
      ],
      "text/plain": [
       "-\\Delta t**2*k**2/2 + I*(-\\Delta t**3*k**3/6 + \\Delta t*k) + 1"
      ]
     },
     "metadata": {},
     "output_type": "display_data"
    },
    {
     "name": "stdout",
     "output_type": "stream",
     "text": [
      "multiplicity of  2\n"
     ]
    },
    {
     "data": {
      "text/latex": [
       "$\\displaystyle - \\frac{\\Delta t^{2} k^{2}}{2} + i \\left(\\frac{\\Delta t^{3} k^{3}}{6} - \\Delta t k\\right) + 1$"
      ],
      "text/plain": [
       "-\\Delta t**2*k**2/2 + I*(\\Delta t**3*k**3/6 - \\Delta t*k) + 1"
      ]
     },
     "metadata": {},
     "output_type": "display_data"
    },
    {
     "name": "stdout",
     "output_type": "stream",
     "text": [
      "multiplicity of  2\n"
     ]
    }
   ],
   "source": [
    "ev = B.eigenvals()\n",
    "\n",
    "for v,m in ev.items():\n",
    "    display(v.collect(sp.I))\n",
    "    print(\"multiplicity of \",m)"
   ]
  },
  {
   "cell_type": "markdown",
   "metadata": {},
   "source": [
    "Maintenant on trace le module de ces valeurs propres pour différentes valeurs de $\\Delta tk$."
   ]
  },
  {
   "cell_type": "code",
   "execution_count": 11,
   "metadata": {},
   "outputs": [
    {
     "name": "stdout",
     "output_type": "stream",
     "text": [
      "-1.7171717171717171 1.7171717171717176\n",
      "-1.7171717171717171 1.7171717171717176\n"
     ]
    },
    {
     "data": {
      "text/plain": [
       "<matplotlib.collections.LineCollection at 0x116723a30>"
      ]
     },
     "execution_count": 11,
     "metadata": {},
     "output_type": "execute_result"
    },
    {
     "data": {
      "image/png": "[encoded data removed]",
      "text/plain": [
       "<Figure size 432x288 with 1 Axes>"
      ]
     },
     "metadata": {
      "needs_background": "light"
     },
     "output_type": "display_data"
    }
   ],
   "source": [
    "nK = np.linspace(-2,2,100)\n",
    "\n",
    "for i,v in enumerate(ev):\n",
    "    evk = sp.lambdify(k,v.subs(dt,1))(nK)\n",
    "    kmin = np.amin(nK[np.where(np.abs(evk)<1.0)])\n",
    "    kmax = np.amax(nK[np.where(np.abs(evk)<1.0)])\n",
    "    print(kmin,kmax)\n",
    "    plt.plot(nK,np.abs(evk),linewidth=2-i)\n",
    "    plt.vlines(kmin,np.amin(np.abs(evk))*0.99,np.max(np.abs(evk))*1.01,colors=\"gray\",linestyles=\"dotted\")\n",
    "    plt.vlines(kmax,np.amin(np.abs(evk))*0.99,np.max(np.abs(evk))*1.01,colors=\"gray\",linestyles=\"dotted\")\n",
    "plt.hlines(1.0,-2,2,colors=\"gray\",linestyles=\"dotted\")"
   ]
  },
  {
   "cell_type": "markdown",
   "metadata": {},
   "source": [
    "J'en conclus qu'il faut que $\\Delta tk \\leq 1.71$ pour assurer la stabilité. Sachant que $k$ sont les fréquences de Fourier, donc $k = \\frac{2\\pi n}{L}$ avec $L = \\pi$ et $n\\in[\\![-\\frac{N_z}{2},\\frac{N_z}{2}]\\!]$. On a donc $k_\\text{max} = N_z$, il faut donc $\\Delta t \\leq \\frac{1.71}{N_z}$, avec typiquement $N_z = 15$ pour les simus grossières : $\\Delta t\\leq0.114$ ou $N_z = 27$ pour les simus plus fines : $\\Delta t \\leq 0.063$."
   ]
  },
  {
   "cell_type": "markdown",
   "metadata": {},
   "source": [
    "Maintenant étudions le résultat en fixant la valeur de $N_z$ donc de $k$ à 27 (pour se rapprocher de l'approche de Nicolas)."
   ]
  },
  {
   "cell_type": "code",
   "execution_count": 12,
   "metadata": {},
   "outputs": [
    {
     "data": {
      "text/latex": [
       "$\\displaystyle \\left[\\begin{matrix}1 - \\frac{729 \\Delta t^{2}}{2} & 0 & 0 & - \\frac{6561 i \\Delta t^{3}}{2} + 27 i \\Delta t\\\\0 & 1 - \\frac{729 \\Delta t^{2}}{2} & \\frac{6561 i \\Delta t^{3}}{2} - 27 i \\Delta t & 0\\\\0 & \\frac{6561 i \\Delta t^{3}}{2} - 27 i \\Delta t & 1 - \\frac{729 \\Delta t^{2}}{2} & 0\\\\- \\frac{6561 i \\Delta t^{3}}{2} + 27 i \\Delta t & 0 & 0 & 1 - \\frac{729 \\Delta t^{2}}{2}\\end{matrix}\\right]$"
      ],
      "text/plain": [
       "Matrix([\n",
       "[                1 - 729*\\Delta t**2/2,                                    0,                                    0, -6561*I*\\Delta t**3/2 + 27*I*\\Delta t],\n",
       "[                                    0,                1 - 729*\\Delta t**2/2, 6561*I*\\Delta t**3/2 - 27*I*\\Delta t,                                     0],\n",
       "[                                    0, 6561*I*\\Delta t**3/2 - 27*I*\\Delta t,                1 - 729*\\Delta t**2/2,                                     0],\n",
       "[-6561*I*\\Delta t**3/2 + 27*I*\\Delta t,                                    0,                                    0,                 1 - 729*\\Delta t**2/2]])"
      ]
     },
     "execution_count": 12,
     "metadata": {},
     "output_type": "execute_result"
    }
   ],
   "source": [
    "B27 = B.subs(k,27)\n",
    "B27"
   ]
  },
  {
   "cell_type": "markdown",
   "metadata": {},
   "source": [
    "On cherche maintenant à trouver le $\\Delta t$ tel que la valeur propre vaut 1."
   ]
  },
  {
   "cell_type": "code",
   "execution_count": 13,
   "metadata": {},
   "outputs": [
    {
     "data": {
      "text/plain": [
       "[sqrt(3)/27]"
      ]
     },
     "metadata": {},
     "output_type": "display_data"
    },
    {
     "data": {
      "text/plain": [
       "[sqrt(3)/27]"
      ]
     },
     "metadata": {},
     "output_type": "display_data"
    }
   ],
   "source": [
    "for v in B27.eigenvals():\n",
    "  display(sp.solve(sp.Eq(sp.Abs(v)**2,1),dt))"
   ]
  },
  {
   "cell_type": "code",
   "execution_count": 14,
   "metadata": {},
   "outputs": [
    {
     "data": {
      "text/plain": [
       "0.06415002990995841"
      ]
     },
     "execution_count": 14,
     "metadata": {},
     "output_type": "execute_result"
    }
   ],
   "source": [
    "np.sqrt(3.)/27."
   ]
  },
  {
   "cell_type": "markdown",
   "metadata": {},
   "source": [
    "Résultat très similaire à l'étude numérique."
   ]
  },
  {
   "cell_type": "markdown",
   "metadata": {},
   "source": [
    "Pour $N_z=15$"
   ]
  },
  {
   "cell_type": "code",
   "execution_count": 15,
   "metadata": {},
   "outputs": [
    {
     "data": {
      "text/latex": [
       "$\\displaystyle \\left[\\begin{matrix}1 - \\frac{225 \\Delta t^{2}}{2} & 0 & 0 & - \\frac{1125 i \\Delta t^{3}}{2} + 15 i \\Delta t\\\\0 & 1 - \\frac{225 \\Delta t^{2}}{2} & \\frac{1125 i \\Delta t^{3}}{2} - 15 i \\Delta t & 0\\\\0 & \\frac{1125 i \\Delta t^{3}}{2} - 15 i \\Delta t & 1 - \\frac{225 \\Delta t^{2}}{2} & 0\\\\- \\frac{1125 i \\Delta t^{3}}{2} + 15 i \\Delta t & 0 & 0 & 1 - \\frac{225 \\Delta t^{2}}{2}\\end{matrix}\\right]$"
      ],
      "text/plain": [
       "Matrix([\n",
       "[                1 - 225*\\Delta t**2/2,                                    0,                                    0, -1125*I*\\Delta t**3/2 + 15*I*\\Delta t],\n",
       "[                                    0,                1 - 225*\\Delta t**2/2, 1125*I*\\Delta t**3/2 - 15*I*\\Delta t,                                     0],\n",
       "[                                    0, 1125*I*\\Delta t**3/2 - 15*I*\\Delta t,                1 - 225*\\Delta t**2/2,                                     0],\n",
       "[-1125*I*\\Delta t**3/2 + 15*I*\\Delta t,                                    0,                                    0,                 1 - 225*\\Delta t**2/2]])"
      ]
     },
     "execution_count": 15,
     "metadata": {},
     "output_type": "execute_result"
    }
   ],
   "source": [
    "B15 = B.subs(k,15)\n",
    "B15"
   ]
  },
  {
   "cell_type": "code",
   "execution_count": 16,
   "metadata": {},
   "outputs": [
    {
     "data": {
      "text/plain": [
       "[sqrt(3)/15]"
      ]
     },
     "metadata": {},
     "output_type": "display_data"
    },
    {
     "data": {
      "text/plain": [
       "[sqrt(3)/15]"
      ]
     },
     "metadata": {},
     "output_type": "display_data"
    }
   ],
   "source": [
    "for v in B15.eigenvals():\n",
    "  display(sp.solve(sp.Eq(sp.Abs(v)**2,1),dt))"
   ]
  },
  {
   "cell_type": "code",
   "execution_count": 17,
   "metadata": {},
   "outputs": [
    {
     "data": {
      "text/plain": [
       "0.11547005383792515"
      ]
     },
     "execution_count": 17,
     "metadata": {},
     "output_type": "execute_result"
    }
   ],
   "source": [
    "np.sqrt(3.)/15."
   ]
  },
  {
   "cell_type": "markdown",
   "metadata": {},
   "source": [
    "On a visiblement quelque chose en $\\frac{\\sqrt{3}}{N_z}$, on vérifie ça directement sur $B$."
   ]
  },
  {
   "cell_type": "code",
   "execution_count": 18,
   "metadata": {},
   "outputs": [
    {
     "data": {
      "text/plain": [
       "[-sqrt(3)/k, sqrt(3)/k]"
      ]
     },
     "metadata": {},
     "output_type": "display_data"
    },
    {
     "data": {
      "text/plain": [
       "[-sqrt(3)/k, sqrt(3)/k]"
      ]
     },
     "metadata": {},
     "output_type": "display_data"
    }
   ],
   "source": [
    "for v in B.eigenvals():\n",
    "  display(sp.solve(sp.Eq(sp.Abs(v)**2,1),dt))"
   ]
  },
  {
   "cell_type": "code",
   "execution_count": null,
   "metadata": {},
   "outputs": [],
   "source": []
  }
 ],
 "metadata": {
  "kernelspec": {
   "display_name": "Python 3",
   "language": "python",
   "name": "python3"
  },
  "language_info": {
   "codemirror_mode": {
    "name": "ipython",
    "version": 3
   },
   "file_extension": ".py",
   "mimetype": "text/x-python",
   "name": "python",
   "nbconvert_exporter": "python",
   "pygments_lexer": "ipython3",
   "version": "3.8.6"
  }
 },
 "nbformat": 4,
 "nbformat_minor": 4
}
