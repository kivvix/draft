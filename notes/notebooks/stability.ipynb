{
 "cells": [
  {
   "cell_type": "markdown",
   "metadata": {},
   "source": [
    "Étude de la stabilité et calcul automatique de CFL\n",
    "===\n",
    "\n",
    "Nous nous intéressons ici à résoudre un problème de transport du type :\n",
    "\n",
    "$$\n",
    "  u_t + u_x = 0\n",
    "$$\n",
    "\n",
    "avec $x\\in[0,1]$ et $t>0$, ainsi que la condition initiale $u_0$ donnée. Les méthodes que nous allons présentées s'étendent à des problèmes de transport non linéaire : $u_t + f_x(u) = 0$, mais la seule généralisation qui nous intéressera sera une équation de transport à vitesse constante $a$ : $u_t + au+x = 0$.\n",
    "\n",
    "La discrétisation en espace se concentrera sur des méthodes WENO, ou des différences finies centrées d'ordre 2 ; la discrétisation en temps se concentrera sur des méthodes de type Runge-Kutta. Par la suite, pour effectuer un lien avec l'équation de Vlasov-Poisson, nous nous intéresserons à un problème généralisé du type :\n",
    "\n",
    "$$\n",
    "  u_t = Lu + N(u)\n",
    "$$\n",
    "\n",
    "où $L$ représentera la partie linéaire de notre problème et $N$ la partie non linéaire. Ce problème nous permettra d'étudier la résolution en temps avec des schémas exponentiels."
   ]
  },
  {
   "cell_type": "code",
   "execution_count": null,
   "metadata": {},
   "outputs": [],
   "source": [
    "\"\"\"\n",
    "global import, and define common symbols\n",
    "\"\"\"\n",
    "\n",
    "import numpy as np\n",
    "import matplotlib.pyplot as plt\n",
    "\n",
    "import sympy as sp\n",
    "from IPython.display import display\n",
    "sp.init_printing()\n",
    "\n",
    "from sympy import I\n",
    "\n",
    "phi      = sp.symbols(\"\\\\phi\",real=True) #,positive=True)\n",
    "dx,dv,dt = sp.symbols(\"\\\\Delta\\\\ x \\\\Delta\\\\ v \\\\Delta\\\\ t\",real=True,positive=True)\n",
    "x,y = sp.symbols(\"x y\",real=True)\n",
    "z   = sp.symbols(\"z\")\n",
    "\n",
    "class Data(object):\n",
    "  \"\"\"\n",
    "    dummy class to store data\n",
    "  \"\"\"\n",
    "  def __str__(self):\n",
    "    return \"\\n\".join([ \"{} : {}\".format(k,v) for k,v in self.__dict__.items()])\n",
    "\n",
    "default = Data()\n",
    "default.figsize = plt.rcParams['figure.figsize']\n",
    "\n",
    "import matplotlib.colors as mcolors # for mcolors.TABLEAU_COLORS\n",
    "default.palette = list(mcolors.TABLEAU_COLORS)"
   ]
  },
  {
   "cell_type": "code",
   "execution_count": null,
   "metadata": {},
   "outputs": [],
   "source": [
    "# if need to reimport `plt` during a working session\n",
    "from importlib import reload\n",
    "plt = reload(plt)"
   ]
  },
  {
   "cell_type": "code",
   "execution_count": null,
   "metadata": {},
   "outputs": [],
   "source": [
    "def reim(Z):\n",
    "  \"\"\"\n",
    "    function to split into 2 arrays real part and imaginary part of complex array\n",
    "  \"\"\"\n",
    "  complex_to_tuple = lambda z:(z.real,z.imag)\n",
    "  return tuple(map(list,zip(*map(complex_to_tuple,Z))))\n",
    "\n",
    "def plot(expr,x,I,*args,**kwargs):\n",
    "  \"\"\"\n",
    "    just plot a SymPy expression `expr` of variable `x` on the interval `I`\n",
    "  \"\"\"\n",
    "  X = np.linspace(I[0],I[1],500)\n",
    "  F = sp.lambdify(x,expr,'numpy')\n",
    "  plt.plot(X,F(X),*args,**kwargs)\n",
    "\n",
    "# just to store grid\n",
    "data = Data()\n",
    "# phi array to store angle where evaluate ztilde(phi)\n",
    "data.phi = np.linspace(0,2.0*np.pi,1000)"
   ]
  },
  {
   "cell_type": "markdown",
   "metadata": {},
   "source": [
    "# 1. Discrétisations en espace"
   ]
  },
  {
   "cell_type": "markdown",
   "metadata": {},
   "source": [
    "Pour étudier les schémas en espace nous allons utiliser l'analyse de *von Neumann*, pour cela introduisons quelques fonctions."
   ]
  },
  {
   "cell_type": "code",
   "execution_count": null,
   "metadata": {},
   "outputs": [],
   "source": [
    "\"\"\"\n",
    "  we will use von Neumann analysis to study WENO schemes\n",
    "  this functions are helpers to write numerical flux of WENO and apply von Neumann analysis with sympy\n",
    "\"\"\"\n",
    "\n",
    "def f(k):\n",
    "  \"\"\"\n",
    "    return $f_{i+k}$\n",
    "  \"\"\"\n",
    "  if k==0:\n",
    "    return sp.symbols(\"f_j\")\n",
    "  return sp.symbols(\"f_j%+d\"%k)\n",
    "  \n",
    "def stencil(i_min,i_max) :\n",
    "  \"\"\"\n",
    "    stencil\n",
    "    return dictionary of (i,f_i) value between `i_min` and `i_max`\n",
    "  \"\"\"\n",
    "  return dict(enumerate( [ f(i) for i in range(i_min,i_max+1) ] , start=i_min ))\n",
    "f_stencil = stencil(-3,3) # stencil (-3,3) is the size of WENO5 stencil for hight order scheme need to grow up this one\n",
    "\n",
    "def symbols_to( stencil , func ):\n",
    "  \"\"\"\n",
    "    symbols_to\n",
    "    convert dictionary `stencil` of `int => sp.Symbols` to dictionary of`sp.Symbols => sp.Symbols`\n",
    "    useful to replace all $f_i$ symbols by an other value in expression\n",
    "  \"\"\"\n",
    "  return { f:func(j,f) for j,f in stencil.items() }\n",
    "\n",
    "def symbols_to_vonNeumann( stencil ):\n",
    "  \"\"\"\n",
    "    symbols_to_vonNeumann\n",
    "    convert all $f_i$ symbols to equivalent in von Neumann analysis with exponential\n",
    "    $\\phi$ symbol need to be initialized\n",
    "  \"\"\"\n",
    "  return symbols_to( stencil , lambda j,_:sp.exp(I*j*phi) )"
   ]
  },
  {
   "cell_type": "markdown",
   "metadata": {},
   "source": [
    "## 1.1 Présentation de la méthode WENO5"
   ]
  },
  {
   "cell_type": "markdown",
   "metadata": {},
   "source": [
    "La méthode WENO est une famille de schémas aux différences finies (il existe une interprétation en terme de volumes finis) d'ordre potentiellement élevé, essentiellement non oscillante à l'aide de différentes approximations pondérées. De manière générale, la méthode WENO peut être utilisée pour discrétiser la dérivée spatiale dans un problème de transport du type :\n",
    "\n",
    "$$\n",
    "  \\partial_t u + \\partial_x f(u) = 0\n",
    "$$\n",
    "\n",
    "Après une semi-discrétisation en espace, la méthode WENO consiste à approximer les flux numériques tels que :\n",
    "\n",
    "$$\n",
    "  \\frac{\\mathrm{d}u_j}{\\mathrm{d}t} = -\\frac{1}{\\Delta x}\\left( \\hat{f}_{j_\\frac{1}{2}} - \\hat{f}_{j-\\frac{1}{2}} \\right)\n",
    "$$\n",
    "\n",
    "où $u_j(t) \\approx u(t,x_j),\\ j=0,\\dots,N$. La méthode WENO, qui est une méthode *up-wind*, nécessite de *splitter* le flux entre sa partie positive et négative :\n",
    "\n",
    "$$\n",
    "  f(u) = f^+(u) + f^-(u)\n",
    "$$\n",
    "\n",
    "tel que $\\frac{\\mathrm{d}f^+}{\\mathrm{d}u} \\geq 0$ et $\\frac{\\mathrm{d}f^-}{\\mathrm{d}u} \\leq 0$. Nous noterons par la suite $f^\\pm_j$ l\\ approximation de $f^\\pm(u(x_j))$ où $x_j$ est un point du maillage.\n",
    "\n",
    "La méthode WENO consiste ensuite à estimer des poids en fonctions d'indicateurs de continuité (*indicators of smoothness*) $\\beta_i^\\pm$ (parfois noté $IS_i^\\pm$), qui sont des combinaisons des carrés des approximations des dérivées successives en $x_j$ (sur des *stencils* potentiellement décentrés). Les coefficients $\\beta_i^\\pm$ permettent d'estimer des poids $w_i^\\pm$, pondérant différentes estimations de la solution toujours en $x_j$ sur les différents *stencils*.\n",
    "\n",
    "Pour le schéma *standard* WENO d'ordre 5 (aussi appelé WENO-JS pour [[G.-S. Jiang et C.-W. Shu (1996)]](http://doi.org/10.1006/jcph.1996.0130)) il y a 3 estimations sur 3 *stencils* différents :\n",
    "\n",
    "$$\n",
    "  \\begin{aligned}\n",
    "    \\beta_0^+ &= \\frac{13}{12}(\\underbrace{f^+_{j-2} - 2f^+_{j-1} + f^+_{j}  }_{\\Delta x^2(f''_j + \\mathcal{O}(\\Delta x))}))^2 + \\frac{1}{4}( \\underbrace{f^+_{j-2} - 4f^+_{j-1} + 3f^+_{j}}_{2\\Delta x( f'_j + \\mathcal{O}(\\Delta x^2))}  )^2 \\\\\n",
    "    \\beta_1^+ &= \\frac{13}{12}( \\underbrace{f^+_{j-1} - 2f^+_{j}   + f^+_{j+1}}_{\\Delta x^2(f''_j + \\mathcal{O}(\\Delta x^2))} )^2 + \\frac{1}{4}( \\underbrace{f^+_{j-1} -  f^+_{j+1}}_{2\\Delta x f'_j + \\mathcal{O}(\\Delta x^2))})^2 \\\\\n",
    "    \\beta_2^+ &= \\frac{13}{12}( \\underbrace{f^+_{j}   - 2f^+_{j+1} + f^+_{j+2}}_{\\Delta x^2(f''_j + \\mathcal{O}(\\Delta x))} )^2 + \\frac{1}{4}(\\underbrace{3f^+_{j}   - 4f^+_{j+1} +  f^+_{j+2}}_{-2\\Delta x( f'_j + \\mathcal{O}(\\Delta x^2))})^2 \\\\\n",
    "  \\end{aligned}\n",
    "$$\n",
    "\n",
    "et de manière similaire :\n",
    "\n",
    "$$\n",
    "  \\begin{aligned}\n",
    "    \\beta_0^- &= \\frac{13}{12}(f^-_{j+1} - 2f^-_{j+2} + f^-_{j+3})^2 + \\frac{1}{4}(3f^-_{j+1} - 4f^-_{j+2} +  f^-_{j+3})^2 \\\\\n",
    "    \\beta_1^- &= \\frac{13}{12}(f^-_{j}   - 2f^-_{j+1} + f^-_{j+2})^2 + \\frac{1}{4}( f^-_{j}   -  f^-_{j+2})^2 \\\\\n",
    "    \\beta_2^- &= \\frac{13}{12}(f^-_{j-1} - 2f^-_{j}   + f^-_{j+1})^2 + \\frac{1}{4}( f^-_{j-1} - 4f^-_{j}   + 3f^-_{j+1})^2 \\\\\n",
    "  \\end{aligned}\n",
    "$$\n",
    "\n",
    "Ensuite nous calculons les poids non normalisés :\n",
    "\n",
    "$$\n",
    "  \\alpha_i^\\pm = \\frac{\\gamma_i}{(\\varepsilon + \\beta_i^\\pm)^2},\\quad i=0,1,2\n",
    "$$\n",
    "où $\\varepsilon$ est un paramètre numérique pour assurer la non nullité du dénominateur, il sera pris à $10^{-6}$ ; et vaec $\\gamma_0=\\frac{1}{10}$, $\\gamma_1=\\frac{6}{10}$ et $\\gamma_2=\\frac{3}{10}$. La normalisation des poids s'effectue comme suit :\n",
    "\n",
    "$$\n",
    "  w_i^\\pm = \\frac{\\alpha_i^\\pm}{\\sum_m \\alpha_m^\\pm},\\quad i=0,1,2\n",
    "$$\n",
    "\n",
    "Nous pouvons ensuite calculer les flux numériques pour WENO5, donnés par :\n",
    "\n",
    "\n",
    "$$\n",
    "  \\begin{aligned}\n",
    "    \\hat{f}_{j+\\frac{1}{2}}^+   =\\ & w_0^+\\left(  \\frac{2}{6}f^+_{j-2} - \\frac{7}{6}f^+_{j-1} + \\frac{11}{6}f^+_{j}   \\right)\n",
    "                                +    w_1^+\\left( -\\frac{1}{6}f^+_{j-1} + \\frac{5}{6}f^+_{j}   +  \\frac{2}{6}f^+_{j+1} \\right) \\\\\n",
    "                                +  & w_2^+\\left(  \\frac{2}{6}f^+_{j}   + \\frac{5}{6}f^+_{j+1} -  \\frac{1}{6}f^+_{j+2} \\right)\n",
    "  \\end{aligned}\n",
    "$$\n",
    "\n",
    "et\n",
    "\n",
    "$$\n",
    "  \\begin{aligned}\n",
    "    \\hat{f}_{j+\\frac{1}{2}}^-   =\\ & w_2^-\\left( -\\frac{1}{6}f^-_{j-1} + \\frac{5}{6}f^-_{j}   + \\frac{2}{6}f^-_{j+1} \\right)\n",
    "                                +    w_1^-\\left(  \\frac{2}{6}f^-_{j}   + \\frac{5}{6}f^-_{j+1} - \\frac{1}{6}f^-_{j+2} \\right) \\\\\n",
    "                                +  & w_0^-\\left( \\frac{11}{6}f^-_{j+1} - \\frac{7}{6}f^-_{j+2} + \\frac{2}{6}f^-_{j+3} \\right)\n",
    "  \\end{aligned}\n",
    "$$\n",
    "\n",
    "La méthode WENO5 prend la forme finale :\n",
    "\n",
    "$$\n",
    "  (\\partial_xf(u))(x_j) \\approx \\frac{1}{\\Delta x}\\left[ \\left(\\hat{f}_{j+\\frac{1}{2}}^+ - \\hat{f}_{j-\\frac{1}{2}}^+ \\right) + \\left(\\hat{f}_{j+\\frac{1}{2}}^- - \\hat{f}_{j-\\frac{1}{2}}^- \\right) \\right]\n",
    "$$\n",
    "\n",
    "Pour l'étude de la stabilité nous ne prendrons que le cas $f^+(u) = u$ et $f^-(u) =0$"
   ]
  },
  {
   "cell_type": "markdown",
   "metadata": {},
   "source": [
    "### 1.1.1 Linéarisation du schéma WENO5"
   ]
  },
  {
   "cell_type": "markdown",
   "metadata": {},
   "source": [
    "Le schéma WENO n'étant pas linéaire, son étude est en dehors du cadre classique de l'analyse de von Neumann. L'étude de la stabilité du schéma WENO avec différents schémas en temps, initié dans [[R. Wang and R. J. Spiteri (2007)]](https://doi.org/10.1137/050637868) et repris dans [[M. Motamed and C. B. Macdonald and S. J. Ruuth (2010)]](https://doi.org/10.1007/s10915-010-9423-9) s'effectue à partir d'une linéarisation du schéma WENO, le calcul complet y est présenté, nous utiliserons ici que le résultat, issu d'un développement limité des poids non linéaire de la méthode WENO. Le développement limité nous donne une linéarisation des poids en :\n",
    "\n",
    "$$\n",
    "  \\alpha_i^{\\pm} = \\gamma_i + \\mathcal{O}(\\Delta x^2)\n",
    "$$\n",
    "\n",
    "les poids $w_i^{\\pm}$ s'écrivent alors :\n",
    "\n",
    "$$\n",
    "  w_i^{\\pm} = \\gamma_i + \\epsilon_i^{\\pm}\n",
    "$$\n",
    "\n",
    "avec $\\epsilon_i = \\mathcal{O}(\\Delta x^2)$. Le coefficient d'amplification du schéma WENO linarisé s'écrit :\n",
    "\n",
    "$$\n",
    "  \\lambda^{\\ell W}(\\phi) = \\tilde{z}(\\phi) + M(\\{\\epsilon_i^{\\pm}\\}_i,\\phi)\n",
    "$$\n",
    "\n",
    "où $\\tilde{z}$ correspond à la partie linéarie de WENO5 et $M$, dépendant de la famille des $\\{\\epsilon_i\\}_i$, la partie non linéaire. Wang et Spiteri montrent qu'il est possible de majorer $M$ en remarquant que $M(\\{\\epsilon_i^{\\pm}\\}_i,\\phi) = \\mathcal{O}(\\max_i(\\epsilon_i))$. La fonction $\\tilde{z}$ étant lin\\eaire, il est possible d'effectuer son analyse de stabilité à l'aide de l'analyse de von Neumann."
   ]
  },
  {
   "cell_type": "code",
   "execution_count": null,
   "metadata": {},
   "outputs": [],
   "source": [
    "\"\"\"\n",
    "linearized WENO method\n",
    "\"\"\"\n",
    "weno5l = Data()\n",
    "weno5l.name = \"linearized WENO5\"\n",
    "\n",
    "ei = sp.symbols(\"\\\\epsilon_0:6\",real=True)\n",
    "\n",
    "def weno5l_flux () :\n",
    "  w0 = sp.Rational(1,10) + ei[0]\n",
    "  w1 = sp.Rational(6,10) + ei[1]\n",
    "  w2 = sp.Rational(3,10) + ei[2]\n",
    "  \n",
    "  w3 = sp.Rational(1,10) + ei[3]\n",
    "  w4 = sp.Rational(6,10) + ei[4]\n",
    "  w5 = sp.Rational(3,10) + ei[5]\n",
    "  \n",
    "  fjp12 = ( w0*( sp.Rational(2,6)*f(-2) - sp.Rational(7,6)*f(-1) + sp.Rational(11,6)*f(+0) )\n",
    "          + w1*(-sp.Rational(1,6)*f(-1) + sp.Rational(5,6)*f(+0) +  sp.Rational(2,6)*f(+1) )\n",
    "          + w2*( sp.Rational(2,6)*f(+0) + sp.Rational(5,6)*f(+1) -  sp.Rational(1,6)*f(+2) ) )\n",
    "  fjm12 = fjp12.subs(symbols_to(f_stencil, lambda j,_:f(j-1)),simultaneous=True).subs({ei[0]:ei[3],ei[1]:ei[4],ei[2]:ei[5]})\n",
    "  \n",
    "  return fjp12 - fjm12\n",
    "\n",
    "weno5l.flux = weno5l_flux()\n",
    "del weno5l_flux\n",
    "display(weno5l.flux)\n",
    "\n"
   ]
  },
  {
   "cell_type": "markdown",
   "metadata": {},
   "source": [
    "Le flux de WENO5 non linéarisé fait intervenir les $\\epsilon_i$ dont la contribution est difficilement quantifiable. On réécrit $\\lambda^{\\ell W} = \\tilde{z} + \\mathcal{O}(\\Delta x^2)$, et on néglige tous les termes d'ordre $\\Delta x^2$ et suppérieur."
   ]
  },
  {
   "cell_type": "code",
   "execution_count": null,
   "metadata": {},
   "outputs": [],
   "source": [
    "weno5l.ztilde = Data()\n",
    "\n",
    "weno5l.ztilde.flux = weno5l.flux.expand().subs([(e,0) for e in ei])\n",
    "weno5l.ztilde.func = sp.lambdify(phi,weno5l.ztilde.flux.subs(symbols_to_vonNeumann(f_stencil)),'numpy')\n",
    "weno5l.ztilde.data = weno5l.ztilde.func(data.phi)\n",
    "\n",
    "plt.rcParams['figure.figsize'] = [5,5]\n",
    "plt.plot(*reim(weno5l.ztilde.data),label=weno5l.name+\" amplification factor\")\n",
    "plt.axis('equal')\n",
    "plt.legend(loc=(0.,1.02),mode=\"expand\",borderaxespad=0.)\n",
    "plt.show()\n",
    "plt.rcParams['figure.figsize'] = default.figsize"
   ]
  },
  {
   "cell_type": "markdown",
   "metadata": {},
   "source": [
    "On retrouve ainsi la courbe en *haricot* décrite dans [[M. Motamed and C. B. Macdonald and S. J. Ruuth (2010)]](https://doi.org/10.1007/s10915-010-9423-9) ou [[D. Ketcheson and C. B. Macdonald and S. J. Ruuth (2013)]](https://doi.org/10.1137/130906258).\n",
    "\n",
    "On peut maintenant s'intéresser aux non linéarités $M(\\{\\epsilon_i^\\pm\\}_i)$"
   ]
  },
  {
   "cell_type": "code",
   "execution_count": null,
   "metadata": {},
   "outputs": [],
   "source": [
    "weno5l.M = Data()\n",
    "\n",
    "weno5l.M.flux = (weno5l.flux.expand() - weno5l.ztilde.flux).collect(ei)\n",
    "weno5l.M.func = [ sp.lambdify(phi,arg.subs([(e,1) for e in ei]),'numpy')\n",
    "                  for arg in weno5l.M.flux.subs(symbols_to_vonNeumann(f_stencil)).args ]\n",
    "weno5l.M.data = [ fun(data.phi) for fun in weno5l.M.func ]\n",
    "\n",
    "fig, (ax1, ax2) = plt.subplots(2,1)\n",
    "ax1.set_xlabel(\"$\\\\varphi$\"); ax1.set_ylabel(\"$\\\\Re(M_{\\\\epsilon_i})$\")\n",
    "ax2.set_xlabel(\"$\\\\varphi$\"); ax2.set_ylabel(\"$\\\\Im(M_{\\\\epsilon_i})$\")\n",
    "\n",
    "for i,dat in enumerate(weno5l.M.data):\n",
    "  ax1.plot(data.phi,dat.real,label=\"$\\\\epsilon_{}$\".format(i))\n",
    "  ax2.plot(data.phi,dat.imag,label=\"$\\\\epsilon_{}$\".format(i))\n",
    "\n",
    "handles, labels = fig.gca().get_legend_handles_labels()\n",
    "fig.legend(handles,labels,loc=(0.,0.01),ncol=len(weno5l.M.data),mode=\"expand\",borderaxespad=0.)\n",
    "plt.show()\n",
    "\n",
    "del fig,ax1,ax2,i,dat,handles,labels"
   ]
  },
  {
   "cell_type": "markdown",
   "metadata": {},
   "source": [
    "En réalité la valeur des différentes composantes de $M$ nous importent peu. Ce qu'il faut remarquer est la forme général de chaque composante, prenons comme exemple la composante $\\epsilon_0$ :\n",
    "\n",
    "$$\n",
    "  \\begin{aligned}\n",
    "    \\Re \\left| \\epsilon_0\\left(\\frac{11}{6} -\\frac{7}{6}e^{-i\\phi} + \\frac{1}{3}e^{-2i\\phi}\\right)\\right| &\\leq c_0^{\\Re}|\\epsilon_0| \\\\\n",
    "    \\Im \\left| \\epsilon_0\\left(\\frac{11}{6} -\\frac{7}{6}e^{-i\\phi} + \\frac{1}{3}e^{-2i\\phi}\\right)\\right| &\\leq c_0^{\\Im}|\\epsilon_0|\n",
    "  \\end{aligned}\n",
    "$$\n",
    "\n",
    "avec $c_0^{\\Re|\\Im}$ des constantes positives. Dans [[Wang R. and Spiteri R. J. (2007)]](https://doi.org/10.1137/050637868), une estimation de $c_0^{\\Re}=\\frac{10}{3}$ est prise comme exemple. On majore ainsi toutes les composantes en $\\epsilon_i$ de $M$, on se retrouve alors avec :\n",
    "\n",
    "$$\n",
    "  \\begin{aligned}\n",
    "    \\left|\\Re\\left(M(\\{\\epsilon_i\\}_{i=0,\\dots,5},\\phi)\\right)\\right| &\\leq \\Gamma^{\\Re}\\max_{0\\leq m \\leq 5}|\\epsilon_m| \\\\\n",
    "    \\left|\\Im\\left(M(\\{\\epsilon_i\\}_{i=0,\\dots,5},\\phi)\\right)\\right| &\\leq \\Gamma^{\\Im}\\max_{0\\leq m \\leq 5}|\\epsilon_m|\n",
    "  \\end{aligned}\n",
    "$$\n",
    "\n",
    "avec $\\Gamma^{\\Re|\\Im}$ des constantes postives ne dépendant que de la taille du *stencil* considéré. Cela permet de justifier $M = \\mathcal{O}(\\Delta x^2)$."
   ]
  },
  {
   "cell_type": "markdown",
   "metadata": {},
   "source": [
    "On peut vérifier quelques propriétés de ce schéma WENO linéarisé. Ce schéma correspond à l'approximation des poids $w_i^\\pm = \\gamma_i$, c'est-à-dire que les *indicators of smoothness* valent tous 1, ce qui se justifie avec une fonction suffisamment régulière.\n",
    "\n",
    "On implémente dans un premier temps nos schémas en espace :\n",
    "\n",
    "* `weno` : le schéma WENO classique d'ordre 5,\n",
    "* `weno_lin` : le schéma WENO d'ordre 5 linéarisé, que l'on souhaite tester,\n",
    "* `cd2` : le schéma de différences finies centrées d'ordre 2, qui nous sert plus pour débugger.\n",
    "\n",
    "Puis le schéma en temps, on se contentera d'un schéma de type Runge-Kutta d'ordre 3 à 3 étages : RK(3,3) (avec la fonction `rk33`). Ce schéma est d'ordre inférieur en temps, l'erreur sattuera donc rapidement en $\\Delta t^3$."
   ]
  },
  {
   "cell_type": "code",
   "execution_count": null,
   "metadata": {},
   "outputs": [],
   "source": [
    "def _weno(u_i,dx):\n",
    "  \"\"\"\n",
    "    weno\n",
    "    return the WENO approximation of $\\partial_x u$\n",
    "  \"\"\"\n",
    "  u_ip2 = np.array([*u_i[2:],*u_i[:2]])\n",
    "  u_ip1 = np.array([*u_i[1:],*u_i[:1]])\n",
    "  u_im1 = np.array([*u_i[-1:],*u_i[:-1]])\n",
    "  u_im2 = np.array([*u_i[-2:],*u_i[:-2]])\n",
    "  b0 = 13./12.*np.square( u_im2 - 2.*u_im1 + u_i   ) + 0.25*np.square(    u_im2 - 4.*u_im1 + 3.*u_i   )\n",
    "  b1 = 13./12.*np.square( u_im1 - 2.*u_i   + u_ip1 ) + 0.25*np.square(    u_im1            -    u_ip1 )\n",
    "  b2 = 13./12.*np.square( u_i   - 2.*u_ip1 + u_ip2 ) + 0.25*np.square( 3.*u_i   - 4.*u_ip1 +    u_ip2 )\n",
    "  alpha  = [ g_i/np.square(b_i+1e-6) for b_i,g_i in zip((b0,b1,b2),(0.1,0.6,0.3)) ]\n",
    "  sum_alpha = sum(alpha)\n",
    "  w0,w1,w2 = [ a_i/sum_alpha for a_i in alpha ]\n",
    "\n",
    "  fip12 = ( w0*( (2./6.)*u_im2 - (7./6.)*u_im1 + (11./6.)*u_i   )\n",
    "          + w1*(-(1./6.)*u_im1 + (5./6.)*u_i   +  (2./6.)*u_ip1 )\n",
    "          + w2*( (2./6.)*u_i   + (5./6.)*u_ip1 -  (1./6.)*u_ip2 ))\n",
    "  fim12 = np.array([*fip12[-1:],*fip12[:-1]])\n",
    "\n",
    "  return (fip12-fim12)/dx\n",
    "\n",
    "def _weno_lin(u_i,dx):\n",
    "  \"\"\"\n",
    "    weno_lin\n",
    "    return the linearized WENO approximation of $\\partial_x u$\n",
    "  \"\"\"\n",
    "  u_ip2 = np.array([*u_i[2:],*u_i[:2]])\n",
    "  u_ip1 = np.array([*u_i[1:],*u_i[:1]])\n",
    "  u_im1 = np.array([*u_i[-1:],*u_i[:-1]])\n",
    "  u_im2 = np.array([*u_i[-2:],*u_i[:-2]])\n",
    "\n",
    "  w0,w1,w2 = [ g_i for g_i in (0.1,0.6,0.3) ]\n",
    "\n",
    "  fip12 = ( w0*( (2./6.)*u_im2 - (7./6.)*u_im1 + (11./6.)*u_i   )\n",
    "          + w1*(-(1./6.)*u_im1 + (5./6.)*u_i   +  (2./6.)*u_ip1 )\n",
    "          + w2*( (2./6.)*u_i   + (5./6.)*u_ip1 -  (1./6.)*u_ip2 ))\n",
    "  fim12 = np.array([*fip12[-1:],*fip12[:-1]])\n",
    "\n",
    "  return (fip12-fim12)/dx\n",
    "\n",
    "def _cd2(u_i,dx):\n",
    "  \"\"\"\n",
    "    cd2\n",
    "    return the centred differiencies of order 2 of $\\partial_x u$\n",
    "  \"\"\"\n",
    "  u_im1 = np.array([*u_i[-1:],*u_i[:-1]])\n",
    "  u_ip1 = np.array([*u_i[1:],*u_i[:1]])\n",
    "\n",
    "  return (u_ip1-u_im1)/(2.0*dx)\n",
    "\n",
    "def rk33_iter(un,L,dt,*config):\n",
    "  \"\"\"\n",
    "    rk33_iter\n",
    "    return the one iteration of Runge-Kutta approximation of\n",
    "    $\\dot{u} = L(u,config)$ with initial condtion `un`\n",
    "  \"\"\"\n",
    "  u1 = un + dt*L(un,*config)\n",
    "  u2 = 0.75*un + 0.25*u1 + 0.25*dt*L(u1,*config)\n",
    "  return (1./3.)*un + (2./3.)*u2 + (2./3.)*dt*L(u2,*config)\n",
    "\n",
    "weno5 = Data()\n",
    "weno5.name = \"WENO5\"\n",
    "weno5.func = _weno\n",
    "\n",
    "weno5l.func = _weno_lin\n",
    "\n",
    "cd2 = Data()\n",
    "cd2.name = \"CD2\"\n",
    "cd2.func = _cd2\n",
    "\n",
    "del _weno,_weno_lin,_cd2"
   ]
  },
  {
   "cell_type": "markdown",
   "metadata": {},
   "source": [
    "On teste nos schémas avec un problème de transport :\n",
    "\n",
    "$$\n",
    "  \\begin{cases}\n",
    "    u_t + u_x = 0 \\\\\n",
    "    u(t=0,x) = u_0(x) = \\cos(x)\n",
    "  \\end{cases}\n",
    "$$"
   ]
  },
  {
   "cell_type": "code",
   "execution_count": null,
   "metadata": {
    "tags": []
   },
   "outputs": [],
   "source": [
    "def transport(u0,rk,L,Tf,dt):\n",
    "  r\"\"\"\n",
    "    transport\n",
    "    use `rk` method with `L` discretisation in space to solve :\n",
    "    $u_t = L(u),\\ u(t=0)=\\texttt{u0}$,\n",
    "    to the time `Tf`, with time step `dt`, $x\\in[0,1]$ so length\n",
    "    of `u0` gives the space step.\n",
    "  \"\"\"\n",
    "  N = len(u0)\n",
    "  u = u0\n",
    "  dx = 1./N\n",
    "\n",
    "  niter = 0\n",
    "  while niter*dt < Tf :\n",
    "    u = rk(u,L,dt,dx)\n",
    "    niter += 1\n",
    "  \n",
    "  return u\n",
    "\n",
    "class error:\n",
    "  \"\"\"\n",
    "    error\n",
    "    compute and store error between an exact solution and an approximation solution\n",
    "    errors are computed in norm 1, 2 and infinity\n",
    "  \"\"\"\n",
    "  def __init__(self,u,v):\n",
    "    import math\n",
    "    diff = u-v\n",
    "    dx = 1./(len(u))\n",
    "    self.n1 = math.fsum([abs(x) for x in diff])*dx\n",
    "    self.n2 = math.sqrt(math.fsum(diff*diff))*dx\n",
    "    self.noo = abs(max(diff,key=lambda x:abs(x)))\n",
    "  \n",
    "  def __str__(self):\n",
    "    return \"\"\"{} {} {}\"\"\".format(self.n1,self.n2,self.noo)\n",
    "  def __repr__(self):\n",
    "    return \"error<{},{},{}>\".format(self.n1,self.n2,self.noo)"
   ]
  },
  {
   "cell_type": "code",
   "execution_count": null,
   "metadata": {
    "tags": []
   },
   "outputs": [],
   "source": [
    "num_param = Data()\n",
    "\n",
    "num_param.N = 10\n",
    "num_param.X = np.linspace(0.,1.,num_param.N,endpoint=False)\n",
    "num_param.u_0 = np.cos(2.*np.pi*num_param.X)\n",
    "\n",
    "num_param.Tf = 1.2\n",
    "num_param.dt = 1./num_param.N # = dx; a classical CFL\n",
    "\n",
    "u_cd2   = transport(num_param.u_0,rk33_iter,lambda u,dx:-cd2.func(u,dx)   ,num_param.Tf,num_param.dt)\n",
    "u_weno  = transport(num_param.u_0,rk33_iter,lambda u,dx:-weno5.func(u,dx) ,num_param.Tf,num_param.dt)\n",
    "u_wenol = transport(num_param.u_0,rk33_iter,lambda u,dx:-weno5l.func(u,dx),num_param.Tf,num_param.dt)\n",
    "u_exact = np.cos(2.*np.pi*(num_param.X - num_param.Tf))\n",
    "\n",
    "plt.plot(num_param.X,num_param.u_0,label=\"$u_0$\")\n",
    "plt.plot(num_param.X,u_weno,label=\"RK(3,3) - \"+weno5.name)\n",
    "plt.plot(num_param.X,u_wenol,label=\"RK(3,3) - \"+weno5l.name)\n",
    "plt.plot(num_param.X,u_cd2,label=\"RK(3,3) - \"+cd2.name)\n",
    "plt.plot(num_param.X,u_exact,\"--\",label=\"exact solution\")\n",
    "plt.xlabel(\"$x$\")\n",
    "plt.ylabel(\"$y$\")\n",
    "plt.legend()\n",
    "plt.show()\n",
    "\n",
    "del num_param\n",
    "\n",
    "print(\"\"\"\n",
    "error in norm 1, 2 and infinity\n",
    "WENO error            : {}\n",
    "linearized WENO error : {}\n",
    "centred differencies 2: {}\n",
    "\"\"\".format( error(u_weno,u_exact) , error(u_wenol,u_exact) , error(u_cd2,u_exact)) )\n",
    "del u_exact,u_weno,u_wenol,u_cd2"
   ]
  },
  {
   "cell_type": "markdown",
   "metadata": {},
   "source": [
    "On peut maintenant calculer l'ordre de la méthode sur ce problème de transport, en calculant la solution pour différents $\\Delta x$ (on choisit différentes tailles de vecteur en entré), jusqu'au temps $T_f=1$ avec un pas de temps $\\Delta t = \\frac{1}{400}$ qui correspond environ à $\\Delta t \\leq \\frac{1}{2}\\Delta x_{\\text{min}}$, pour minimiser l'erreur en temps."
   ]
  },
  {
   "cell_type": "code",
   "execution_count": null,
   "metadata": {},
   "outputs": [],
   "source": [
    "num_param = Data()\n",
    "num_param.dt = 1./400\n",
    "num_param.Tf = 1.\n",
    "\n",
    "errors_wenol = []\n",
    "errors_weno  = []\n",
    "\n",
    "for N in range(10,200,10):\n",
    "    num_param.X = np.linspace(0.,1.,N,endpoint=False)\n",
    "    u_0 = np.cos(2.*np.pi*num_param.X)\n",
    "    u_e = np.cos(2.*np.pi*(num_param.X - num_param.Tf))\n",
    "    u_fl = transport(u_0,rk33_iter,lambda u,dx:-weno5l.func(u,dx),num_param.Tf,num_param.dt)\n",
    "    u_f  = transport(u_0,rk33_iter,lambda u,dx:-weno5.func(u,dx) ,num_param.Tf,num_param.dt)\n",
    "    errors_wenol.append( (N,error(u_fl,u_e)) )\n",
    "    errors_weno.append( (N,error(u_f,u_e)) )\n",
    "\n",
    "del N,num_param,u_0,u_e,u_fl,u_f\n",
    "\n",
    "space_steps = np.array([ 1./e[0] for e in errors_weno ])\n",
    "\n",
    "fig, (ax1,ax2) = plt.subplots(1,2,figsize=(14,6))\n",
    "\n",
    "ax1.set_title(\"Order of \"+weno5.name)\n",
    "ax1.plot( np.log(space_steps) , [ np.log(e[1].n1) for e in errors_weno ] , \"x-\" , label = r\"$||\\cdot||_{1}$\" )\n",
    "ax1.plot( np.log(space_steps) , [ np.log(e[1].n2) for e in errors_weno ] , \"x-\" , label = r\"$||\\cdot||_{2}$\" )\n",
    "ax1.plot( np.log(space_steps) , [ np.log(e[1].noo) for e in errors_weno ] , \"x-\" , label = r\"$||\\cdot||_{\\infty}$\" )\n",
    "ax1.plot( np.log(space_steps) , 5*np.log(space_steps)+10 , \"--\" , label = \"slope of 5\")\n",
    "ax1.set_xlabel(r\"$\\log(\\Delta x)$\")\n",
    "ax1.set_ylabel(r\"$\\log(e)$\")\n",
    "ax1.legend()\n",
    "\n",
    "ax2.set_title(\"Order of \"+weno5l.name)\n",
    "ax2.plot( np.log(space_steps) , [ np.log(e[1].n1) for e in errors_wenol ] , \"x-\" , label = r\"$||\\cdot||_{1}$\" )\n",
    "ax2.plot( np.log(space_steps) , [ np.log(e[1].n2) for e in errors_wenol ] , \"x-\" , label = r\"$||\\cdot||_{2}$\" )\n",
    "ax2.plot( np.log(space_steps) , [ np.log(e[1].noo) for e in errors_wenol ] , \"x-\" , label = r\"$||\\cdot||_{\\infty}$\" )\n",
    "ax2.plot( np.log(space_steps) , 5*np.log(space_steps)+10 , \"--\" , label = \"slope of 5\")\n",
    "ax2.set_xlabel(r\"$\\log(\\Delta x)$\")\n",
    "ax2.set_ylabel(r\"$\\log(e)$\")\n",
    "ax2.legend()\n",
    "\n",
    "plt.show()\n",
    "\n",
    "del fig,ax1,ax2,space_steps,errors_weno,errors_wenol"
   ]
  },
  {
   "cell_type": "markdown",
   "metadata": {},
   "source": [
    "On remarque bien une pente d'ordre 5 avec le schéma WENO linéarisé.\n",
    "\n",
    "La linéarisation du schéma WENO suppose que la fonction est suffisamment régulière. On peut donc chercher à étuider son comportement face à une discontinuité, en transportant à vitesse 1 une fonction créneau. La condition initiale est donnée par :\n",
    "\n",
    "$$\n",
    "  u(t=0,x) = \\begin{cases}\n",
    "    4x & \\text{si } x\\in[0,\\frac{1}{4}] \\\\\n",
    "    1  & \\text{si } x\\in[\\frac{1}{4},\\frac{3}{4}] \\\\\n",
    "    0  & \\text{sinon}\n",
    "  \\end{cases}\n",
    "$$\n",
    "\n",
    "La simulation s'effectue jusqu'au temps $T_f = 1$ sur un domaine périodique $[0,1]$, avec $N_x = 20$ le nombre de points de disctétisation, et la condition CFL $\\Delta t = 0.1\\Delta x$ toujours avec le schéma Runge-Kutta d'ordre 3 RK(3,3). Le temps final étant un multiple du domaine en espace, avec une vitesse d'advection de 1, la solution exacte du problème est la condition initiale."
   ]
  },
  {
   "cell_type": "code",
   "execution_count": null,
   "metadata": {
    "tags": []
   },
   "outputs": [],
   "source": [
    "num_param = Data()\n",
    "num_param.N = 50\n",
    "num_param.X = np.linspace(0.,1.,num_param.N,endpoint=False)\n",
    "u_0 = 4.*num_param.X*(num_param.X<=0.25) + 1.*(num_param.X*(num_param.X<0.75)>0.25)\n",
    "\n",
    "num_param.Tf = 1\n",
    "num_param.dt = 0.1/num_param.N # = 0.1*dx\n",
    "\n",
    "schemes_u = {}\n",
    "for scheme in (cd2,weno5,weno5l):\n",
    "  print(scheme.name)\n",
    "  schemes_u[scheme] = transport(u_0,rk33_iter,lambda u,dx:-scheme.func(u,dx),num_param.Tf,num_param.dt)\n",
    "\n",
    "plt.plot(num_param.X,u_0,label=\"exact solution\")\n",
    "for scheme,u in schemes_u.items():\n",
    "  plt.plot(num_param.X,u,label=scheme.name)\n",
    "plt.legend()\n",
    "plt.show()\n",
    "\n",
    "del u_0, num_param,schemes_u,scheme,u"
   ]
  },
  {
   "cell_type": "markdown",
   "metadata": {},
   "source": [
    "On remarque que le schéma WENO linéarisé oscille à proximité d'une discontinuité, le schéma WENO classique quant à lui devient plus visqueux à l'aide des poids qui permettent d'effectuer une meilleure interpolation qu'une interpolation polynomiale de degré élevé induisant localement des oscillations."
   ]
  },
  {
   "cell_type": "markdown",
   "metadata": {},
   "source": [
    "On peut étudier la réponse du schéma WENO linéarisé à un cosinus. La méthode servant à approximer une dérivée, on peut vérifier ce comportement, connaissant la solution exacte."
   ]
  },
  {
   "cell_type": "code",
   "execution_count": null,
   "metadata": {},
   "outputs": [],
   "source": [
    "weno5l.ztilde.flux.subs(symbols_to(f_stencil,lambda j,_:sp.symbols(\"u_{j%+d}\"%j)))"
   ]
  },
  {
   "cell_type": "code",
   "execution_count": null,
   "metadata": {},
   "outputs": [],
   "source": [
    "data.phi100 = np.linspace(0,2.0*np.pi,100)\n",
    "data.deltaX = 2.*np.pi/data.phi100.size\n",
    "weno5l.ztilde.sinapprox = -sp.lambdify(x,weno5l.ztilde.flux.subs(symbols_to(f_stencil,lambda j,_:sp.cos(x+j*dx))).subs(dx,data.deltaX)/data.deltaX,'numpy')(data.phi100)\n",
    "plt.plot(data.phi100,weno5l.ztilde.sinapprox,label=weno5l.name+r\" reponse of $cos(x)$\")\n",
    "plt.plot(data.phi100,np.sin(data.phi100),\"-.\",label=\"sinus\")\n",
    "plt.xlabel(\"$x$\"); plt.ylabel(\"$u$\")\n",
    "plt.legend(loc=(0.,1.02),mode=\"expand\",borderaxespad=0.)\n",
    "plt.show()"
   ]
  },
  {
   "cell_type": "code",
   "execution_count": null,
   "metadata": {},
   "outputs": [],
   "source": [
    "plt.plot( np.fft.rfftfreq(weno5l.ztilde.sinapprox.size,2.*np.pi/data.phi.size) ,\n",
    "         np.abs(np.fft.rfft(weno5l.ztilde.sinapprox))*2./weno5l.ztilde.sinapprox.size , \".\" )\n",
    "plt.xlabel(r\"$\\kappa$\")\n",
    "plt.show()"
   ]
  },
  {
   "cell_type": "markdown",
   "metadata": {},
   "source": [
    "Le résultat semble satisfaisant, regardons maintenant la différence entre les deux. L'erreur commise par WENO est de $10^{-8}$, avec un $\\Delta x = \\frac{2\\pi}{100}$ (soit $\\Delta x^{6}$ ce qui est attendu avec un schéma d'ordre 5)."
   ]
  },
  {
   "cell_type": "code",
   "execution_count": null,
   "metadata": {},
   "outputs": [],
   "source": [
    "plt.plot(data.phi100,weno5l.ztilde.sinapprox-np.sin(data.phi100),label=\"difference between \"+weno5l.name+\" and exact solution\")\n",
    "plt.legend(loc=(0.,1.07),mode=\"expand\",borderaxespad=0.)\n",
    "plt.show()"
   ]
  },
  {
   "cell_type": "code",
   "execution_count": null,
   "metadata": {},
   "outputs": [],
   "source": [
    "(data.deltaX**5,max(weno5l.ztilde.sinapprox-np.sin(data.phi100),key=lambda x:np.abs(x)))"
   ]
  },
  {
   "cell_type": "markdown",
   "metadata": {},
   "source": [
    "On trouve bien une différence pas très loin de l'ordre de $\\Delta x^5$ ce qui nous permet, selon la définition de l'ordre, de considérer le schéma comme d'ordre 5.\n",
    "\n",
    "L'étude se faisant automatiquement avec `sympy`, il est simple d'effectuer cette étude de coefficients de Fourier avec le schéma WENO standard non linéarisé. L'étude de l'analyse de von Neumann aussi mais il est impossible de justifier mathématiquement les résultats obtenus."
   ]
  },
  {
   "cell_type": "code",
   "execution_count": null,
   "metadata": {},
   "outputs": [],
   "source": [
    "\"\"\"\n",
    "  complet WENO method\n",
    "\"\"\"\n",
    "epsilon = sp.symbols(\"\\\\epsilon\",real=True,positive=True)\n",
    "\n",
    "def weno5_flux () :\n",
    "  IS0 = sp.Rational(13,12)*( f(-2) - 2*f(-1) + f(+0) )**2 + sp.Rational(1,4)*( f(-2) - 4*f(-1) + 3*f(+0) )**2\n",
    "  IS1 = sp.Rational(13,12)*( f(-1) - 2*f(+0) + f(+1) )**2 + sp.Rational(1,4)*( f(-1) - f(+1) )**2\n",
    "  IS2 = sp.Rational(13,12)*( f(+0) - 2*f(+1) + f(+2) )**2 + sp.Rational(1,4)*( f(+2) - 4*f(+1) + 3*f(+0) )**2\n",
    "\n",
    "  a0 = sp.Rational(1,10)*(1/(epsilon+IS0))**2\n",
    "  a1 = sp.Rational(6,10)*(1/(epsilon+IS1))**2\n",
    "  a2 = sp.Rational(3,10)*(1/(epsilon+IS2))**2\n",
    "  \n",
    "  s = a0 + a1 + a2\n",
    "  w0 = a0 / s\n",
    "  w1 = a1 / s\n",
    "  w2 = a2 / s\n",
    "\n",
    "  fjp12 = ( w0*( sp.Rational(2,6)*f(-2) - sp.Rational(7,6)*f(-1) + sp.Rational(11,6)*f(+0) )\n",
    "          + w1*(-sp.Rational(1,6)*f(-1) + sp.Rational(5,6)*f(+0) +  sp.Rational(2,6)*f(+1) )\n",
    "          + w2*( sp.Rational(2,6)*f(+0) + sp.Rational(5,6)*f(+1) -  sp.Rational(1,6)*f(+2) ) )\n",
    "  # we define fjm12 as fjp12 where f(j) is substitute by f(j-1)\n",
    "  fjm12 = fjp12.subs(symbols_to(f_stencil, lambda j,_:f(j-1)),simultaneous=True)\n",
    "  \n",
    "  return fjp12 - fjm12\n",
    "\n",
    "weno5.flux = weno5_flux()\n",
    "del weno5_flux"
   ]
  },
  {
   "cell_type": "code",
   "execution_count": null,
   "metadata": {},
   "outputs": [],
   "source": [
    "weno5.sinapprox = sp.lambdify(x,-(weno5.flux.subs(symbols_to(f_stencil,lambda j,_:sp.cos(x+j*dx)))).subs(epsilon,10**(-6)).subs(dx,data.deltaX)/data.deltaX,'numpy')(data.phi100)\n",
    "plt.plot(data.phi100,weno5.sinapprox,label=weno5.name+r\" reponse of $cos(x)$\")\n",
    "plt.plot(data.phi100,np.sin(data.phi100),\"-.\",label=\"sinus\")\n",
    "plt.xlabel(\"$x$\"); plt.ylabel(\"$u$\")\n",
    "plt.legend(loc=(0.,1.02),mode=\"expand\",borderaxespad=0.)\n",
    "plt.show()"
   ]
  },
  {
   "cell_type": "code",
   "execution_count": null,
   "metadata": {},
   "outputs": [],
   "source": [
    "plt.plot( np.fft.rfftfreq(weno5.sinapprox.size,2.*np.pi/data.phi.size) ,\n",
    "         np.abs(np.fft.rfft(weno5.sinapprox))*2./weno5.sinapprox.size , '.' )\n",
    "plt.xlabel(r\"$\\kappa$\")\n",
    "plt.show()"
   ]
  },
  {
   "cell_type": "markdown",
   "metadata": {},
   "source": [
    "On peut maintenant tracer la différence entre les coefficients de Fourier des 2 résultats, entre WENO et WENO linéarisé."
   ]
  },
  {
   "cell_type": "code",
   "execution_count": null,
   "metadata": {},
   "outputs": [],
   "source": [
    "plt.plot( np.fft.rfftfreq(weno5.sinapprox.size,2.*np.pi/data.phi.size) ,\n",
    "          np.abs(np.fft.rfft(weno5.sinapprox))*2./weno5.sinapprox.size - np.abs(np.fft.rfft(weno5l.ztilde.sinapprox))*2./weno5l.ztilde.sinapprox.size ,\n",
    "         '.' , label=r\"$\\Delta \\hat{W}$\")\n",
    "plt.xlabel(r\"$\\kappa$\")\n",
    "plt.legend(loc=(0.,1.07),mode=\"expand\",borderaxespad=0.)\n",
    "plt.show()"
   ]
  },
  {
   "cell_type": "code",
   "execution_count": null,
   "metadata": {},
   "outputs": [],
   "source": [
    "(data.deltaX**5,max(weno5.sinapprox-np.sin(data.phi100),key=lambda x:np.abs(x)))"
   ]
  },
  {
   "cell_type": "markdown",
   "metadata": {},
   "source": [
    "## 1.2 Méthodes WENO modifiées"
   ]
  },
  {
   "cell_type": "markdown",
   "metadata": {},
   "source": [
    "Il existe différentes méthodes de calcul des poids du schéma WENO d'ordre 5, qui ont été listées et comparées [ici](https://github.com/wme7/WENO5-X) par Manuel A. Diaz. Nous étudirons ici leur différents coefficients d'amplification.\n",
    "\n",
    "La différence réside uniquement dans l'estimation des poids, les indicateurs de continuité $\\beta_i$ ainsi que les coefficients $\\gamma_i$ restent identique.\n",
    "\n",
    "| Méthode     | Calcul des poids $w_i$ | Parmètres |\n",
    "|-------------|------------------------|-----------|\n",
    "| **WENO-JS** | $$\\begin{aligned}\\alpha_i &\\gets \\frac{\\gamma_i}{(\\epsilon + \\beta_i)^2} \\\\ w_i &\\gets \\frac{\\alpha_i}{\\sum \\alpha_k} \\end{aligned}$$ | $\\epsilon = 10^{-6}$                              |\n",
    "| **WENO-M**  | $$\\begin{aligned}\\alpha_i &\\gets \\frac{\\gamma_i}{(\\epsilon + \\beta_i)^2} \\\\ w_i &\\gets \\frac{\\alpha_i}{\\sum \\alpha_k} \\\\ g_i &\\gets w_i\\left(\\frac{\\gamma_i + \\gamma_i^2 - 3w_i\\gamma_i + w_i^2}{\\gamma_i^2+w_i(1-2\\gamma_i)}\\right) \\\\ w_i &\\gets \\frac{g_i}{\\sum g_k} \\end{aligned}$$ | $\\epsilon = 10^{-6}$ |\n",
    "| **WENO-Z**  | $$\\begin{aligned}\\alpha_i &\\gets \\gamma_i\\left(1+\\frac{\\tau_5}{\\epsilon + \\beta_i}\\right) \\\\ w_i &\\gets \\frac{\\alpha_i}{\\sum \\alpha_k} \\end{aligned}$$ | $\\epsilon = 10^{-40}$, $\\tau_5 = |\\beta_0-\\beta_2|$ |\n",
    "\n",
    "La méthode WENO-JS est la méthode WENO *classique* de Jiang et Shu et sert juste pour la comparaison avec WENO-M (WENO avec une fonction de *mappage*) et WENO-Z. L'objectif de ces méthodes est de minimiser la perte d'ordre à l'approche d'une discontinuité, donc d'approter moins de viscosité numérique."
   ]
  },
  {
   "cell_type": "markdown",
   "metadata": {},
   "source": [
    "### 1.2.1 WENO-M"
   ]
  },
  {
   "cell_type": "markdown",
   "metadata": {},
   "source": [
    "La méthode WENO-M fonctionnne à l'aide d'une fonction dite de *mappage* : $g_i$. Cette fonction est définie par :\n",
    "\n",
    "$$\n",
    "  g_i : w \\mapsto w\\left( \\frac{\\gamma_i + \\gamma_i^2 - 3w\\gamma_i + w^2}{\\gamma_i^2 + w(1-2\\gamma_i)} \\right)\n",
    "$$"
   ]
  },
  {
   "cell_type": "code",
   "execution_count": null,
   "metadata": {},
   "outputs": [],
   "source": [
    "w,gamma_i = sp.symbols(\"w \\\\gamma_i\",real=True)\n",
    "g = w*(gamma_i+gamma_i**2-3*w*gamma_i+w**2)/(gamma_i**2+w*(1-2*gamma_i))\n",
    "\n",
    "plt.rcParams['figure.figsize'] = [6,6]\n",
    "linW = np.linspace(0,1.0,100)\n",
    "for i,gi in enumerate([sp.Rational(1,10),sp.Rational(6,10),sp.Rational(3,10)]) :\n",
    "  plt.plot(linW,sp.lambdify(w,g.subs(gamma_i,gi),'numpy')(linW),label=\"$g_{}$\".format(i),color=default.palette[i])\n",
    "  plt.axvline(gi,color=default.palette[i],linestyle='--',linewidth=1.)\n",
    "plt.plot(linW,linW,\"--\",label=\"identity map\",color=default.palette[3])\n",
    "plt.legend(loc=(0.,1.02),ncol=4,mode=\"expand\",borderaxespad=0.)\n",
    "plt.show()\n",
    "\n",
    "display(sp.Eq( sp.symbols(\"g_i'(\\\\gamma_i)\") , g.diff(w).subs(w,gamma_i).simplify() ))\n",
    "del w,gamma_i,g,linW,i,gi\n",
    "plt.rcParams['figure.figsize'] = default.figsize"
   ]
  },
  {
   "cell_type": "markdown",
   "metadata": {},
   "source": [
    "Les fonctions $g_i$ n'ont besoin d'être définie que sur l'intervalle $[0,1]$ puisque les poids d'une méthode WENO vérifient $\\sum_k w_k=1$ et $w_k\\leq0\\,\\forall k$. Les points fixes de la fonction de *mappage* $g_i$ sont les 2 valeurs triviales 0 et 1, ainsi que $\\gamma_i$ (la valeur linéarisé du poids). La fonction $g_i$ sera évaluée en $w_i = \\gamma_i + \\mathcal{O}(\\Delta x^2)$, ce qui nous intéresse est donc son évaluation en des points proches de $\\gamma_i$. On remarque que la dérivée de $g_i$ est nulle (donc un plateau) en $\\gamma_i$ et que $g_i(\\gamma_i) = \\gamma_i$, cela permet de forcer une certaine linéarisation des poids, sans pour autant faire apparaître des oscillations."
   ]
  },
  {
   "cell_type": "markdown",
   "metadata": {},
   "source": [
    "Pour une étude plus approfondie de cette méthode avec l'analyse de *von Neumann*, on peut remarquer que la linéarisation des poids donne toujours $w_i = \\gamma_i + \\mathcal{O}(\\Delta x^2)$. L'analyse qui en suit sera identique."
   ]
  },
  {
   "cell_type": "code",
   "execution_count": null,
   "metadata": {},
   "outputs": [],
   "source": [
    "def _wenom(u_i,dx):\n",
    "  \"\"\"\n",
    "    _wenom\n",
    "    return the WENO-M approximation of $\\partial_x u$\n",
    "  \"\"\"\n",
    "  def g(gi,w):\n",
    "    return w*(( gi + gi*gi - 3.*w*gi + w*w )/( gi*gi + w*(1.-2.*gi) ))\n",
    "\n",
    "  u_ip2 = np.array([*u_i[2:],*u_i[:2]])\n",
    "  u_ip1 = np.array([*u_i[1:],*u_i[:1]])\n",
    "  u_im1 = np.array([*u_i[-1:],*u_i[:-1]])\n",
    "  u_im2 = np.array([*u_i[-2:],*u_i[:-2]])\n",
    "  b0 = 13./12.*np.square( u_im2 - 2.*u_im1 + u_i   ) + 0.25*np.square(    u_im2 - 4.*u_im1 + 3.*u_i   )\n",
    "  b1 = 13./12.*np.square( u_im1 - 2.*u_i   + u_ip1 ) + 0.25*np.square(    u_im1            -    u_ip1 )\n",
    "  b2 = 13./12.*np.square( u_i   - 2.*u_ip1 + u_ip2 ) + 0.25*np.square( 3.*u_i   - 4.*u_ip1 +    u_ip2 )\n",
    "  alpha  = [ g_i/np.square(b_i+1e-6) for b_i,g_i in zip((b0,b1,b2),(0.1,0.6,0.3)) ]\n",
    "  sum_alpha = sum(alpha)\n",
    "  w0,w1,w2 = [ a_i/sum_alpha for a_i in alpha ]\n",
    "  g_weights = [ g(gi,w) for gi,w in zip((0.1,0.6,0.3),(w0,w1,w2)) ]\n",
    "  sum_g = sum(g_weights)\n",
    "  w0,w1,w2 = [ g_i/sum_g for g_i in g_weights ]\n",
    "\n",
    "  fip12 = ( w0*( (2./6.)*u_im2 - (7./6.)*u_im1 + (11./6.)*u_i   )\n",
    "          + w1*(-(1./6.)*u_im1 + (5./6.)*u_i   +  (2./6.)*u_ip1 )\n",
    "          + w2*( (2./6.)*u_i   + (5./6.)*u_ip1 -  (1./6.)*u_ip2 ))\n",
    "  fim12 = np.array([*fip12[-1:],*fip12[:-1]])\n",
    "\n",
    "  return (fip12-fim12)/dx\n",
    "\n",
    "weno5m = Data()\n",
    "weno5m.name = \"WENO5-M\"\n",
    "weno5m.func = _wenom\n",
    "del _wenom"
   ]
  },
  {
   "cell_type": "code",
   "execution_count": null,
   "metadata": {
    "tags": []
   },
   "outputs": [],
   "source": [
    "num_param = Data()\n",
    "num_param.N = 50\n",
    "num_param.X = np.linspace(0.,1.,num_param.N,endpoint=False)\n",
    "u_0 = 4.*num_param.X*(num_param.X<=0.25) + 1.*(num_param.X*(num_param.X<0.75)>0.25)\n",
    "\n",
    "num_param.Tf = 1\n",
    "num_param.dt = 0.1/num_param.N # = 0.1*dx\n",
    "\n",
    "schemes_u = {}\n",
    "for scheme in (weno5,weno5m,weno5l):\n",
    "  schemes_u[scheme] = transport(u_0,rk33_iter,lambda u,dx:-scheme.func(u,dx),num_param.Tf,num_param.dt)\n",
    "\n",
    "plt.rcParams['figure.figsize'] = [9,7]\n",
    "\n",
    "plt.plot(num_param.X,u_0,label=\"exact solution\")\n",
    "for scheme,u in schemes_u.items():\n",
    "  plt.plot(num_param.X,u,label=scheme.name)\n",
    "plt.legend()\n",
    "plt.show()\n",
    "\n",
    "plt.rcParams['figure.figsize'] = default.figsize\n",
    "del u_0, num_param,schemes_u,scheme,u"
   ]
  },
  {
   "cell_type": "markdown",
   "metadata": {},
   "source": [
    "On vérifie l'ordre de la méthode, qui est bien d'ordre 5."
   ]
  },
  {
   "cell_type": "code",
   "execution_count": null,
   "metadata": {},
   "outputs": [],
   "source": [
    "num_param = Data()\n",
    "num_param.dt = 1./400\n",
    "num_param.Tf = 1.\n",
    "\n",
    "errors_wenom = []\n",
    "\n",
    "for N in range(10,200,10):\n",
    "    num_param.X = np.linspace(0.,1.,N,endpoint=False)\n",
    "    u_0 = np.cos(2.*np.pi*num_param.X)\n",
    "    u_e = np.cos(2.*np.pi*(num_param.X - num_param.Tf))\n",
    "    u_f = transport(u_0,rk33_iter,lambda u,dx:-weno5m.func(u,dx) ,num_param.Tf,num_param.dt)\n",
    "    errors_wenom.append( (N,error(u_f,u_e)) )\n",
    "\n",
    "space_steps = np.array([ 1./e[0] for e in errors_wenom ])\n",
    "\n",
    "plt.title(\"Order of \"+weno5m.name)\n",
    "plt.plot( np.log(space_steps) , [ np.log(e[1].n1) for e in errors_wenom ] , \"x-\" , label = r\"$||\\cdot||_{1}$\" )\n",
    "plt.plot( np.log(space_steps) , [ np.log(e[1].n2) for e in errors_wenom ] , \"x-\" , label = r\"$||\\cdot||_{2}$\" )\n",
    "plt.plot( np.log(space_steps) , [ np.log(e[1].noo) for e in errors_wenom ] , \"x-\" , label = r\"$||\\cdot||_{\\infty}$\" )\n",
    "plt.plot( np.log(space_steps) , 5*np.log(space_steps)+10 , \"--\" , label = \"slope of 5\")\n",
    "plt.xlabel(r\"$\\log(\\Delta x)$\")\n",
    "plt.ylabel(r\"$\\log(e)$\")\n",
    "plt.legend()\n",
    "\n",
    "del N,num_param,u_0,u_e,u_f,space_steps,errors_wenom"
   ]
  },
  {
   "cell_type": "markdown",
   "metadata": {},
   "source": [
    "### 1.2.2 WENO-Z"
   ]
  },
  {
   "cell_type": "markdown",
   "metadata": {},
   "source": [
    "La méthode WENO-Z consiste à minimiser la baisse d'ordre à l'approche d'une discontinuité. Dans le cadre de la simulation de plasmas, nous savons que nos fonctions de distribution seront continue, l'ordre élevé est nécessaire pour capturer correctement les forts gradients.\n",
    "\n",
    "Pour l'analyse de stabilité, la linéarisation des poids donne aussi $w_i = \\gamma_i + \\mathcal{O}(\\Delta x^2)$, l'analyse de *von Neumann* du schéma linéarisé reste donc la même."
   ]
  },
  {
   "cell_type": "code",
   "execution_count": null,
   "metadata": {
    "tags": []
   },
   "outputs": [],
   "source": [
    "def _wenoz(u_i,dx):\n",
    "  \"\"\"\n",
    "    _wenoz\n",
    "    return the WENO-z approximation of $\\partial_x u$\n",
    "  \"\"\"\n",
    "  u_ip2 = np.array([*u_i[2:],*u_i[:2]])\n",
    "  u_ip1 = np.array([*u_i[1:],*u_i[:1]])\n",
    "  u_im1 = np.array([*u_i[-1:],*u_i[:-1]])\n",
    "  u_im2 = np.array([*u_i[-2:],*u_i[:-2]])\n",
    "  b0 = 13./12.*np.square( u_im2 - 2.*u_im1 + u_i   ) + 0.25*np.square(    u_im2 - 4.*u_im1 + 3.*u_i   )\n",
    "  b1 = 13./12.*np.square( u_im1 - 2.*u_i   + u_ip1 ) + 0.25*np.square(    u_im1            -    u_ip1 )\n",
    "  b2 = 13./12.*np.square( u_i   - 2.*u_ip1 + u_ip2 ) + 0.25*np.square( 3.*u_i   - 4.*u_ip1 +    u_ip2 )\n",
    "  tau5 = np.abs(b0-b2)\n",
    "  alpha  = [ g_i*(1. + tau5/(1e-40 + b_i)) for b_i,g_i in zip((b0,b1,b2),(0.1,0.6,0.3)) ]\n",
    "  sum_alpha = sum(alpha)\n",
    "  w0,w1,w2 = [ a_i/sum_alpha for a_i in alpha ]\n",
    "\n",
    "  fip12 = ( w0*( (2./6.)*u_im2 - (7./6.)*u_im1 + (11./6.)*u_i   )\n",
    "          + w1*(-(1./6.)*u_im1 + (5./6.)*u_i   +  (2./6.)*u_ip1 )\n",
    "          + w2*( (2./6.)*u_i   + (5./6.)*u_ip1 -  (1./6.)*u_ip2 ))\n",
    "  fim12 = np.array([*fip12[-1:],*fip12[:-1]])\n",
    "\n",
    "  return (fip12-fim12)/dx\n",
    "\n",
    "weno5z = Data()\n",
    "weno5z.name = \"WENO5-Z\"\n",
    "weno5z.func = _wenoz\n",
    "del _wenoz"
   ]
  },
  {
   "cell_type": "markdown",
   "metadata": {},
   "source": [
    "On représente tous les schémas WENO d'ordre 5, ainsi que la version linéarisé pour les comparer. Tout d'abord avec la condition initiale qui fait intervenir une dicontinuité de gradient et une dicontinuité en temps court $T_f=1$, c'est-à-dire une seule période du domaine.\n",
    "\n",
    "$$\n",
    "  u(t=0,x) = u_0(x) = \\begin{cases}\n",
    "    4x & \\text{si } x\\in[0,\\frac{1}{4}] \\\\\n",
    "    1  & \\text{si } x\\in[\\frac{1}{4},\\frac{3}{4}] \\\\\n",
    "    0  & \\text{sinon}\n",
    "  \\end{cases}\n",
    "$$\n",
    "\n",
    "On remarque que la version linéarisé réagit très bien à la discontinuité du gradient mais oscille au niveau de la discontinuité. Le schéma WENO-Z est bien celui minimisant la perte d'ordre, donc la viscosité, sans osciller au niveau de la dicontinuité."
   ]
  },
  {
   "cell_type": "code",
   "execution_count": null,
   "metadata": {},
   "outputs": [],
   "source": [
    "num_param = Data()\n",
    "num_param.N = 50\n",
    "num_param.X = np.linspace(0.,1.,num_param.N,endpoint=False)\n",
    "u_0 = 4.*num_param.X*(num_param.X<=0.25) + 1.*(num_param.X*(num_param.X<0.75)>0.25)\n",
    "\n",
    "num_param.Tf = 1\n",
    "num_param.dt = 0.1/num_param.N # = 0.1*dx\n",
    "\n",
    "schemes_u = {}\n",
    "for scheme in (weno5,weno5m,weno5z,weno5l):\n",
    "  schemes_u[scheme] = transport(u_0,rk33_iter,lambda u,dx:-scheme.func(u,dx),num_param.Tf,num_param.dt)\n",
    "\n",
    "plt.rcParams['figure.figsize'] = [9,7]\n",
    "\n",
    "plt.plot(num_param.X,u_0,label=\"exact solution\")\n",
    "for scheme,u in schemes_u.items():\n",
    "  plt.plot(num_param.X,u,label=scheme.name)\n",
    "plt.legend()\n",
    "plt.show()\n",
    "\n",
    "plt.rcParams['figure.figsize'] = default.figsize\n",
    "del u_0, num_param,schemes_u,scheme,u"
   ]
  },
  {
   "cell_type": "markdown",
   "metadata": {},
   "source": [
    "On regarde aussi la réponse des différents schémas face à un créneau, toujours en temps court $T_f = 1$.\n",
    "\n",
    "$$\n",
    "  u(t=0,x) = u_0(x) = \\mathbb{1}_{[\\frac{1}{4},\\frac{3}{4}]}(x)\n",
    "$$"
   ]
  },
  {
   "cell_type": "code",
   "execution_count": null,
   "metadata": {},
   "outputs": [],
   "source": [
    "num_param = Data()\n",
    "num_param.N = 50\n",
    "num_param.X = np.linspace(0.,1.,num_param.N,endpoint=False)\n",
    "u_0 = 1.*(num_param.X*(num_param.X<0.75)>0.25)\n",
    "\n",
    "num_param.Tf = 1\n",
    "num_param.dt = 0.1/num_param.N # = 0.1*dx\n",
    "\n",
    "schemes_u = {}\n",
    "for scheme in (weno5,weno5m,weno5z,weno5l):\n",
    "  schemes_u[scheme] = transport(u_0,rk33_iter,lambda u,dx:-scheme.func(u,dx),num_param.Tf,num_param.dt)\n",
    "\n",
    "plt.rcParams['figure.figsize'] = [9,7]\n",
    "\n",
    "plt.plot(num_param.X,u_0,label=\"exact solution\")\n",
    "for scheme,u in schemes_u.items():\n",
    "  plt.plot(num_param.X,u,label=scheme.name)\n",
    "plt.legend()\n",
    "plt.show()\n",
    "\n",
    "plt.rcParams['figure.figsize'] = default.figsize\n",
    "del u_0, num_param,schemes_u,scheme,u"
   ]
  },
  {
   "cell_type": "markdown",
   "metadata": {},
   "source": [
    "Avant de faire des tests en temps long, nous allons vérifier l'ordre de la méthode WENO-Z."
   ]
  },
  {
   "cell_type": "code",
   "execution_count": null,
   "metadata": {},
   "outputs": [],
   "source": [
    "num_param = Data()\n",
    "num_param.dt = 1./400\n",
    "num_param.Tf = 1.\n",
    "\n",
    "errors_wenoz = []\n",
    "\n",
    "for N in range(10,200,10):\n",
    "    num_param.X = np.linspace(0.,1.,N,endpoint=False)\n",
    "    u_0 = np.cos(2.*np.pi*num_param.X)\n",
    "    u_e = np.cos(2.*np.pi*(num_param.X - num_param.Tf))\n",
    "    u_f = transport(u_0,rk33_iter,lambda u,dx:-weno5z.func(u,dx) ,num_param.Tf,num_param.dt)\n",
    "    errors_wenoz.append( (N,error(u_f,u_e)) )\n",
    "\n",
    "space_steps = np.array([ 1./e[0] for e in errors_wenoz ])\n",
    "\n",
    "plt.title(\"Order of \"+weno5z.name)\n",
    "plt.plot( np.log(space_steps) , [ np.log(e[1].n1) for e in errors_wenoz ] , \"x-\" , label = r\"$||\\cdot||_{1}$\" )\n",
    "plt.plot( np.log(space_steps) , [ np.log(e[1].n2) for e in errors_wenoz ] , \"x-\" , label = r\"$||\\cdot||_{2}$\" )\n",
    "plt.plot( np.log(space_steps) , [ np.log(e[1].noo) for e in errors_wenoz ] , \"x-\" , label = r\"$||\\cdot||_{\\infty}$\" )\n",
    "plt.plot( np.log(space_steps) , 5*np.log(space_steps)+10 , \"--\" , label = \"slope of 5\")\n",
    "plt.xlabel(r\"$\\log(\\Delta x)$\")\n",
    "plt.ylabel(r\"$\\log(e)$\")\n",
    "plt.legend()\n",
    "\n",
    "del N,num_param,u_0,u_e,u_f,space_steps,errors_wenoz"
   ]
  },
  {
   "cell_type": "markdown",
   "metadata": {},
   "source": [
    "Maintenant nous allons effectuer 3 tests en temps long, $T_f=100$. Les deux premiers se feront avec les mêmes conditions initiales que précédemment :\n",
    "\n",
    "$$\n",
    "  u(t=0,x) = u_0(x) = \\begin{cases}\n",
    "    4x & \\text{si } x\\in[0,\\frac{1}{4}] \\\\\n",
    "    1  & \\text{si } x\\in[\\frac{1}{4},\\frac{3}{4}] \\\\\n",
    "    0  & \\text{sinon}\n",
    "  \\end{cases}\n",
    "$$\n",
    "\n",
    "$$\n",
    "  u(t=0,x) = u_0(x) = \\mathbb{1}_{[\\frac{1}{4},\\frac{3}{4}]}(x)\n",
    "$$\n",
    "\n",
    "Le troiìeme test s'effectue sur une fonction chapeau, en temps court celle-ci ne présente pas de réel intérêt, en temps plus long on y voit apparaître les défauts des différents schémas dans des conditions plus favorable d'un créneau.\n",
    "\n",
    "$$\n",
    "  u(t=0,x) = u_0(x) = \\begin{cases}\n",
    "     4x-1 & \\text{si } x\\in[\\frac{1}{4},\\frac{1}{2}] \\\\\n",
    "    -4x+3 & \\text{si } x\\in[\\frac{1}{2},\\frac{3}{4}] \\\\\n",
    "    0     & \\text{sinon}\n",
    "  \\end{cases}\n",
    "$$"
   ]
  },
  {
   "cell_type": "code",
   "execution_count": null,
   "metadata": {
    "tags": []
   },
   "outputs": [],
   "source": [
    "num_param = Data()\n",
    "num_param.N = 100\n",
    "num_param.X = np.linspace(0.,1.,num_param.N,endpoint=False)\n",
    "u_0 = 1.*(num_param.X*(num_param.X<0.75)>0.25)\n",
    "\n",
    "num_param.Tf = 100\n",
    "num_param.dt = 0.1/num_param.N # = 0.1*dx\n",
    "\n",
    "schemes_u = {}\n",
    "for scheme in (weno5,weno5m,weno5z,weno5l):\n",
    "  print(scheme.name)\n",
    "  schemes_u[scheme] = transport(u_0,rk33_iter,lambda u,dx:-scheme.func(u,dx),num_param.Tf,num_param.dt)\n",
    "\n",
    "fig, (ax1,ax2,ax3) = plt.subplots(3,1,figsize=(12,12))\n",
    "ax1.plot(num_param.X,u_0,label=\"exact solution\",color=default.palette[0])\n",
    "ax2.plot(num_param.X,u_0,color=default.palette[0])\n",
    "ax3.plot(num_param.X,u_0,color=default.palette[0])\n",
    "i=0\n",
    "for scheme,u in schemes_u.items():\n",
    "  ax1.plot(num_param.X,u,label=scheme.name,color=default.palette[(i+1)%len(default.palette)])\n",
    "  ax2.plot(num_param.X,u,color=default.palette[(i+1)%len(default.palette)])\n",
    "  ax3.plot(num_param.X,u,color=default.palette[(i+1)%len(default.palette)])\n",
    "  i+=1\n",
    "\n",
    "ax2.set_ylim([-0.05,0.05])\n",
    "ax3.set_ylim([0.95,1.05])\n",
    "fig.legend(loc=(0.071,0.93),ncol=len(schemes_u)+1)\n",
    "fig.show()\n",
    "\n",
    "for scheme,u in schemes_u.items():\n",
    "  print(scheme.name,sum(u<0))\n",
    "\n",
    "del u_0,fig,ax1,ax2,ax3,num_param,schemes_u,scheme,u,i"
   ]
  },
  {
   "cell_type": "code",
   "execution_count": null,
   "metadata": {
    "tags": []
   },
   "outputs": [],
   "source": [
    "num_param = Data()\n",
    "num_param.N = 100\n",
    "num_param.X = np.linspace(0.,1.,num_param.N,endpoint=False)\n",
    "u_0 = 4.*num_param.X*(num_param.X<=0.25) + 1.*(num_param.X*(num_param.X<0.75)>0.25)\n",
    "\n",
    "num_param.Tf = 100\n",
    "num_param.dt = 0.1/num_param.N # = 0.1*dx\n",
    "\n",
    "schemes_u = {}\n",
    "for scheme in (weno5,weno5m,weno5z,weno5l):\n",
    "  print(scheme.name)\n",
    "  schemes_u[scheme] = transport(u_0,rk33_iter,lambda u,dx:-scheme.func(u,dx),num_param.Tf,num_param.dt)\n",
    "\n",
    "fig, (ax1,ax2,ax3) = plt.subplots(3,1,figsize=(12,12))\n",
    "ax1.plot(num_param.X,u_0,label=\"exact solution\",color=default.palette[0])\n",
    "ax2.plot(num_param.X,u_0,color=default.palette[0])\n",
    "ax3.plot(num_param.X,u_0,color=default.palette[0])\n",
    "i=0\n",
    "for scheme,u in schemes_u.items():\n",
    "  ax1.plot(num_param.X,u,label=scheme.name,color=default.palette[(i+1)%len(default.palette)])\n",
    "  ax2.plot(num_param.X,u,color=default.palette[(i+1)%len(default.palette)])\n",
    "  ax3.plot(num_param.X,u,color=default.palette[(i+1)%len(default.palette)])\n",
    "  i+=1\n",
    "\n",
    "ax2.set_ylim([-0.05,0.05])\n",
    "ax3.set_ylim([0.95,1.05])\n",
    "fig.legend(loc=(0.071,0.93),ncol=len(schemes_u)+1)\n",
    "fig.show()\n",
    "\n",
    "for scheme,u in schemes_u.items():\n",
    "  print(scheme.name,sum(u<0))\n",
    "\n",
    "del u_0,fig,ax1,ax2,ax3,num_param,schemes_u,scheme,u,i"
   ]
  },
  {
   "cell_type": "code",
   "execution_count": null,
   "metadata": {
    "tags": []
   },
   "outputs": [],
   "source": [
    "num_param = Data()\n",
    "num_param.N = 100\n",
    "num_param.X = np.linspace(0.,1.,num_param.N,endpoint=False)\n",
    "u_0 = (4.*num_param.X-1)*(num_param.X*(num_param.X<=0.5)>0.25) + (-4.*num_param.X+3)*(num_param.X*(num_param.X<0.75)>0.5)\n",
    "\n",
    "num_param.Tf = 100\n",
    "num_param.dt = 0.1/num_param.N # = 0.1*dx\n",
    "\n",
    "schemes_u = {}\n",
    "for scheme in (weno5,weno5m,weno5z,weno5l):\n",
    "  print(scheme.name)\n",
    "  schemes_u[scheme] = transport(u_0,rk33_iter,lambda u,dx:-scheme.func(u,dx),num_param.Tf,num_param.dt)\n",
    "\n",
    "fig, (ax1,ax2,ax3) = plt.subplots(3,1,figsize=(12,12))\n",
    "ax1.plot(num_param.X,u_0,label=\"exact solution\",color=default.palette[0])\n",
    "ax2.plot(num_param.X,u_0,color=default.palette[0])\n",
    "ax3.plot(num_param.X,u_0,color=default.palette[0])\n",
    "i=0\n",
    "for scheme,u in schemes_u.items():\n",
    "  ax1.plot(num_param.X,u,label=scheme.name,color=default.palette[(i+1)%len(default.palette)])\n",
    "  ax2.plot(num_param.X,u,color=default.palette[(i+1)%len(default.palette)])\n",
    "  ax3.plot(num_param.X,u,color=default.palette[(i+1)%len(default.palette)])\n",
    "  i+=1\n",
    "\n",
    "ax2.set_ylim([-0.05,0.05])\n",
    "ax3.set_ylim([0.75,1]); ax3.set_xlim([0.4,0.6])\n",
    "fig.legend(loc=(0.071,0.93),ncol=len(schemes_u)+1)\n",
    "fig.show()\n",
    "\n",
    "for scheme,u in schemes_u.items():\n",
    "  print(scheme.name,sum(u<0))\n",
    "\n",
    "del u_0,fig,ax1,ax2,ax3,num_param,schemes_u,scheme,u,i"
   ]
  },
  {
   "cell_type": "markdown",
   "metadata": {},
   "source": [
    "## 1.3 B-WENO"
   ]
  },
  {
   "cell_type": "markdown",
   "metadata": {},
   "source": [
    "[[Banks J. W. et al (2019)]](https://github.com/Kivvix/miMaS/blob/master/bibliography/pdf/2019-Banks.pdf) est proposé une modification du schéma WENO plus intéressante pour l'étude de l'équation de Vlasov. Nous étudierons ici la présentation effectuée dans la seconde publication. Dans la continuation des schémas d'ordre élevé en espace, nous nous intéresserons au schéma BWENO d'ordre 6 présenté.\n",
    "\n",
    "L'idée de ce schéma reste similaire à celle du WENO dans l'esprit du calcul de poids non linéaire s'adaptant aux irrégularités de la fonction. Le nombre de poids est en revanche limité à 2, et ceux-ci ne sont plus des polynôme en $\\left(f_{i+k}^4\\right)_{k\\in [\\![ -3,3 ]\\!]}$ mais seulement de degré 2 : $\\left(f_{i+k}^2\\right)_{k\\in [\\![ -3,3 ]\\!]}$. Cette diminution du nombre de multiplication peut rendre ce schéma compétitif au niveau du temps de calcul. Les solutions attendues dans la simulation de plasmas avec l'équation de Vlasov-Poisson sont régulières, l'ordre élevé des schémas sert à capturer les forts gradients de la solution qui peuvent apparaître lors de la filamentation.\n",
    "\n",
    "Le flux $\\hat{u}^{(B)}_{j-\\frac{1}{2}}$ du schéma BWENO d'ordre $p$ s'obtient par l'addition pondéré de 2 interpolations $L$ et $R$, d'ordre $p-1$. Nous ne nous intéresserons ici qu'à la méthode d'ordre 6, nous nous abstiendrons donc d'indiquer l'ordre.\n",
    "\n",
    "$$\n",
    "  \\hat{u}^{(B)}_{j-\\frac{1}{2}} = w^{(L)}_{j-\\frac{1}{2}}u^{(L)}_{j-\\frac{1}{2}} + w^{(R)}_{j-\\frac{1}{2}}u^{(R)}_{j-\\frac{1}{2}}\n",
    "$$\n",
    "\n",
    "L'écriture du schéma commence par l'estimation des indicateurs de continuité :\n",
    "\n",
    "$$\n",
    "  \\begin{aligned}\n",
    "      \\beta(u_i) = (\\Delta^1_4u_i)\\left( (\\Delta^1_4u_i) + (\\Delta^2_4u_i) + \\frac{1}{3}(\\Delta^3_2u_i) + \\frac{1}{12}(\\Delta^4_2u_i) \\right) \\\\\n",
    "      + (\\Delta^2_4u_i)\\left( \\frac{4}{3}(\\Delta^2_4u_i) + \\frac{5}{4}(\\Delta^3_2u_i) + \\frac{2}{5}(\\Delta^4_2u_i) \\right) \\\\\n",
    "      + (\\Delta^3_2u_i)\\left( \\frac{83}{60}(\\Delta^3_2u_i) + \\frac{23}{18}(\\Delta^4_2u_i) \\right) \\\\\n",
    "      + \\frac{437}{315}(\\Delta^4_2u_i)^2\n",
    "  \\end{aligned}\n",
    "$$\n",
    "\n",
    "où les $(\\Delta^d_pu_i)$ sont des approximations d'ordre $p$ de la dérivée d'ordre $d$ :\n",
    "\n",
    "$$\n",
    "  \\begin{aligned}\n",
    "    (\\Delta^1_4u_i) &= \\frac{1}{12}\\left( -u_{j+2} +  8u_{j+1}           -  8u_{j-1} + u_{j-2} \\right) \\\\\n",
    "    (\\Delta^2_4u_i) &= \\frac{1}{12}\\left( -u_{j+2} + 16u_{j+1} - 30u_{j} + 16u_{j-1} - u_{j-2} \\right) \\\\\n",
    "    (\\Delta^3_2u_i) &=  \\frac{1}{2}\\left(  u_{j+2} -  2u_{j+1}           +  2u_{j-1} - u_{j-2} \\right) \\\\\n",
    "    (\\Delta^4_2u_i) &=             \\left(  u_{j+2} -  4u_{j+1} +  6u_{j} -  4u_{j-1} + u_{j-2} \\right) \\\\\n",
    "  \\end{aligned}\n",
    "$$\n",
    "\n",
    "Nous prendrons $\\beta^{(L)}_{j-\\frac{1}{2}} = \\beta(u_{j-1})$ et $\\beta^{(R)}_{j-\\frac{1}{2}} = \\beta(u_j)$ comme indicateurs de continuité respectivement à gauche et à droite.\n",
    "\n",
    "Les 2 poids non normalisés sont :\n",
    "\n",
    "$$\n",
    "  a^{(\\Xi)}_{j-\\frac{1}{2}} = \\frac{d}{\\epsilon + \\beta^{(\\Xi)}_{j-\\frac{1}{2}}}\n",
    "$$\n",
    "\n",
    "où $\\Xi = L,R$, $d=\\frac{1}{2}$ et $\\epsilon$ un paramètre pour éviter la nullité du dénominateur. Ce qui nous donne les poids :\n",
    "\n",
    "$$\n",
    "  \\tilde{w}^{(\\Xi)}_{j-\\frac{1}{2}} = \\frac{a^{(\\Xi)}_{j-\\frac{1}{2}}}{a^{(L)}_{j-\\frac{1}{2}}+a^{(R)}_{j-\\frac{1}{2}}}\n",
    "$$\n",
    "\n",
    "Les poids sont ensuites classé selon la direction, ici pour une vitesse positive (dans l'étude du schéma nous prendrons $v=1$) :\n",
    "\n",
    "$$\n",
    "  \\begin{cases}\n",
    "    w^{(L)} = \\max\\left(\\tilde{w}^{(L)}_{j-\\frac{1}{2}},\\tilde{w}^{(R)}_{j-\\frac{1}{2}}\\right) \\\\\n",
    "    w^{(R)} = \\min\\left(\\tilde{w}^{(L)}_{j-\\frac{1}{2}},\\tilde{w}^{(R)}_{j-\\frac{1}{2}}\\right)\n",
    "  \\end{cases}\n",
    "$$\n",
    "\n",
    "Les flux à gauche et à droite sont maintenant calculés comme suit :\n",
    "\n",
    "$$\n",
    "  \\begin{cases}\n",
    "    \\hat{u}^{(L)}_{j-\\frac{1}{2}} = \\frac{1}{60}\\left( -3u_{j+1}+27u_{j}+47u_{j-1} -13u_{j-2} + 2u_{j-3} \\right) \\\\\n",
    "    \\hat{u}^{(R)}_{j-\\frac{1}{2}} = \\frac{1}{60}\\left( 2u_{j+2}-13u_{j+1}+47u_{j}+27u_{j-1}-3u_{j-2}  \\right) \\\\\n",
    "  \\end{cases}\n",
    "$$\n",
    "\n",
    "On peut enfin calculer une approximation de $\\partial_x u$ à l'aide du flux de BWENO par :\n",
    "\n",
    "$$\n",
    "  \\partial_x u \\approx \\frac{1}{\\Delta x}\\left( \\hat{u}^{(B)}_{j+\\frac{1}{2}} - \\hat{u}^{(B)}_{j-\\frac{1}{2}} \\right)\n",
    "$$\n",
    "\n",
    "> Pour l'étude du schéma BWENO, l'article [[Banks J. W. et al (2019)]](https://github.com/Kivvix/miMaS/blob/master/bibliography/pdf/2019-Banks.pdf) propose une linéarisation du schéma en prenant les poids $w^L$, $w^R$ égaux à différents couples de nombres positifs vérifiant que $w^L+w^R=1$, ainsi est tracé le coefficient d'amplification pour $w^L=1,\\frac{3}{4},\\frac{1}{2}$. En effet différents éléments empêche facilement d'écrire les poids sous la forme $w_i = \\gamma_i + \\mathcal{O}(\\Delta x^2)$ comme les précédentes modifications du schéma WENO."
   ]
  },
  {
   "cell_type": "code",
   "execution_count": null,
   "metadata": {},
   "outputs": [],
   "source": [
    "def bweno5_flux ( wl=None , wr=None ) :\n",
    "  \"\"\"\n",
    "    return expression of all BWENO scheme\n",
    "    it could be linearized with optional special weight `wl` and `wr`. By default it is not linearized,\n",
    "    if only `wl` is done then `wr = 1-wl`.\n",
    "  \"\"\"\n",
    "  \n",
    "  def beta ( k ) :\n",
    "    \"\"\"\n",
    "      Indicator of smootheness of BWENO method\n",
    "    \"\"\"\n",
    "    D14uj = sp.Rational(1,12)*( -f(k+2) +  8*f(k+1)             -  8*f(k-1) + f(k-2) )\n",
    "    D24uj = sp.Rational(1,12)*( -f(k+2) + 16*f(k+1) - 30*f(k+0) + 16*f(k-1) - f(k-2) )\n",
    "    D32uj =  sp.Rational(1,2)*(  f(k+2) -  2*f(k+1)             +  2*f(k-1) - f(k-2) )\n",
    "    D42uj =                   (  f(k+2) -  4*f(k+1) +  6*f(k+0) -  4*f(k-1) + f(k-2) )\n",
    "\n",
    "    return ( D14uj*( D14uj + D24uj + sp.Rational(1,3)*D32uj + sp.Rational(1,12)*D42uj )\n",
    "           + D24uj*( sp.Rational(4,3)*D24uj + sp.Rational(5,4)*D32uj + sp.Rational(2,5)*D42uj )\n",
    "           + D32uj*( sp.Rational(83,60)*D32uj + sp.Rational(23,18)*D42uj )\n",
    "           + sp.Rational(437,315)*D42uj*D42uj )\n",
    "  \n",
    "  if wl==None :\n",
    "    b5Rjm12 = beta(0)\n",
    "    b5Ljm12 = beta(-1)\n",
    "\n",
    "    a5Ljm12 = sp.Rational(1,2)/( epsilon + b5Ljm12 )\n",
    "    a5Rjm12 = sp.Rational(1,2)/( epsilon + b5Rjm12 )\n",
    "    \n",
    "    wt5Ljm12 = a5Ljm12 / ( a5Ljm12 + a5Rjm12 )\n",
    "    wt5Rjm12 = a5Rjm12 / ( a5Ljm12 + a5Rjm12 )\n",
    "    \n",
    "    w5Ljm12 = sp.Max(wt5Ljm12,wt5Rjm12)\n",
    "    w5Rjm12 = sp.Min(wt5Ljm12,wt5Rjm12)\n",
    "  else :\n",
    "    w5Ljm12 = wl\n",
    "    if wr == None:\n",
    "      w5Rjm12 = 1-wl\n",
    "    else:\n",
    "      w5Rjm12 = wr\n",
    "  \n",
    "  u5Ljm12 = sp.Rational(1,60)*( -3*f(+1) + 27*f(+0) + 47*f(-1) - 13*f(-2) + 2*f(-3) )\n",
    "  u5Rjm12 = sp.Rational(1,60)*(  2*f(+2) - 13*f(+1) + 47*f(+0) + 27*f(-1) - 3*f(-2) )\n",
    "  \n",
    "  u6Bjm12 = w5Ljm12*u5Ljm12 + w5Rjm12*u5Rjm12\n",
    "  u6Bjp12 = u6Bjm12.subs(symbols_to(f_stencil, lambda j,_:f(j+1)),simultaneous=True)\n",
    "  return u6Bjp12-u6Bjm12\n",
    "\n",
    "bweno5 = Data()\n",
    "bweno5.name = \"B-WENO\"\n",
    "bweno5.flux = bweno5_flux\n",
    "del bweno5_flux"
   ]
  },
  {
   "cell_type": "code",
   "execution_count": null,
   "metadata": {},
   "outputs": [],
   "source": [
    "bweno5.wl = Data()\n",
    "bweno5.wl.values = (1,sp.Rational(3,4),sp.Rational(1,2))\n",
    "bweno5.wl.func = [ sp.lambdify(phi,bweno5.flux(wl).subs(symbols_to_vonNeumann(f_stencil)).subs(epsilon,10**(-8)),'numpy') for wl in bweno5.wl.values ]\n",
    "bweno5.wl.data = [ f(data.phi) for f in bweno5.wl.func ]\n",
    "\n",
    "fig, ax = plt.subplots(nrows=len(bweno5.wl.values),ncols=3,figsize=(14,14))\n",
    "\n",
    "weno5l.ztilde.re,weno5l.ztilde.im = reim(weno5l.ztilde.data)\n",
    "\n",
    "for i,wl in enumerate(bweno5.wl.values) :\n",
    "  tmp_re,tmp_im = reim(bweno5.wl.data[i])\n",
    "  ax[i][0].plot(tmp_re,tmp_im,label=bweno5.name,color=default.palette[1])\n",
    "  ax[i][0].plot(weno5l.ztilde.re,weno5l.ztilde.im,':',label=weno5l.name,color=default.palette[0])\n",
    "  ax[i][0].set_ylabel(\"$w^L = {}$\".format(wl))\n",
    "  \n",
    "  ax[i][1].plot(data.phi,tmp_re,label=bweno5.name,color=default.palette[1])\n",
    "  ax[i][1].plot(data.phi,weno5l.ztilde.re,':',label=weno5l.name,color=default.palette[0])\n",
    "  \n",
    "  ax[i][2].plot(data.phi,tmp_im,label=bweno5.name,color=default.palette[1])\n",
    "  ax[i][2].plot(data.phi,weno5l.ztilde.im,':',label=weno5l.name,color=default.palette[0])\n",
    "\n",
    "ax[0][1].title.set_text(\"$\\\\Re(W(\\phi))$\")\n",
    "ax[0][2].title.set_text(\"$\\\\Im(W(\\phi))$\")\n",
    "handles, labels = fig.gca().get_legend_handles_labels()\n",
    "fig.legend(handles,labels,loc=(0.,0.05),ncol=2,mode=\"expand\",borderaxespad=0.)\n",
    "plt.show()\n",
    "\n",
    "del fig,ax,i,wl,handles,labels,tmp_re,tmp_im"
   ]
  },
  {
   "cell_type": "markdown",
   "metadata": {},
   "source": [
    "En linéarisant les poids ($w^L=1,\\frac{3}{4},\\frac{1}{2}$), on remarque un comportement similaire à celui du schéma WENO linéarisé (qui coïncide parfaitement pour $w^L=1$, $w^R=0$), avec un comportement dégénéré dans le cas centré $w^L = w^R = \\frac{1}{2}$ (transport pur sans diffusion). La partie imaginaire, même dans le cas non linéarisé, la méthode BWENO reproduit le même comportement que la méthode WENO linéarisée."
   ]
  },
  {
   "cell_type": "code",
   "execution_count": null,
   "metadata": {},
   "outputs": [],
   "source": [
    "def _bweno5(u_i,dx):\n",
    "  \"\"\"\n",
    "    _bweno5\n",
    "    return the B-WENO approximation of $\\partial_x u$\n",
    "  \"\"\"\n",
    "  #u_ip3 = np.array([*u_i[3:],*u_i[:3]])\n",
    "  u_ip2 = np.array([*u_i[2:],*u_i[:2]])\n",
    "  u_ip1 = np.array([*u_i[1:],*u_i[:1]])\n",
    "  u_im1 = np.array([*u_i[-1:],*u_i[:-1]])\n",
    "  u_im2 = np.array([*u_i[-2:],*u_i[:-2]])\n",
    "  u_im3 = np.array([*u_i[-3:],*u_i[:-3]])\n",
    "\n",
    "  def _beta(uim2,uim1,ui,uip1,uip2):\n",
    "    d14u = 1./12.*(-uip2 -  8.*uip1 - 8.*uim1 + uim2)\n",
    "    d24u = 1./12.*(-uip2 + 16.*uip1 - 30.*ui + 16.*uim1 - uim2)\n",
    "    d32u = 0.5*(uip1 - 2.*uip1 + 2.*ui - uim2)\n",
    "    d42u = uip2 - 4.*uip1 + 6.*ui - 4.*uim1 + uim2\n",
    "    return ( d14u*(d14u + d24u + 1./3.*d32u + 1./12.*d42u)\n",
    "           + d24u*(4./3.*d24u + 1.25*d32u + 0.4*d42u)\n",
    "           + d32u*(83./60.*d32u + 23./18.*d42u)\n",
    "           + 437./315.*d42u*d42u)\n",
    "\n",
    "  betaL = _beta(u_im3,u_im2,u_im1,u_i  ,u_ip1)\n",
    "  betaR = _beta(u_im2,u_im1,u_i  ,u_ip1,u_ip2)\n",
    "  alphaL,alphaR = [ 0.5/(1e-16 + b) for b in (betaL,betaR) ]\n",
    "  sum_alpha = alphaL+alphaR\n",
    "  wtL,wtR = [ a/sum_alpha for a in (alphaL,alphaR) ]\n",
    "  wL = np.maximum(wtL,wtR)\n",
    "  wR = np.minimum(wtL,wtR)\n",
    "\n",
    "  uL = 1./60.*( -3.*u_ip1 + 27.*u_i   + 47.*u_im1 - 13.*u_im2 + 2.*u_im3 )\n",
    "  uR = 1./60.*(  2.*u_ip2 - 13.*u_ip1 + 47.*u_i   + 27.*u_im1 - 3.*u_im2 )\n",
    "  uB = wL*uL + wR*uR\n",
    "\n",
    "  uBp1 = np.array([*uB[1:],*uB[:1]])\n",
    "  return (uBp1-uB)/dx\n",
    "  \n",
    "bweno5.func = _bweno5\n",
    "del _bweno5"
   ]
  },
  {
   "cell_type": "code",
   "execution_count": null,
   "metadata": {},
   "outputs": [],
   "source": [
    "num_param = Data()\n",
    "num_param.N = 50\n",
    "num_param.X = np.linspace(0.,1.,num_param.N,endpoint=False)\n",
    "u_0 = (4.*num_param.X-1)*(num_param.X*(num_param.X<=0.5)>0.25) + (-4.*num_param.X+3)*(num_param.X*(num_param.X<0.75)>0.5)\n",
    "\n",
    "num_param.Tf = 10\n",
    "num_param.dt = 0.1/num_param.N # = 0.1*dx\n",
    "\n",
    "schemes_u = {}\n",
    "for scheme in (weno5,bweno5,weno5z):\n",
    "  schemes_u[scheme] = transport(u_0,rk33_iter,lambda u,dx:-scheme.func(u,dx),num_param.Tf,num_param.dt)\n",
    "\n",
    "plt.rcParams['figure.figsize'] = [9,7]\n",
    "\n",
    "plt.plot(num_param.X,u_0,label=\"exact solution\")\n",
    "for scheme,u in schemes_u.items():\n",
    "  plt.plot(num_param.X,u,label=scheme.name)\n",
    "plt.legend()\n",
    "plt.show()\n",
    "\n",
    "plt.rcParams['figure.figsize'] = default.figsize\n",
    "del u_0, num_param,schemes_u,scheme,u"
   ]
  },
  {
   "cell_type": "markdown",
   "metadata": {},
   "source": [
    "On obtient un schéma qui diffuse moins que le schéma WENO-Z, il trouve ainsi son intérêt pour approximer au mieux des pics. Cela se fait au détriment du caractère oscillant."
   ]
  },
  {
   "cell_type": "code",
   "execution_count": null,
   "metadata": {},
   "outputs": [],
   "source": [
    "num_param = Data()\n",
    "num_param.N = 100\n",
    "num_param.X = np.linspace(0.,1.,num_param.N,endpoint=False)\n",
    "u_0 = 4.*num_param.X*(num_param.X<=0.25) + 1.*(num_param.X*(num_param.X<0.75)>0.25)\n",
    "\n",
    "num_param.Tf = 1\n",
    "num_param.dt = 0.1/num_param.N # = 0.1*dx\n",
    "\n",
    "schemes_u = {}\n",
    "for scheme in (weno5,bweno5,weno5l):\n",
    "  schemes_u[scheme] = transport(u_0,rk33_iter,lambda u,dx:-scheme.func(u,dx),num_param.Tf,num_param.dt)\n",
    "\n",
    "plt.rcParams['figure.figsize'] = [9,7]\n",
    "\n",
    "plt.plot(num_param.X,u_0,label=\"exact solution\")\n",
    "for scheme,u in schemes_u.items():\n",
    "  plt.plot(num_param.X,u,label=scheme.name)\n",
    "plt.legend()\n",
    "plt.show()\n",
    "\n",
    "plt.rcParams['figure.figsize'] = default.figsize\n",
    "del u_0, num_param,schemes_u,scheme,u"
   ]
  },
  {
   "cell_type": "markdown",
   "metadata": {},
   "source": [
    "On peut vérifier l'ordre du schéma. Pour cela on calcule l'erreur sur une advection à vitesse 1 :\n",
    "\n",
    "$$\n",
    "  \\begin{cases}\n",
    "    u_t + u_x = 0 \\\\\n",
    "    u^0(x) = u(t=0,x) = \\cos(2\\pi x)\n",
    "  \\end{cases}\n",
    "$$\n",
    "\n",
    "On peut maintenant calculer l'ordre de la méthode sur ce problème de transport, en calculant la solution pour différents $\\Delta x$ (on choisit différentes tailles de vecteur en entré), jusqu'au temps $T_f=1$ avec un pas de temps $\\Delta t = \\frac{1}{400}$ qui correspond environ à $\\Delta t \\leq \\frac{1}{2}\\Delta x_{\\text{min}}$, pour minimiser l'erreur en temps.\n"
   ]
  },
  {
   "cell_type": "code",
   "execution_count": null,
   "metadata": {},
   "outputs": [],
   "source": [
    "num_param = Data()\n",
    "num_param.dt = 1./400\n",
    "num_param.Tf = 1.\n",
    "\n",
    "errors_bweno = []\n",
    "\n",
    "for N in range(10,200,10):\n",
    "    num_param.X = np.linspace(0.,1.,N,endpoint=False)\n",
    "    u_0 = np.cos(2.*np.pi*num_param.X)\n",
    "    u_e = np.cos(2.*np.pi*(num_param.X - num_param.Tf))\n",
    "    u_f = transport(u_0,rk33_iter,lambda u,dx:-bweno5.func(u,dx) ,num_param.Tf,num_param.dt)\n",
    "    errors_bweno.append( (N,error(u_f,u_e)) )\n",
    "\n",
    "space_steps = np.array([ 1./e[0] for e in errors_bweno ])\n",
    "\n",
    "plt.title(\"Order of \"+bweno5.name)\n",
    "plt.plot( np.log(space_steps) , [ np.log(e[1].n1) for e in errors_bweno ] , \"x-\" , label = r\"$||\\cdot||_{1}$\" )\n",
    "plt.plot( np.log(space_steps) , [ np.log(e[1].n2) for e in errors_bweno ] , \"x-\" , label = r\"$||\\cdot||_{2}$\" )\n",
    "plt.plot( np.log(space_steps) , [ np.log(e[1].noo) for e in errors_bweno ] , \"x-\" , label = r\"$||\\cdot||_{\\infty}$\" )\n",
    "plt.plot( np.log(space_steps) , 5*np.log(space_steps)+10 , \"--\" , label = \"slope of 5\")\n",
    "plt.plot( np.log(space_steps) , 6*np.log(space_steps)+7 , \"--\" , label = \"slope of 6\")\n",
    "plt.xlabel(r\"$\\log(\\Delta x)$\")\n",
    "plt.ylabel(r\"$\\log(e)$\")\n",
    "plt.legend()\n",
    "plt.ylim([-18,-3])\n",
    "plt.show()\n",
    "\n",
    "del N,num_param,u_0,u_e,u_f,space_steps,errors_bweno"
   ]
  },
  {
   "cell_type": "markdown",
   "metadata": {},
   "source": [
    "[[Banks J. W. et al (2019)]](https://github.com/Kivvix/miMaS/blob/master/bibliography/pdf/2019-Banks.pdf) annonce un ordre 6, mais ce n'est pas flagrant numériquement. Est-ce juste une définition différente de l'ordre ?"
   ]
  },
  {
   "cell_type": "markdown",
   "metadata": {},
   "source": [
    "## 1.4 WENO3"
   ]
  },
  {
   "cell_type": "markdown",
   "metadata": {},
   "source": [
    "Après avoir présenté les méthodes WENO dites *classiques* que sont la méthode WENO d'ordre 5 et ses dérivées, attardons nous un peu sur la méthode WENO3, étrangement moins étudiée. La méthode est beaucoup plus succinte mais se présente de manière similaire avec un calcul d'indicateurs de continuité, puis de poids que l'on normalise, et enfin le calcul du flux.\n",
    "\n",
    "Les indicateurs de continuités $\\beta_0$ et $\\beta_1$ se calculent comme suit :\n",
    "\n",
    "$$\n",
    "  \\begin{aligned}\n",
    "    \\beta_0^+ &= \\left(-f_{i-1}^+ + f_{i}^+\\right)^2\\\\\n",
    "    \\beta_1^+ &= \\left(-f_{i}^+ + f_{i+1}^+\\right)^2\n",
    "  \\end{aligned}\n",
    "$$\n",
    "\n",
    "$$\n",
    "  \\begin{aligned}\n",
    "    \\beta_0^- &= \\left(-f_{i+2}^- + f_{i+1}^-\\right)^2\\\\\n",
    "    \\beta_1^- &= \\left(-f_{i+1}^- + f_{i}^-\\right)^2\n",
    "  \\end{aligned}\n",
    "$$\n",
    "\n",
    "Ensuite les poids :\n",
    "\n",
    "$$\n",
    "  \\alpha_i^\\pm = \\frac{\\gamma_i}{(\\epsilon+\\beta_i^\\pm)^2}\n",
    "$$\n",
    "\n",
    "avec $\\gamma_0 = \\frac{1}{3}$ et $\\gamma_1=\\frac{2}{3}$ ; poids que l'on normalisent :\n",
    "\n",
    "$$\n",
    "  w_i^\\pm = \\frac{w_i}{w_0+w_1}\n",
    "$$\n",
    "\n",
    "Enfin le flux, définit par :\n",
    "\n",
    "$$\n",
    "  f_{i+\\frac{1}{2}}^+ = w_0^+\\left(-\\frac{1}{2}f_{i-1}^+ + \\frac{3}{2}f_i^+\\right) + w_1^+\\left(\\frac{1}{2}f_i^++\\frac{1}{2}f_{i+1}^+\\right)\n",
    "$$\n",
    "\n",
    "$$\n",
    "  f_{i+\\frac{1}{2}}^- = w_0^-\\left(-\\frac{1}{2}f_{i+2}^- + \\frac{3}{2}f_{i+1}^-\\right) + w_1^-\\left(\\frac{1}{2}f_{i+1}^-+\\frac{1}{2}f_{i}^-\\right)\n",
    "$$\n",
    "\n",
    "La méthode WENO3 prend la forme finale :\n",
    "\n",
    "$$\n",
    "  (\\partial_xf(u))(x_j) \\approx \\frac{1}{\\Delta x}\\left[ \\left(f_{j+\\frac{1}{2}}^+ - f_{j-\\frac{1}{2}}^+ \\right) + \\left(f_{j+\\frac{1}{2}}^- - f_{j-\\frac{1}{2}}^- \\right) \\right]\n",
    "$$\n",
    "\n",
    "Pour l'étude de la stabilité nous ne prendrons que le cas $f^+(u) = u$ et $f^-(u) =0$"
   ]
  },
  {
   "cell_type": "code",
   "execution_count": null,
   "metadata": {},
   "outputs": [],
   "source": [
    "\"\"\"\n",
    "linearized WENO method\n",
    "\"\"\"\n",
    "weno3l = Data()\n",
    "weno3l.name = \"linearized WENO3\"\n",
    "\n",
    "def weno3l_flux () :\n",
    "  w0 = sp.Rational(1,3) + ei[0]\n",
    "  w1 = sp.Rational(2,3) + ei[1]\n",
    "  \n",
    "  w2 = sp.Rational(1,3) + ei[2]\n",
    "  w3 = sp.Rational(2,3) + ei[3]\n",
    "  \n",
    "  fjp12 = ( w0*( -sp.Rational(1,2)*f(-1) + sp.Rational(3,2)*f(+0) )\n",
    "          + w1*(  sp.Rational(1,2)*f(+0) + sp.Rational(1,2)*f(+1) ) )\n",
    "  fjm12 = fjp12.subs(symbols_to(f_stencil, lambda j,_:f(j-1)),simultaneous=True).subs({ei[0]:ei[2],ei[1]:ei[3]})\n",
    "  \n",
    "  return fjp12 - fjm12\n",
    "\n",
    "weno3l.flux = weno3l_flux()\n",
    "del weno3l_flux\n",
    "display(weno3l.flux)"
   ]
  },
  {
   "cell_type": "code",
   "execution_count": null,
   "metadata": {},
   "outputs": [],
   "source": [
    "weno3l.ztilde = Data()\n",
    "\n",
    "weno3l.ztilde.flux = weno3l.flux.expand().subs([(e,0) for e in ei])\n",
    "weno3l.ztilde.func = sp.lambdify(phi,weno3l.ztilde.flux.subs(symbols_to_vonNeumann(f_stencil)),'numpy')\n",
    "weno3l.ztilde.data = weno3l.ztilde.func(data.phi)\n",
    "\n",
    "plt.rcParams['figure.figsize'] = [5,5]\n",
    "plt.plot(*reim(weno3l.ztilde.data),label=weno3l.name+\" amplification factor\",color=default.palette[1])\n",
    "plt.plot(*reim(weno5l.ztilde.data),label=weno5l.name+\" amplification factor\",color=default.palette[0])\n",
    "plt.axis('equal')\n",
    "plt.legend(loc=(0.,1.02),mode=\"expand\",borderaxespad=0.)\n",
    "plt.show()\n",
    "plt.rcParams['figure.figsize'] = default.figsize"
   ]
  },
  {
   "cell_type": "markdown",
   "metadata": {},
   "source": [
    "Comme indiqué dans la littérature, la méthode WENO3 diffuse plus que son équivalent d'ordre 5, cela se remarque par une plus grande partie imaginaire."
   ]
  },
  {
   "cell_type": "code",
   "execution_count": null,
   "metadata": {},
   "outputs": [],
   "source": [
    "def _weno3(u_i,dx):\n",
    "  \"\"\"\n",
    "    _weno3\n",
    "    return the WENO3 approximation of $\\partial_x u$\n",
    "  \"\"\"\n",
    "  u_ip2 = np.array([*u_i[2:],*u_i[:2]])\n",
    "  u_ip1 = np.array([*u_i[1:],*u_i[:1]])\n",
    "  u_im1 = np.array([*u_i[-1:],*u_i[:-1]])\n",
    "  u_im2 = np.array([*u_i[-2:],*u_i[:-2]])\n",
    "\n",
    "  b0 = np.square( -u_im1 + u_i   )\n",
    "  b1 = np.square( -u_i   + u_ip1 )\n",
    "\n",
    "  alpha  = [ g_i/np.square(b_i+1e-6) for b_i,g_i in zip((b0,b1),(1./3.,2./3.)) ]\n",
    "  sum_alpha = sum(alpha)\n",
    "  w0,w1 = [ a_i/sum_alpha for a_i in alpha ]\n",
    "\n",
    "  fip12 = w0*( -0.5*u_im1 + 1.5*u_i ) + w1*( 0.5*u_i + 0.5*u_ip1 )\n",
    "  fim12 = np.array([*fip12[-1:],*fip12[:-1]])\n",
    "\n",
    "  return (fip12-fim12)/dx\n",
    "\n",
    "def _weno3l(u_i,dx):\n",
    "  \"\"\"\n",
    "    _weno3l\n",
    "    return the linearized WENO3 approximation of $\\partial_x u$\n",
    "  \"\"\"\n",
    "  u_ip2 = np.array([*u_i[2:],*u_i[:2]])\n",
    "  u_ip1 = np.array([*u_i[1:],*u_i[:1]])\n",
    "  u_im1 = np.array([*u_i[-1:],*u_i[:-1]])\n",
    "  u_im2 = np.array([*u_i[-2:],*u_i[:-2]])\n",
    "\n",
    "  w0,w1 = (1./3.,2./3.)\n",
    "\n",
    "  fip12 = w0*( -0.5*u_im1 + 1.5*u_i ) + w1*( 0.5*u_i + 0.5*u_ip1 )\n",
    "  fim12 = np.array([*fip12[-1:],*fip12[:-1]])\n",
    "\n",
    "  return (fip12-fim12)/dx\n",
    "\n",
    "weno3l.func = _weno3l\n",
    "\n",
    "weno3 = Data()\n",
    "weno3.name = \"WENO3\"\n",
    "weno3.func = _weno3\n",
    "del _weno3,_weno3l"
   ]
  },
  {
   "cell_type": "code",
   "execution_count": null,
   "metadata": {},
   "outputs": [],
   "source": [
    "num_param = Data()\n",
    "num_param.N = 50\n",
    "num_param.X = np.linspace(0.,1.,num_param.N,endpoint=False)\n",
    "u_0 = 4.*num_param.X*(num_param.X<=0.25) + 1.*(num_param.X*(num_param.X<0.75)>0.25)\n",
    "\n",
    "num_param.Tf = 1\n",
    "num_param.dt = 0.1/num_param.N # = 0.1*dx\n",
    "\n",
    "schemes_u = {}\n",
    "for scheme in (weno5,weno3,weno3l):\n",
    "  schemes_u[scheme] = transport(u_0,rk33_iter,lambda u,dx:-scheme.func(u,dx),num_param.Tf,num_param.dt)\n",
    "\n",
    "plt.rcParams['figure.figsize'] = [9,7]\n",
    "\n",
    "plt.plot(num_param.X,u_0,label=\"exact solution\")\n",
    "for scheme,u in schemes_u.items():\n",
    "  plt.plot(num_param.X,u,label=scheme.name)\n",
    "plt.legend()\n",
    "plt.show()\n",
    "\n",
    "plt.rcParams['figure.figsize'] = default.figsize\n",
    "del u_0,scheme,num_param,schemes_u,u"
   ]
  },
  {
   "cell_type": "code",
   "execution_count": null,
   "metadata": {},
   "outputs": [],
   "source": [
    "num_param = Data()\n",
    "num_param.dt = 1./500\n",
    "num_param.Tf = 1.\n",
    "\n",
    "errors_weno3l = []\n",
    "errors_weno3  = []\n",
    "\n",
    "for N in range(100,300,10):\n",
    "    num_param.X = np.linspace(0.,1.,N,endpoint=False)\n",
    "    u_0 = np.cos(2.*np.pi*num_param.X)\n",
    "    u_e = np.cos(2.*np.pi*(num_param.X - num_param.Tf))\n",
    "    u_fl = transport(u_0,rk33_iter,lambda u,dx:-weno3l.func(u,dx),num_param.Tf,num_param.dt)\n",
    "    u_f  = transport(u_0,rk33_iter,lambda u,dx:-weno3.func(u,dx) ,num_param.Tf,num_param.dt)\n",
    "    errors_weno3l.append( (N,error(u_fl,u_e)) )\n",
    "    errors_weno3.append( (N,error(u_f,u_e)) )\n",
    "\n",
    "del N,num_param,u_0,u_e,u_fl,u_f\n",
    "\n",
    "space_steps = np.array([ 1./e[0] for e in errors_weno3 ])\n",
    "\n",
    "fig, (ax1,ax2) = plt.subplots(1,2,figsize=(14,6))\n",
    "\n",
    "ax1.set_title(\"Order of \"+weno3.name)\n",
    "ax1.plot( np.log(space_steps) , [ np.log(e[1].n1) for e in errors_weno3 ] , \"x-\" , label = r\"$||\\cdot||_{1}$\" )\n",
    "ax1.plot( np.log(space_steps) , [ np.log(e[1].n2) for e in errors_weno3 ] , \"x-\" , label = r\"$||\\cdot||_{2}$\" )\n",
    "ax1.plot( np.log(space_steps) , [ np.log(e[1].noo) for e in errors_weno3 ] , \"x-\" , label = r\"$||\\cdot||_{\\infty}$\" )\n",
    "ax1.plot( np.log(space_steps) , 3*np.log(space_steps)+6 , \"--\" , label = \"slope of 3\")\n",
    "ax1.set_xlabel(r\"$\\log(\\Delta x)$\")\n",
    "ax1.set_ylabel(r\"$\\log(e)$\")\n",
    "ax1.legend()\n",
    "\n",
    "ax2.set_title(\"Order of \"+weno3l.name)\n",
    "ax2.plot( np.log(space_steps) , [ np.log(e[1].n1) for e in errors_weno3l ] , \"x-\" , label = r\"$||\\cdot||_{1}$\" )\n",
    "ax2.plot( np.log(space_steps) , [ np.log(e[1].n2) for e in errors_weno3l ] , \"x-\" , label = r\"$||\\cdot||_{2}$\" )\n",
    "ax2.plot( np.log(space_steps) , [ np.log(e[1].noo) for e in errors_weno3l ] , \"x-\" , label = r\"$||\\cdot||_{\\infty}$\" )\n",
    "ax2.plot( np.log(space_steps) , 3*np.log(space_steps)+6 , \"--\" , label = \"slope of 3\")\n",
    "ax2.set_xlabel(r\"$\\log(\\Delta x)$\")\n",
    "ax2.set_ylabel(r\"$\\log(e)$\")\n",
    "ax2.legend()\n",
    "\n",
    "plt.show()\n",
    "\n",
    "del fig,ax1,ax2,space_steps,errors_weno3l,errors_weno3"
   ]
  },
  {
   "cell_type": "markdown",
   "metadata": {},
   "source": [
    "Voilà qui conclu l'étude des schémas en espace."
   ]
  },
  {
   "cell_type": "markdown",
   "metadata": {},
   "source": [
    "# 2. Discrétisation en temps"
   ]
  },
  {
   "cell_type": "markdown",
   "metadata": {},
   "source": [
    "## 2.1 Méthodes Runge-Kutta explicites"
   ]
  },
  {
   "cell_type": "markdown",
   "metadata": {},
   "source": [
    "Les schémas Runge-Kutta sont souvent utilisés dans le domaine des EDP pour résoudre la discrétisation en temps, conforme à cette tradition c'est ce que nous allons effectuer. Nous cherchons quel est l'ordre minimale $n$ ainsi que le nombre d'étages $s$ pour stabiliser le couple RK($s$,$n$)-WENO5, ou celui qui permettra d'obtenir la plus grande CFL avec le minimum de coût numérique.\n",
    "\n",
    "On s'intéresse ici à la fonction de stabilité d'un schéma RK. On sait que le polynôme caractéristique d'un schéma RK($n$,$n$) est une troncature de la série entière de l'exponentielle (auquel peut s'ajouter des termes de degré plus élevé si le nombre d'étage $s$ est supérieur à l'ordre de la méthode $n$), donc de la forme :\n",
    "\n",
    "$$\n",
    "  p_{(n,n)}(z) = \\sum_{k=0}^n \\frac{z^k}{k!}\n",
    "$$\n",
    "\n",
    "Il est ensuite nécessaire de tracer la courbe d'équation $|p_{(n,n)}(z)| = 1$, pour cela Miguel m'a proposé de résoudre dans un premier temps l'équation :\n",
    "\n",
    "$$\n",
    "  p_{(n,n)}(z) = e^{i\\theta}\n",
    "$$\n",
    "\n",
    "à $\\theta$ fixé, on a ainsi $n$ solutions $(b_0(\\theta),\\dots,b_n(\\theta))$. Puis ensuite faire varier $\\theta \\in [0,2\\pi[$. On obtient ainsi $n$ courbes paramétriques que l'on peut tracer sans trop de problèmes."
   ]
  },
  {
   "cell_type": "code",
   "execution_count": null,
   "metadata": {},
   "outputs": [],
   "source": [
    "import math\n",
    "\n",
    "def poly_carac(N):\n",
    "  \"\"\"\n",
    "    return trunc developpement of exponential function to the order `N`\n",
    "  \"\"\"\n",
    "  return sum([ sp.Rational(1,(math.factorial(n)))*z**n for n in range(N+1) ])\n",
    "\n",
    "def rk_set(N):\n",
    "  \"\"\"\n",
    "    return a list of points where modulus of caracteristic polynomial is equal to 1\n",
    "    this function compute this set of points with a polynomial solver in C, so it\n",
    "    doesn't work for `N > 4`.\n",
    "  \"\"\"\n",
    "  theta = sp.symbols(\"\\\\theta\",real=True)\n",
    "  p = poly_carac(N)\n",
    "  bset = sp.solveset(sp.Eq(p,sp.exp(I*theta)),z)\n",
    "  \n",
    "  bcurve = []\n",
    "  for b in [ sp.lambdify(theta,b,'numpy') for b in bset ] :\n",
    "    tmp = b(data.phi)\n",
    "    bcurve.extend(tmp.tolist())\n",
    "  return np.array(sorted(bcurve,key=lambda z:np.angle(z+1)))\n",
    "\n",
    "plt.rcParams['figure.figsize'] = [8,8]\n",
    "plt.plot(*reim(rk_set(1)),label=\"RK1\")\n",
    "plt.plot(*reim(rk_set(2)),label=\"RK2\")\n",
    "plt.plot(*reim(rk_set(3)),label=\"RK3\")\n",
    "plt.plot(*reim(rk_set(4)),label=\"RK4\")\n",
    "plt.axis('equal')\n",
    "plt.legend(loc=(0.,1.02),ncol=4,mode=\"expand\",borderaxespad=0.)\n",
    "plt.show()\n",
    "plt.rcParams['figure.figsize'] = default.figsize"
   ]
  },
  {
   "cell_type": "markdown",
   "metadata": {},
   "source": [
    "Ces fonctions de stabilités ne sont que celles d'une méthode RK($n$,$n$), avec $n<5$ pour pouvoir résoudre de façon exacte les racines du polynôme. Il est possible de tracer directement un contour avec `matplotlib` à l'aide de la fonction `plt.contour`. On peut ainsi obtenir, en un temps relativement court, un ensemble de points. En plus de tracer cet ensemble de points, il est également possible de récupérer la liste des points tracés, à l'aide de l'attribut `allsegs` de la classe `matplotlib.contour.QuadContourSet`.\n",
    "\n",
    "> **Attention :** `matplotlib` permet de récupérer la liste des points tracés, si le domaine d'étude est trop resteint, seuls les points se trouvant dans ce domaine seront listés. Comme son nom l'indique l'attribut `allsegs` renvoie des listes de points qui forment les segements tracés, par conséquent il est possible de récupérer chaque sous ensemble connexe (ce qui permet d'exclure l'étude des non-connexités des méthodes Runge-Kutta avec plus d'étages."
   ]
  },
  {
   "cell_type": "code",
   "execution_count": null,
   "metadata": {},
   "outputs": [],
   "source": [
    "def contour ( expr , z , Ir=(-6.,3.,500) , Ii=(-6.,6.,500) , **kwargs):\n",
    "  \"\"\"\n",
    "    draw a contour of a C expression `expr` on `z` parameter on `Ir`x`Ii` domain\n",
    "  \"\"\"\n",
    "  x,y = sp.symbols(\"x y\",real=True)\n",
    "  f = sp.lambdify((x, y), expr.subs(z,x+I*y),'numpy')\n",
    "  \n",
    "  a = np.linspace(*Ir)\n",
    "  b = np.linspace(*Ii)\n",
    "  X, Y = np.meshgrid(a, b)\n",
    "  try:\n",
    "    lab = kwargs.pop(\"label\")\n",
    "  except:\n",
    "    lab = \"\"\n",
    "  try:\n",
    "    c = kwargs[\"colors\"]\n",
    "  except:\n",
    "    c = default.palette[0]\n",
    "  if len(lab) > 0 :\n",
    "    plt.plot([0],[0],label=lab,color=c)\n",
    "  return plt.contour(X,Y, np.real(f(X,Y)),**kwargs)"
   ]
  },
  {
   "cell_type": "code",
   "execution_count": null,
   "metadata": {},
   "outputs": [],
   "source": [
    "R = sp.Abs(poly_carac(6))\n",
    "\n",
    "plt.rcParams['figure.figsize'] = [6,6]\n",
    "\n",
    "dat = contour(R,z,(-6.,3.,500),(-6.,6.,500), levels=[1.]).allsegs\n",
    "\n",
    "display(R)\n",
    "plt.plot(dat[0][1][:,0],dat[0][1][:,1],label=\"n°{}\".format(1))\n",
    "plt.plot(dat[0][0][:,0],dat[0][0][:,1],label=\"n°{}\".format(0))\n",
    "plt.plot(dat[0][2][:,0],dat[0][2][:,1],label=\"n°{}\".format(2))\n",
    "plt.axis('equal')\n",
    "plt.legend(loc=(0.,1.02),ncol=4,mode=\"expand\",borderaxespad=0.)\n",
    "plt.show()\n",
    "\n",
    "plt.rcParams['figure.figsize'] = default.figsize\n",
    "\n",
    "# comparaison du nombre de point dans la frontière de chaque sous domaine\n",
    "print(\"nombre de points dans chaque sous-domaine :\")\n",
    "print(len(dat[0][0][:]),len(dat[0][1][:]),len(dat[0][2][:]))\n",
    "\n",
    "del R,dat"
   ]
  },
  {
   "cell_type": "markdown",
   "metadata": {},
   "source": [
    "> L'astuce trouvé pour obtenir le domaine principal et qui sera utilisé par la suite, est de liste les sous domaine `allsegs` et de les trier par nombre de points. Le domaine *principal* qui permettra de stabiliser un schéma type WENO, ou méthode centré par exemple, est (quasi-systématiquement) celui ayant le plus de points.\n",
    "> \n",
    "> **Cette méthode n'a rien de mathématique, juste une constatation empirique**."
   ]
  },
  {
   "cell_type": "code",
   "execution_count": null,
   "metadata": {},
   "outputs": [],
   "source": [
    "plt.rcParams['figure.figsize'] = [10,10]\n",
    "\n",
    "for n in range(1,12):\n",
    "  print(n,end=\"\\r\")\n",
    "  R = sp.Abs(poly_carac(n))\n",
    "  contour(R,z,(-7,6,1000),(-6.5,6.5,1000), levels=[1.],colors=default.palette[n%len(default.palette)],label=\"RK{}\".format(n))\n",
    "print(\" \"*len(str(n)))\n",
    "plt.legend(loc=(0.,1.02),ncol=6,mode=\"expand\",borderaxespad=0.)\n",
    "plt.show()\n",
    "\n",
    "plt.rcParams['figure.figsize'] = default.figsize\n",
    "del n,R"
   ]
  },
  {
   "cell_type": "markdown",
   "metadata": {},
   "source": [
    "> Joackim m'a fait remarquer que les *bras* contiennent une infinité de *bulles* de plus en plus petites (on voit ceci pour la petite *bulle* orange à l'extrémité du *bras* qui apparait seulement lorsque on raffine le domaine). On peut même conjecturer que la forme des bras sont des paraboles. On voit la naissance de la deuxième paire de *bras* avec les grosses *bulles* oranges.\n",
    ">\n",
    "> L'étude de ces non-connexités des domaines de stabilités ne semblent pas présenter d'intérêt pour ce que l'on fait. De plus ces domaines ne correspondent pas à la stabilité d'une méthode connue. En effet il n'y a pas de méthode Runge-Kutta d'ordre $n$ à $n$ étages connues pour $n\\geq 5$.\n",
    "\n",
    "L'étude de ces méthodes RK($n$,$n$) avec $n>4$ n'est pas pertinante puisqu'il n'existe pas de méthode Runge-Kutta d'ordre 5 à 5 étages, le problème est similaire pour les méthodes d'ordre supérieur. À partir de maintenant nous allons étudier ces méthodes à partir de leur écriture sous forme de schéma ou de tableau de Butcher. Par la suite, le tableau de Butcher sera plus pratique pour tirer plus d'information comme le schéma de Lawson induit."
   ]
  },
  {
   "cell_type": "markdown",
   "metadata": {},
   "source": [
    "### 2.1.1 Obtention de la fonction de stabilité depuis un schéma numérique"
   ]
  },
  {
   "cell_type": "markdown",
   "metadata": {},
   "source": [
    "Les calculs effectués pour l'instant ne s'appliquent que pour un RK($n$,$n$) à $n$ étages. Considérons maintenant un RK($s$,$n$) à $s$ étages ($s\\geq n$ car la méthode est explicite). Il est nécessaire de calculer sa fonction de stabilité (qui est un polynôme dans le cadre des méthodes explicites).\n",
    "\n",
    "L'obtention de la fonction de stabilité s'effectue avec une fonction $L$ linéaire, ainsi pour un problème du type :\n",
    "\n",
    "$$\n",
    "  \\frac{\\mathrm{d}u}{\\mathrm{d}t} = L(t,u)\n",
    "$$\n",
    "\n",
    "on effectue la substitution :\n",
    "\n",
    "* $L(t,u) \\rightarrow \\lambda u$ (on linéarise $L$ sur le plan complexe à l'aide d'une variable $\\lambda$, dans notre cas $\\lambda$ représente le coefficient d'amplification de notre discrétisation en espace)\n",
    "* $\\lambda \\Delta t \\rightarrow z$ (on veut étudier le coefficient d'amplification donné par le produit $\\lambda \\Delta t$)\n",
    "\n",
    "Nous étudions ainsi un schéma RK(4,3) :\n",
    "\n",
    "$$\n",
    "  \\begin{aligned}\n",
    "    u^{(1)} &= u^n + \\frac{1}{2}\\Delta t L(t^n,u^n) \\\\\n",
    "    u^{(2)} &= u^{(1)} + \\frac{1}{2}\\Delta t L(t^n+\\frac{1}{2}\\Delta t,u^{(1)}) \\\\\n",
    "    u^{(3)} &= \\frac{2}{3}u^n + \\frac{1}{3}u^{(2)} + \\frac{1}{6}\\Delta t L(t^n+\\Delta t,u^{(2)}) \\\\\n",
    "    u^{n+1} &= u^{(3)} + \\frac{1}{2}\\Delta t L(t^n+\\frac{1}{2}\\Delta t,u^{(3)})\n",
    "  \\end{aligned}\n",
    "$$\n",
    "\n",
    "La méthode sera dite de *Shu-Osher* si elle n'effectue qu'un seul appel à la fonction $L$ par étage, on verra plus tard que pour un tableau de Butcher donné, il est facilement possible de *shuosheriser* la méthode."
   ]
  },
  {
   "cell_type": "code",
   "execution_count": null,
   "metadata": {},
   "outputs": [],
   "source": [
    "un = sp.symbols(\"u_n\")\n",
    "\n",
    "lamb = sp.symbols(\"\\\\lambda\",complex=True)\n",
    "L = sp.Function(\"L\")\n",
    "\n",
    "def name_stages ( v_s , s ) :\n",
    "  \"\"\"\n",
    "    return a list of symbols for each stages of a RK(`s`,$n$) method on a `v_s (str)` name function\n",
    "    for example :\n",
    "    ```\n",
    "      name_stages(\"u\",3) #-> should return list of symbols \"[u^n, u^{(1)}, u^{(2)}, u^{n+1}]\"\n",
    "    ```\n",
    "  \"\"\"\n",
    "  vs = [ sp.symbols(v_s+\"^n\") ]\n",
    "  vs.extend([ sp.symbols(v_s+\"^{(%i)}\"%j) for j in range(1,s) ])\n",
    "  vs.append(sp.symbols(v_s+\"^{n+1}\"))\n",
    "  return vs\n",
    "\n",
    "class rk_scheme (object) :\n",
    "  ui = name_stages(\"u\",42)\n",
    "  def __init__ (self,s,label=\"\") :\n",
    "    self.s = s\n",
    "    self.stages = [0 for x in range(s)]\n",
    "    self.ui = rk_scheme.ui[:s]; self.ui.append(rk_scheme.ui[-1])\n",
    "    self.label = label\n",
    "\n",
    "  def __getitem__ (self,s) :\n",
    "    return self.stages[s]\n",
    "  def __setitem__ (self,key,value) :\n",
    "    self.stages[key]=value\n",
    "    \n",
    "  def scheme (self) :\n",
    "    return [ sp.Eq(self.ui[s],stage) for s,stage in enumerate(self.stages,1) ]\n",
    "\n",
    "  def stability_function (self) :\n",
    "    expr = self.stages[-1]\n",
    "    for i,us in enumerate(reversed(self.stages[:-1])) :\n",
    "      expr = expr.subs(self.ui[self.s-1-i],us)\n",
    "    return expr.replace(L,lambda x:lamb*x).subs(lamb*dt,z).expand().subs(self.ui[0],1).collect(z)\n",
    "  \n",
    "  def stability_domain (self,Ir=(-4.,2.,100),Ii=(-3.,3.,100),**kwargs) :\n",
    "    return contour(sp.Abs(self.stability_function()),z,Ir,Ii,levels=[1.],label=self.label,**kwargs)\n",
    "\n",
    "un,u1,u2,u3,u4,u5,u6,u7 = rk_scheme.ui[0:8]"
   ]
  },
  {
   "cell_type": "code",
   "execution_count": null,
   "metadata": {},
   "outputs": [],
   "source": [
    "\"\"\"\n",
    "test process on RK3 Shu-Osher\n",
    "\"\"\"\n",
    "rk33so = rk_scheme(3,label=\"RK(3,3) Shu-Osher\")\n",
    "rk33so[0] = un + dt*L(un)\n",
    "rk33so[1] = sp.Rational(3,4)*un + sp.Rational(1,4)*u1 + sp.Rational(1,4)*dt*L(u1)\n",
    "rk33so[2] = sp.Rational(1,3)*un + sp.Rational(2,3)*u2 + sp.Rational(2,3)*dt*L(u2)\n",
    "\n",
    "rk33so.stability_function()"
   ]
  },
  {
   "cell_type": "code",
   "execution_count": null,
   "metadata": {},
   "outputs": [],
   "source": [
    "[ display(stage) for stage in rk33so.scheme()];"
   ]
  },
  {
   "cell_type": "code",
   "execution_count": null,
   "metadata": {},
   "outputs": [],
   "source": [
    "\"\"\" RK3 à 4 étages \"\"\"\n",
    "rk43 = rk_scheme(4,label=\"RK(4,3)\")\n",
    "rk43[0] = un + sp.Rational(1,2)*dt*L(un)\n",
    "rk43[1] = u1 + sp.Rational(1,2)*dt*L(u1)\n",
    "rk43[2] = sp.Rational(2,3)*un + sp.Rational(1,3)*u2 + sp.Rational(1,6)*dt*L(u2)\n",
    "rk43[3] = u3 + sp.Rational(1,2)*dt*L(u3)\n",
    "\n",
    "rk43.stability_function()"
   ]
  },
  {
   "cell_type": "code",
   "execution_count": null,
   "metadata": {},
   "outputs": [],
   "source": [
    "\"\"\" RK6 à 7 étages [Luther H. A. (1968)] \"\"\"\n",
    "nu = sp.symbols(\"\\\\nu\")\n",
    "s21 = sp.sqrt(21)\n",
    "\n",
    "rk76 = rk_scheme(8,label=\"RK(7,6)\")\n",
    "rk76.ui = name_stages(\"k\",8)\n",
    "rk76.ui[0] = rk_scheme.ui[0]\n",
    "rk76.ui[-1] = rk_scheme.ui[-1]\n",
    "k1,k2,k3,k4,k5,k6,k7 = rk76.ui[1:-1]\n",
    "\n",
    "rk76[0] = dt*L(un)\n",
    "rk76[1] = dt*L(un+nu*k1)\n",
    "rk76[2] = dt*L(un+ ((4*nu-1)*k1+k2)/(8*nu) )\n",
    "rk76[3] = dt*L(un+ ((10*nu-2)*k1 + 2*k2 + 8*nu*k3)/(27*nu) )\n",
    "rk76[4] = dt*L(un+ (-((77*nu-56)+(17*nu-8)*s21)*k1\n",
    "                -8*(7+s21)*k2 + 48*(7+s21)*nu*k3\n",
    "                -3*(21+s21)*nu*k4)/(392*nu) )\n",
    "rk76[5] = dt*L(un+ (-5*((287*nu-56)-(59*nu-8)*s21)*k1\n",
    "                - 40*(7-s21)*k2 + 320*s21*nu*k3 + 3*(21-121*s21)*nu*k4\n",
    "                + 392*(6-s21)*nu*k5)/(1960*nu) )\n",
    "rk76[6] = dt*L(un+ ( 15*((30*nu-8)-(7*nu*s21))*k1 + 120*k2\n",
    "                - 40*(5+7*s21)*nu*k3 + 63*(2+3*s21)*nu*k4\n",
    "                - 14*(49-9*s21)*nu*k5 + 70*(7+s21)*nu*k6)/(180*nu) )\n",
    "rk76[7] = un + (9*k1 + 64*k3 + 49*k5 + 49*k6 + 9*k7)/180\n",
    "\n",
    "display((rk76.stability_function(),poly_carac(7)))\n",
    "del s21,nu,k1,k2,k3,k4,k5,k6,k7"
   ]
  },
  {
   "cell_type": "code",
   "execution_count": null,
   "metadata": {},
   "outputs": [],
   "source": [
    "plt.rcParams['figure.figsize'] = [6,6]\n",
    "\n",
    "rk33so.stability_domain(colors=default.palette[0],Ir=(-6.,2.,500),Ii=(-4.,4.,500))\n",
    "rk76.stability_domain(colors=default.palette[1],Ir=(-6.,2.,500),Ii=(-4.,4.,500))\n",
    "contour(sp.Abs(poly_carac(6)),z,(-6.,2.,500),(-4.,4.,500), levels=[1.],colors=default.palette[2],label=\"hypothetical RK(6,6)\")\n",
    "\n",
    "plt.legend(loc=(0.,1.02),ncol=3,mode=\"expand\",borderaxespad=0.)\n",
    "plt.axis('equal')\n",
    "plt.show()\n",
    "\n",
    "plt.rcParams['figure.figsize'] = default.figsize"
   ]
  },
  {
   "cell_type": "code",
   "execution_count": null,
   "metadata": {},
   "outputs": [],
   "source": [
    "plt.rcParams['figure.figsize'] = [6,6]\n",
    "\n",
    "for i,rk in enumerate((rk33so,rk43,rk76)) :\n",
    "  rk.stability_domain((-6.,2.,500),(-4.,4.,500),colors=default.palette[i])\n",
    "contour(sp.Abs(poly_carac(4)),z,(-6.,2.,500),(-4.,4.,500), levels=[1.],colors=default.palette[i+1],label=\"RK SSP(4,4)\")\n",
    "\n",
    "plt.legend(loc=(0.,1.02),ncol=3,mode=\"expand\",borderaxespad=0.)\n",
    "\n",
    "plt.axvline(0, color='gray',linestyle='--',linewidth=1.)\n",
    "plt.axis('equal')\n",
    "plt.show()\n",
    "plt.rcParams['figure.figsize'] = default.figsize\n",
    "del i,rk"
   ]
  },
  {
   "cell_type": "markdown",
   "metadata": {},
   "source": [
    "### 2.1.2 Obtention de la fonction de stabilité depuis un tableau de Butcher"
   ]
  },
  {
   "cell_type": "markdown",
   "metadata": {},
   "source": [
    "Il est souvent plus simple de ne donner qu'un tableau de Butcher d'une méthode, et cela permet en réalité d'extraire plus d'informations. Dans un premier temps, l'implémentation, se limitera aux méthodes eRK (*explicit Runge-Kutta method*), par la suite cette implémentation sera généralisé au cadre des méthodes DIRK (*Diagonal Implicit Runge-Kutta method*), le cadre général étant plus embêtant pour l'obtention algorithmique de la fonction de stabilité.\n",
    "\n",
    "La fonction `poly_butcher` fonctionne pour un tableau de Butcher écrit comme suit :\n",
    "\n",
    "$$\n",
    "  \\begin{array}{c|c}\n",
    "    \\begin{matrix}\n",
    "      a_{11} & \\cdots & a_{1s} \\\\\n",
    "      \\vdots & \\ddots & \\vdots \\\\\n",
    "      a_{s1} & \\cdots & a_{ss}\n",
    "    \\end{matrix} & \\begin{matrix} b_1 \\\\ \\vdots \\\\ b_s \\end{matrix} \\\\ \\hline\n",
    "    \\begin{matrix}c_1 & \\cdots & c_s \\end{matrix} & \\\\\n",
    "  \\end{array}\n",
    "$$\n",
    "\n",
    "Le schéma qui en résulte est de la forme :\n",
    "\n",
    "$$\n",
    "  \\begin{aligned}\n",
    "    u^{(i)} &= u^n + \\Delta t \\sum_j a_{ij} L(t^n+b_j\\Delta t , u^{(j)}) \\\\\n",
    "    u^{n+1} &= u^n + \\Delta t \\sum_i c_i L(t^n+b_i\\Delta t , u^{(i)})\n",
    "  \\end{aligned}\n",
    "$$\n",
    "\n",
    "Ce schéma est explicite si et seulement si la matrice $A$ est triangulaire strictement inférieure (pour un schéma DIRK la matrice $A$ est triangulaire inférieure, le caractère implicite est donnée par la diagonale). On ne précisera pas ici les propriétés liant $A$, $b$ et $c$ pour déterminer l'ordre de la méthode, son caractère SSP ou autre.\n",
    "\n",
    "Dans l'obtention du polynôme caractéristique du schéma, le vecteur $b$ n'est pas nécessaire puisqu'on linéarise l'opération $L(t^n+b_j\\Delta t , u^{(j)})$ par $\\lambda u^{(j)}$."
   ]
  },
  {
   "cell_type": "code",
   "execution_count": null,
   "metadata": {},
   "outputs": [],
   "source": [
    "def poly_butcher( A , c , b=None ):\n",
    "  \"\"\"\n",
    "    /!\\ fonction ne fonctionnant que pour des schémas explicites\n",
    "    pour des méthodes DIRK, revoir cette fonction en créeant un tableau\n",
    "    de symbols u_s et en cherchant comment expliciter la diagonale implicite\n",
    "  \"\"\"\n",
    "  r = range(len(c))\n",
    "  u_s = [ 0 for i in r ]\n",
    "  for i in r:\n",
    "    u_s[i] = 1 + dt*sum([ A[i][j]*lamb*u_s[j] for j in r ])\n",
    "  un1 = 1 + dt*sum([ c[j]*lamb*u_s[j] for j in r ])\n",
    "  return un1.expand().collect(z).subs(dt*lamb,z).collect(z)\n",
    "\n",
    "class rk_butcher(object):\n",
    "  def __init__ (self,A,c,b=None,label=None):\n",
    "    self.A = A\n",
    "    self.b = b\n",
    "    self.c = c\n",
    "    self.label = label\n",
    "    self._data = None\n",
    "    if b == None:\n",
    "      self.b = [ sum(A[i][:]) for i in range(len(c)) ]\n",
    "  \n",
    "  def stages(self):\n",
    "    return len(self.c)\n",
    "  \n",
    "  def stability_function(self):\n",
    "    return poly_butcher(A=self.A,b=self.b,c=self.c)\n",
    "  \n",
    "  def order(self):\n",
    "    rest = sum([ sp.Rational(1,(math.factorial(n)))*z**n for n in range(len(self.A)+2) ]) - self.poly()\n",
    "    return next(i for i,j in enumerate(reversed(sp.Poly(rest).as_list())) if j)-1\n",
    "  \n",
    "  def stability_domain (self,Ir=(-4.,2.,100),Ii=(-3.,3.,100),**kwargs) :\n",
    "    return contour(sp.Abs(self.stability_function()),z,Ir,Ii,levels=[1.],label=self.label,**kwargs)"
   ]
  },
  {
   "cell_type": "code",
   "execution_count": null,
   "metadata": {},
   "outputs": [],
   "source": [
    "A = [[0]]\n",
    "b = [0]\n",
    "c = [1]\n",
    "\n",
    "rk1 = rk_butcher(A=A,b=b,c=c,label=\"Euler\")\n",
    "del A,b,c\n",
    "rk1.stability_function()"
   ]
  },
  {
   "cell_type": "code",
   "execution_count": null,
   "metadata": {},
   "outputs": [],
   "source": [
    "rk1.stability_domain(Ir=(-2,0.5),Ii=(-1.25,1.25),colors=default.palette[0])\n",
    "plt.legend(loc=(0.,1.02),ncol=3,mode=\"expand\",borderaxespad=0.)\n",
    "plt.axvline(0, color='gray',linestyle='--',linewidth=1.)\n",
    "plt.axis('equal')\n",
    "plt.show()"
   ]
  },
  {
   "cell_type": "code",
   "execution_count": null,
   "metadata": {},
   "outputs": [],
   "source": [
    "A = [[0,0],\n",
    "     [1,0]]\n",
    "b = [0,1]\n",
    "c = [sp.Rational(1,2),sp.Rational(1,2)]\n",
    "\n",
    "rk2 = rk_butcher(A=A,b=b,c=c,label=\"RK SSP (2,2)\")\n",
    "del A,b,c\n",
    "rk2.stability_function()"
   ]
  },
  {
   "cell_type": "code",
   "execution_count": null,
   "metadata": {},
   "outputs": [],
   "source": [
    "A = [[0,0,0],\n",
    "     [sp.Rational(1,2),0,0],\n",
    "     [0,sp.Rational(1,2),0]]\n",
    "b = [0,sp.Rational(1,2),sp.Rational(1,2)]\n",
    "c = [0,0,1]\n",
    "\n",
    "rk32best = rk_butcher(A=A,b=b,c=c,label=\"RK (3,2) best\")\n",
    "del A,b,c\n",
    "rk32best.stability_function()"
   ]
  },
  {
   "cell_type": "code",
   "execution_count": null,
   "metadata": {},
   "outputs": [],
   "source": [
    "plt.rcParams['figure.figsize'] = [5,5]\n",
    "rk32best.stability_domain(Ir=(-2,0.5),Ii=(-2.5,2.5),colors=default.palette[0])\n",
    "plt.legend(loc=(0.,1.02),ncol=3,mode=\"expand\",borderaxespad=0.)\n",
    "plt.axvline(0, color='gray',linestyle='--',linewidth=1.)\n",
    "plt.axis('equal')\n",
    "plt.show()\n",
    "plt.rcParams['figure.figsize'] = default.figsize"
   ]
  },
  {
   "cell_type": "code",
   "execution_count": null,
   "metadata": {},
   "outputs": [],
   "source": [
    "\"\"\" vérification sur RK3 \"\"\"\n",
    "A = [[0,0,0],\n",
    "     [1,0,0],\n",
    "     [sp.Rational(1,4),sp.Rational(1,4),0]]\n",
    "b = [0,1,sp.Rational(1,2)]\n",
    "c = [sp.Rational(1,6),sp.Rational(1,6),sp.Rational(2,3)]\n",
    "\n",
    "rk33 = rk_butcher(A=A,b=b,c=c,label=\"RK (3,3)\")\n",
    "del A,b,c\n",
    "rk33.stability_function()"
   ]
  },
  {
   "cell_type": "code",
   "execution_count": null,
   "metadata": {},
   "outputs": [],
   "source": [
    "plt.rcParams['figure.figsize'] = [5,5]\n",
    "rk33.stability_domain(Ir=(-3,0.5),Ii=(-2.5,2.5),colors=default.palette[0])\n",
    "plt.legend(loc=(0.,1.02),ncol=3,mode=\"expand\",borderaxespad=0.)\n",
    "plt.axvline(0, color='gray',linestyle='--',linewidth=1.)\n",
    "plt.axis('equal')\n",
    "plt.show()\n",
    "plt.rcParams['figure.figsize'] = default.figsize"
   ]
  },
  {
   "cell_type": "code",
   "execution_count": null,
   "metadata": {},
   "outputs": [],
   "source": [
    "A = [[0,0,0],\n",
    "     [sp.Rational(1,2),0,0],\n",
    "     [-1,2,0]]\n",
    "c = [sp.Rational(1,6),sp.Rational(4,6),sp.Rational(1,6)]\n",
    "b = [0,sp.Rational(1,2),1]\n",
    "\n",
    "rk33bis = rk_butcher(A=A,b=b,c=c,label=\"RK (3,3) bis\")\n",
    "del A,b,c\n",
    "rk33bis.stability_function()"
   ]
  },
  {
   "cell_type": "markdown",
   "metadata": {},
   "source": [
    "Les 2 méthodes Runge-Kutta d'ordre 3 à 3 étages ont la même fonction de stabilité, par conséquent les CFL obtenues seront les mêmes et toutes les autres propriétés issues de cette fonction aussi (order-star). En revanche le schéma reste différent et l'erreur aussi (mais la convergence de l'erreur est bien la même, seule la constante diffère)."
   ]
  },
  {
   "cell_type": "code",
   "execution_count": null,
   "metadata": {},
   "outputs": [],
   "source": [
    "\"\"\" vérification sur RK4 \"\"\"\n",
    "A = [[ 0               , 0               , 0 , 0 ] ,\n",
    "     [ sp.Rational(1,2), 0               , 0 , 0 ] ,\n",
    "     [ 0               , sp.Rational(1,2), 0 , 0 ] ,\n",
    "     [ 0               , 0               , 1 , 0 ]]\n",
    "b = [0,sp.Rational(1,2),sp.Rational(1,2),1]\n",
    "c = [sp.Rational(1,6),sp.Rational(1,3),sp.Rational(1,3),sp.Rational(1,6)]\n",
    "\n",
    "rk44 = rk_butcher(A=A,b=b,c=c,label=\"RK (4,4)\")\n",
    "del A,b,c\n",
    "rk44.stability_function()"
   ]
  },
  {
   "cell_type": "code",
   "execution_count": null,
   "metadata": {},
   "outputs": [],
   "source": [
    "plt.rcParams['figure.figsize'] = [5,5]\n",
    "rk32best.stability_domain(Ir=(-2,0.5),Ii=(-2.5,2.5),colors=default.palette[4])\n",
    "rk33.stability_domain(Ir=(-3,0.5),Ii=(-2.5,2.5),colors=default.palette[2])\n",
    "rk44.stability_domain(Ir=(-3,0.5),Ii=(-3.,3.),colors=default.palette[3])\n",
    "plt.legend(loc=(0.,1.02),ncol=3,mode=\"expand\",borderaxespad=0.)\n",
    "plt.axvline(0, color='gray',linestyle='--',linewidth=1.)\n",
    "plt.axis('equal')\n",
    "plt.legend(loc=(0.,1.02),ncol=3,mode=\"expand\",borderaxespad=0.,prop={'size': 11})\n",
    "plt.xlabel(r\"$\\Re(z)$\")\n",
    "plt.ylabel(r\"$\\Im(z)$\")\n",
    "\n",
    "plt.show()\n",
    "plt.rcParams['figure.figsize'] = default.figsize"
   ]
  },
  {
   "cell_type": "code",
   "execution_count": null,
   "metadata": {},
   "outputs": [],
   "source": [
    "\"\"\" test sur RK4 3/8-rule \"\"\"\n",
    "A = [[ 0               , 0 , 0 , 0 ],\n",
    "     [ sp.Rational(1,3), 0 , 0 , 0 ],\n",
    "     [-sp.Rational(1,3), 1 , 0 , 0 ],\n",
    "     [ 1               ,-1 , 1 , 0 ]]\n",
    "b = [0,sp.Rational(1,3),sp.Rational(2,3),1]\n",
    "c = [sp.Rational(1,8),sp.Rational(3,8),sp.Rational(3,8),sp.Rational(1,8)]\n",
    "\n",
    "rk44_38 = rk_butcher(A=A,b=b,c=c,label=\"RK (4,4) 3/8 rule\")\n",
    "del A,b,c\n",
    "rk44_38.stability_function()"
   ]
  },
  {
   "cell_type": "code",
   "execution_count": null,
   "metadata": {},
   "outputs": [],
   "source": [
    "\"\"\" test sur RK NSSP(3,3) [Wang R. and Spiteri R. J. (2007)] \"\"\"\n",
    "A = [[0,0,0],\n",
    "     [-sp.Rational(4,9),0,0],\n",
    "     [sp.Rational(7,6),-sp.Rational(1,2),0]]\n",
    "b = [0,-sp.Rational(4,9),sp.Rational(2,3)]\n",
    "c = [sp.Rational(1,4),0,sp.Rational(3,4)]\n",
    "\n",
    "rknssp33 = rk_butcher(A=A,b=b,c=c,label=\"RK NSSP (3,3)\")\n",
    "del A,b,c\n",
    "rknssp33.stability_function()"
   ]
  },
  {
   "cell_type": "code",
   "execution_count": null,
   "metadata": {},
   "outputs": [],
   "source": [
    "\"\"\" test sur RK NSSP(5,3) [Wang R. and Spiteri R. J. (2007)] \"\"\"\n",
    "A = [[ 0 , 0 , 0 , 0 , 0 ]                 ,\n",
    "     [ sp.Rational(1,7)  , 0 , 0 , 0 , 0 ] ,\n",
    "     [ 0 , sp.Rational(3,16) , 0 , 0 , 0 ] ,\n",
    "     [ 0 , 0 , sp.Rational(1,3)  , 0 , 0 ] ,\n",
    "     [ 0 , 0 , 0 , sp.Rational(2,3)  , 0 ]]\n",
    "b = [0,sp.Rational(1,7),sp.Rational(3,16),sp.Rational(1,3),sp.Rational(2,3)]\n",
    "c = [sp.Rational(1,4),0,0,0,sp.Rational(3,4)]\n",
    "\n",
    "rk53 = rk_butcher(A=A,b=b,c=c,label=\"RK NSSP (5,3)\")\n",
    "del A,b,c\n",
    "rk53.stability_function()"
   ]
  },
  {
   "cell_type": "code",
   "execution_count": null,
   "metadata": {},
   "outputs": [],
   "source": [
    "\"\"\" test sur RK SSP(3,2) [Wang R. and Spiteri R. J. (2007)] \"\"\"\n",
    "A = [[ 0                , 0                , 0 ],\n",
    "     [ sp.Rational(1,2) , 0                , 0 ],\n",
    "     [ sp.Rational(1,2) , sp.Rational(1,2) , 0 ]]\n",
    "b =  [ 0 , sp.Rational(1,2) , 1 ]\n",
    "c =  [ sp.Rational(1,3) , sp.Rational(1,3) , sp.Rational(1,3) ]\n",
    "\n",
    "rk32 = rk_butcher(A=A,b=b,c=c,label=\"RK SSP (3,2)\")\n",
    "del A,b,c\n",
    "rk32.stability_function()"
   ]
  },
  {
   "cell_type": "code",
   "execution_count": null,
   "metadata": {},
   "outputs": [],
   "source": [
    "\"\"\" test sur DP 5 (Dormand-Prince) [Motamed M. and Macdonald C. and Ruuth S. (2010)] \"\"\"\n",
    "A = [[ 0                       , 0                       , 0                       , 0                    , 0                       , 0                  , 0 ],\n",
    "     [ sp.Rational(1,5)        , 0                       , 0                       , 0                    , 0                       , 0                  , 0 ],\n",
    "     [ sp.Rational(3,40)       , sp.Rational(9,40)       , 0                       , 0                    , 0                       , 0                  , 0 ],\n",
    "     [ sp.Rational(44,45)      ,-sp.Rational(56,15)      , sp.Rational(32,9)       , 0                    , 0                       , 0                  , 0 ],\n",
    "     [ sp.Rational(19372,6561) ,-sp.Rational(25360,2187) , sp.Rational(64448,6561) ,-sp.Rational(212,729) , 0                       , 0                  , 0 ],\n",
    "     [ sp.Rational(9017,3168)  ,-sp.Rational(355,33)     , sp.Rational(46732,5247) , sp.Rational(49,176)  ,-sp.Rational(5103,18656) , 0                  , 0 ],\n",
    "     [ sp.Rational(35,384)     , 0                       , sp.Rational(500,1113)   , sp.Rational(125,192) ,-sp.Rational(2187,6784)  , sp.Rational(11,84) , 0 ]]\n",
    "c1 = [ sp.Rational(35,384)     , 0                       , sp.Rational(500,1113)   , sp.Rational(125,192) ,-sp.Rational(2187,6784)  , sp.Rational(11,84) , 0 ]\n",
    "c2 = [ sp.Rational(5179,57600) , 0                       , sp.Rational(7571,16695) , sp.Rational(393,640) ,-sp.Rational(92097,339200) , sp.Rational(187,2100) , sp.Rational(1,40) ]\n",
    "b = [0,sp.Rational(1,5),sp.Rational(3,10),sp.Rational(4,5),sp.Rational(8,9),1,1]\n",
    "\n",
    "dp5 = rk_butcher(A=A,b=b,c=c1,label=\"DP5 RK(6,5)\")\n",
    "dp5_4 = rk_butcher(A=A,b=b,c=c2,label=\"DP5(4) RK(7,4)\")\n",
    "del A,b,c1,c2\n",
    "display(dp5.stability_function())\n",
    "display(dp5_4.stability_function())"
   ]
  },
  {
   "cell_type": "code",
   "execution_count": null,
   "metadata": {},
   "outputs": [],
   "source": [
    "\"\"\" test sur RK (8,6) [Banks J. W. et all (2019)] \"\"\"\n",
    "A = [[  0 ,  0 , 0 , 0 , 0 , 0 , 0 , 0 ] ,\n",
    "     [  sp.Rational(1,9)             ,  0                         ,  0                          ,  0                           ,  0                      , 0                     , 0                  , 0 ] ,\n",
    "     [  sp.Rational(1,24)            ,  sp.Rational(1,8)          ,  0                          ,  0                           ,  0                      , 0                     , 0                  , 0 ] ,\n",
    "     [  sp.Rational(1,6)             , -sp.Rational(1,2)          ,  sp.Rational(2,3)           ,  0                           ,  0                      , 0                     , 0                  , 0 ] ,\n",
    "     [  sp.Rational(935,2536)        , -sp.Rational(2781,2536)    ,  sp.Rational(309,317)       ,  sp.Rational(321,1268)       ,  0                      , 0                     , 0                  , 0 ] ,\n",
    "     [ -sp.Rational(12710,951)       ,  sp.Rational(8287,317)     , -sp.Rational(40,317)        , -sp.Rational(6335,317)       ,  8                      , 0                     , 0                  , 0 ] ,\n",
    "     [  sp.Rational(5840285,3104064) , -sp.Rational(7019,2536)    , -sp.Rational(52213,86224)   ,  sp.Rational(1278709,517344) , -sp.Rational(433,2448)  , sp.Rational(33,1088)  , 0                  , 0 ] , \n",
    "     [ -sp.Rational(5101675,1767592) ,  sp.Rational(112077,25994) ,  sp.Rational(334875,441898) , -sp.Rational(973617,883796)  , -sp.Rational(1421,1394) , sp.Rational(333,5576) , sp.Rational(36,41) , 0 ]]\n",
    "\n",
    "c =  [  sp.Rational(41,840)          ,  0                         ,  sp.Rational(9,35)          ,  sp.Rational(9,280)          ,  sp.Rational(34,105)    , sp.Rational(9,280)    , sp.Rational(9,35)  , sp.Rational(41,840) ]\n",
    "b =  [ 0 , sp.Rational(1,9) , sp.Rational(1,6) , sp.Rational(1,3) , sp.Rational(1,2) , sp.Rational(2,3) , sp.Rational(5,6) , 1 ]\n",
    "\n",
    "rk86 = rk_butcher(A=A,b=b,c=c,label=\"RK (8,6)\")\n",
    "del A,b,c\n",
    "(rk86.stability_function(),poly_carac(8))"
   ]
  },
  {
   "cell_type": "code",
   "execution_count": null,
   "metadata": {},
   "outputs": [],
   "source": [
    "plt.rcParams['figure.figsize'] = [6,6]\n",
    "\n",
    "for i,rk in enumerate((rk1,rk32best,rk33,rk33bis,rk44,rk44_38,rknssp33,rk53,rk32,dp5,rk86)):\n",
    "  rk.stability_domain(Ir=(-6,3),Ii=(-5,5), colors=default.palette[i%len(default.palette)])\n",
    "\n",
    "plt.legend(loc=(0.,1.02),ncol=3,mode=\"expand\",borderaxespad=0.)\n",
    "plt.axvline(0, color='gray',linestyle='--',linewidth=1.)\n",
    "plt.axis('equal')\n",
    "plt.show()\n",
    "\n",
    "plt.rcParams['figure.figsize'] = default.figsize\n",
    "del i,rk"
   ]
  },
  {
   "cell_type": "markdown",
   "metadata": {},
   "source": [
    "On peut souhaiter effectuer l'opération inverse, à partir d'une fonction de stabilité polynômiale (maximisant par exemple la stabilité sur l'axe imaginaire) retrouver le tableau de Butcher (et donc le schéma). Pour cela on calcule la fonction de stabilité d'une matrice $A=(a_{ij})_{ij}$ et un vecteur $c = (c_j)_j$, et on cherche à obtenir les relations d'ordre."
   ]
  },
  {
   "cell_type": "code",
   "execution_count": null,
   "metadata": {},
   "outputs": [],
   "source": [
    "s=3\n",
    "rk_coef = rk_butcher(A=np.array(sp.symbols('a_:%i:%i'%(s,s))).reshape((s,s)),\n",
    "                  b=sp.symbols('b:%i'%s),\n",
    "                  c=sp.symbols('c:%i'%s))\n",
    "\n",
    "pb = sp.Poly(rk_coef.stability_function(),z)\n",
    "pc = sp.Poly(poly_carac(s),z)\n",
    "\n",
    "# égalités entre le polynôme caractéristique et les coefficients de Butcher\n",
    "display((pb.as_expr(),pc.as_expr()))\n",
    "[display(sp.Eq(cb,cc)) for (cb,cc) in zip( pb.coeffs() , pc.coeffs() )];\n",
    "del s,rk_coef,pb,pc"
   ]
  },
  {
   "cell_type": "markdown",
   "metadata": {},
   "source": [
    "Maintenant il faut savoir quoi faire de ces relations d'ordre. On peut par exemple contraindre la forme de la matrice $A$ (par exemple diagonale inférieure, comme dans RK NSSP(5,3)), la positivité de certains coefficients, d'autres relations pour assurer un caractère SSP ou non, etc.\n",
    "\n",
    "> Il est normal que le résultat donné ici ne donne qu'une relation faisant intervenir $a_{10}$, $a_{20}$ et $a_{21}$ puisque pour le moment la fonction `poly_butcher` ne fonctionne qu'avec une méthode RK explicite. L'étude de DIRK2 par exemple nécessiterait une amélioration de la fonction."
   ]
  },
  {
   "cell_type": "markdown",
   "metadata": {},
   "source": [
    "On peut vouloir aussi écrire le schéma issu d'un tableau de Butcher. Par défaut le schéma obtenu directement à l'aide d'un tableau de Butcher n'est pas optimal d'un point de vue numérique dans le sens où il sous entend plus que $s$ (le nombre d'étages de la méthode) évaluations de la fonction $L$. Une amélioration du schéma est possible à l'aide d'un jeu de substituion des étapes précédentes."
   ]
  },
  {
   "cell_type": "code",
   "execution_count": null,
   "metadata": {},
   "outputs": [],
   "source": [
    "tn = sp.symbols(\"t^n\",real=True)\n",
    "\n",
    "def butcher_scheme ( A , b , c , shu_osher=False ):\n",
    "  us = name_stages(\"u\",len(c))\n",
    "  scheme_stages = []\n",
    "  r = range(len(c))\n",
    "  u_s = [ 0 for i in r ]\n",
    "  for i in r:\n",
    "    u_si = us[0] + dt*sum([ A[i][j]*L(tn+b[j]*dt,us[j]) for j in r ])\n",
    "    scheme_stages.append(sp.Eq(us[i],u_si))\n",
    "  un1 = us[0] + dt*sum([ c[i]*L(tn+b[i]*dt,us[i]) for i in r ])\n",
    "  scheme_stages.append(sp.Eq(us[-1],un1))\n",
    "  \n",
    "  scheme_stages = scheme_stages[1:]\n",
    "  if shu_osher :\n",
    "    L_subs = []\n",
    "    for i,eq in enumerate(scheme_stages[:-1]):\n",
    "      scheme_stages[i] = eq.subs(L_subs).simplify().expand()\n",
    "      L_subs.append(( L(tn+b[i]*dt,us[i]) , sp.solve(scheme_stages[i],L(tn+b[i]*dt,us[i]))[0] ))\n",
    "    scheme_stages[-1] = scheme_stages[-1].subs(L_subs).expand()\n",
    "                    \n",
    "  return scheme_stages\n",
    "\n",
    "rk_butcher.scheme = lambda self,shu_osher=False:butcher_scheme(self.A,self.b,self.c,shu_osher)"
   ]
  },
  {
   "cell_type": "code",
   "execution_count": null,
   "metadata": {},
   "outputs": [],
   "source": [
    "[ display(eq) for eq in rknssp33.scheme(shu_osher=False) ];"
   ]
  },
  {
   "cell_type": "markdown",
   "metadata": {},
   "source": [
    "### 2.1.3 Récapitulatif des domaines des différentes méthodes en temps"
   ]
  },
  {
   "cell_type": "markdown",
   "metadata": {},
   "source": [
    "On peut résumer tous les schémas en temps présentés par la figure ci-dessous."
   ]
  },
  {
   "cell_type": "code",
   "execution_count": null,
   "metadata": {},
   "outputs": [],
   "source": [
    "plt.rcParams['figure.figsize'] = [8,8]\n",
    "\n",
    "for i,rk in enumerate((rk33so,rk43,rk76,rk1,rk2,rk32best,rk33,rk33bis,rk44,rk44_38,rknssp33,rk53,rk32,rk86,dp5)):\n",
    "  rk.stability_domain(Ir=(-6,3,500),Ii=(-5,5,500),colors=default.palette[i%len(default.palette)])\n",
    "  \n",
    "plt.legend(loc=(0.,1.02),ncol=4,mode=\"expand\",borderaxespad=0.)\n",
    "plt.axvline(0, color='gray',linestyle='--',linewidth=1.)\n",
    "plt.axis('equal')\n",
    "plt.show()\n",
    "\n",
    "plt.rcParams['figure.figsize'] = default.figsize\n",
    "del i,rk"
   ]
  },
  {
   "cell_type": "markdown",
   "metadata": {},
   "source": [
    "### 2.1.4 Recherche du meilleur domaine de stabilité"
   ]
  },
  {
   "cell_type": "markdown",
   "metadata": {},
   "source": [
    "Nicolas est intéressé par effectuer une étude un peu inverse, c'est-à-dire trouver le meilleur coefficient $\\alpha$ tel que le polynôme caractéristique :\n",
    "\n",
    "$$\n",
    "  \\alpha z^4 + \\frac{z^3}{6} + \\frac{z^2}{2} + z + 1\n",
    "$$\n",
    "\n",
    "ait le plus grand domaine de stabilité (en particulier sur l'axe imaginaire, pour exprimer la stabilité d'un schéma non diffusif). C'est à dire ajouter un étage sur une méthode RK3 existante, telle que celle-ci obtienne une meilleure stabilité."
   ]
  },
  {
   "cell_type": "code",
   "execution_count": null,
   "metadata": {},
   "outputs": [],
   "source": [
    "alpha = sp.symbols(\"\\\\alpha\",real=True,positive=True)\n",
    "\n",
    "def poly_RKn1n(n):\n",
    "  \"\"\" return stability function of explicit RK(n+1,n) scheme with alpha coefficient for the last coeff \"\"\"\n",
    "  return alpha*z**(n+1) + poly_carac(n)"
   ]
  },
  {
   "cell_type": "code",
   "execution_count": null,
   "metadata": {},
   "outputs": [],
   "source": [
    "n = 3\n",
    "\n",
    "plt.rcParams['figure.figsize'] = [10,8]\n",
    "for k in range(1,57,2):\n",
    "  print(k,end=\"\\r\")\n",
    "  contour(sp.Abs(poly_RKn1n(n)).subs(alpha,sp.Rational(1,k)),z,(-7.,2.,500),(-3.5,3.5,500), levels=[1.],colors=default.palette[int((k-1)/2)%len(default.palette)],label=\"$\\\\alpha = {}$\".format(sp.latex(sp.Rational(1,k))))\n",
    "print(\" \"*len(str(k)))\n",
    "contour(sp.Abs(poly_carac(n+1)),z,(-7.,2.,500),(-3.5,3.5,500),linewidths=2,linestyles=['-.'],levels=[1.],colors=default.palette[3],label=\"RK({},{}) $\\\\alpha = {}$\".format(n+1,n+1,sp.Rational(1,sp.factorial(n+1))))\n",
    "contour(sp.Abs(poly_carac(n)),z,(-7.,2.,500),(-3.5,3.5,500),linewidths=2,linestyles=[':'],levels=[1.],colors=default.palette[9],label=\"RK({},{}) $\\\\alpha = {}$\".format(n,n,sp.Rational(1,sp.factorial(n))))\n",
    "\n",
    "plt.legend(loc=(0.,1.02),ncol=7,mode=\"expand\",borderaxespad=0.)\n",
    "plt.axvline(0, color='gray',linestyle='--',linewidth=1.)\n",
    "plt.axis('equal')\n",
    "plt.show()\n",
    "\n",
    "plt.rcParams['figure.figsize'] = default.figsize\n",
    "del n,k"
   ]
  },
  {
   "cell_type": "markdown",
   "metadata": {},
   "source": [
    "Ce qui nous intéresse ici est de maximiser le domaine de stabilité sur l'axe imaginaire. Il est très compliqué de chercher à maximiser le domaine de stabilité d'une méthode RK($s$,$n$) pour WENO. En plus de cela il est nécessaire de trouver par la suite une solution aux relations d'ordre dans la fonction de stabilité.\n",
    "\n",
    "La maximisation du domaine sur l'axe imaginaire permet de stabiliser avec la plus grande CFL possible un transport pur. Le coefficient $\\alpha$ maximisant le domaine sur l'axe imaginaire avec un RK2 à 3 étages est $\\alpha = \\frac{1}{4}$.\n",
    "\n",
    "> **Preuve :** considérons le polynôme caractéristique $R_{\\alpha}$ d'un schéma RK2 à 3 étages avec un coefficient $\\alpha$ :\n",
    "> \n",
    "> $$ R_{\\alpha}(z) = 1 + z + \\frac{z^2}{2} + \\alpha z^3 $$\n",
    "> \n",
    "> On cherche à évaluer le polynôme en $z=i\\beta$, correspondant à l'intersection de l'ensemble $\\{ z\\ /\\  |R_\\alpha(z)|=1 \\}$ avec l'axe imaginaire.\n",
    "> \n",
    "> $$ R_\\alpha(i\\beta) = 1 + i\\beta - \\frac{\\beta^2}{2} - i\\beta^3\\alpha $$\n",
    "> \n",
    "> on souhaite un module égale à 1 :\n",
    "> \n",
    "> $$ 1 = |R_\\alpha(i\\beta)|^2 = \\left(1-\\frac{\\beta^2}{2}\\right)^2 + \\left(\\beta - \\beta^3\\alpha \\right)^2 $$\n",
    "> \n",
    "> ce qui peut se simplifier par :\n",
    "> \n",
    "> $$ \\alpha^2\\beta^6 + (\\frac{1}{4}-2\\alpha)\\beta^4 = 0 $$\n",
    ">\n",
    ">En supposant $\\beta \\neq 0$ :\n",
    ">\n",
    ">$$ \\alpha^2\\beta^2 -2\\alpha + \\frac{1}{4} = 0 $$\n",
    ">\n",
    ">soit :\n",
    ">\n",
    ">$$ \\beta^2 = \\frac{2\\alpha - \\frac{1}{4}}{\\alpha^2} $$\n",
    ">\n",
    ">on obtient ainsi une fonction $\\beta^2:\\alpha\\mapsto \\frac{2\\alpha - \\frac{1}{4}}{\\alpha^2}$ dont on souhaite trouver le maximum (ou plus exactement le coefficient $\\alpha$ où est atteint le maximum, ce qui explique que l'on ne s'intéresse qu'au coefficient $\\beta^2$ et non explicitement $\\beta$).\n",
    ">\n",
    ">$$ \\left(\\beta^2\\right)'(\\alpha) = \\frac{-2\\alpha^2 + \\frac{\\alpha}{2}}{\\alpha^4} $$\n",
    ">\n",
    ">la dérivée s'annule en $\\alpha = \\frac{1}{4}$ □\n",
    "\n",
    "\n",
    "La maximisation du domaine sur l'axe imaginaire ne permet pas rigoureusement de maximiser la CFL du couple de schéma RK$^\\alpha N$-WENO mais permet de se donner une idée ; prenons par exemple le cas de RK2 à 3 étages, comme dit précédemment le coefficient $\\alpha$ maximisant le domaine de stabilité sur l'axe imaginaire est $\\alpha = \\frac{1}{4}$, représenté par le courbe orange sur la figure, or il est possible d'obtenir une CFL plus importante avec le coefficient $\\alpha=\\frac{1}{5}$, pour lequel on représente le coefficient d'amplification en rose de WENO$\\times$1.4 (sans aller chercher $\\alpha=\\frac{1}{6}$ qui correspond à RK3)."
   ]
  },
  {
   "cell_type": "code",
   "execution_count": null,
   "metadata": {},
   "outputs": [],
   "source": [
    "\"\"\"\n",
    "  automatic compute for the best alpha coeficient to maximize stability domain on imaginary axis\n",
    "\"\"\"\n",
    "n=3 # avec n=2 on retrouve bien 1/4\n",
    "beta = sp.symbols(\"\\\\beta\",real=True,positive=True)\n",
    "p = poly_RKn1n(n)\n",
    "\n",
    "alphas = []\n",
    "# on cherche à résoudre $|p(ib)|^2 -1 = 0$, solutions auxquels on soustrait 0\n",
    "# puis on dérive les solutions (qui dépendent de alpha) pour savoir où la dérivée s'annule et donc où beta\n",
    "# est maximisé\n",
    "for a in sp.solveset((sp.Abs(p.subs(z,beta*I))**2-1).collect(beta),beta**2)-sp.sets.FiniteSet(0):\n",
    "  betaset = sp.solveset(a.diff(alpha),alpha,domain=sp.S.Reals)\n",
    "  if betaset != sp.sets.EmptySet :\n",
    "    alphas.extend(betaset)\n",
    "display((alphas[0],alphas[0].evalf()))\n",
    "\n",
    "del beta,p,a,betaset"
   ]
  },
  {
   "cell_type": "code",
   "execution_count": null,
   "metadata": {},
   "outputs": [],
   "source": [
    "\"\"\" visualisation of this result \"\"\"\n",
    "\n",
    "fig, (ax1,ax2) = plt.subplots(1,2,figsize=(14,7))\n",
    "p = poly_RKn1n(n)\n",
    "\n",
    "for i,k in enumerate(range(int(1./alphas[0].evalf())-3,int(1./alphas[0].evalf())+9,2)):\n",
    "  print(k,end=\"\\r\")\n",
    "  tmp_fig = plt.figure()\n",
    "  tmp = contour(sp.Abs(poly_RKn1n(n)).subs(alpha,sp.Rational(1,k)),z,(-7.,2.,500),(-3.5,3.5,500), levels=[1.]).allsegs[0]\n",
    "  data = max(tmp,key=lambda dat:len(dat))\n",
    "  plt.close(tmp_fig); del tmp_fig,tmp\n",
    "  ax1.plot(data[:,0],data[:,1],color=default.palette[i%len(default.palette)],label=\"$\\\\alpha = {}$\".format(sp.latex(sp.Rational(1,k))))\n",
    "  ax2.plot(data[:,0],data[:,1],color=default.palette[i%len(default.palette)])\n",
    "  \n",
    "print(alphas[0],end=\"\\r\")\n",
    "tmp_fig = plt.figure()\n",
    "tmp = contour(sp.Abs(poly_RKn1n(n)).subs(alpha,alphas[0]),z,(-7.,2.,500),(-3.5,3.5,500), levels=[1.],colors=default.palette[int((k-1)/2)%len(default.palette)],label=\"$\\\\alpha = {}$\".format(alphas[0])).allsegs[0]\n",
    "data = max(tmp,key=lambda dat:len(dat))\n",
    "plt.close(tmp_fig); del tmp_fig,tmp\n",
    "ax1.plot(data[:,0],data[:,1],'--',color=default.palette[(i+3)%len(default.palette)],linewidth=3,label=\"$\\\\alpha = {}$\".format(sp.latex(alphas[0])))\n",
    "ax2.plot(data[:,0],data[:,1],'--',color=default.palette[(i+3)%len(default.palette)],linewidth=3)\n",
    "ax2.axvline(0, color='gray',linestyle='--',linewidth=1.)\n",
    "print(\" \"*len(str(alphas[0])))\n",
    "\n",
    "fig.legend(loc=(0.,0.),ncol=7,mode=\"expand\",borderaxespad=0.,markerscale=10)\n",
    "ax2.set_xlim([-0.025,0.01]) ; ax2.set_ylim([2.82,2.86])\n",
    "plt.show()\n",
    "\n",
    "del fig,ax1,ax2,p,i,k,data"
   ]
  },
  {
   "cell_type": "markdown",
   "metadata": {},
   "source": [
    "### 2.1.5 Order star"
   ]
  },
  {
   "cell_type": "markdown",
   "metadata": {},
   "source": [
    "Il est possible assez facilement, pour étudier certaines propriétés de nos schémas en temps, de tracer l'*order star* (n'ayant vu aucun article francophone en parler j'utlise le terme en anglais). L'*order star* est définie comme : $\\{\\mathcal{A}_+,\\mathcal{A}_0,\\mathcal{A}_-\\}$ avec :\n",
    "\n",
    "* $\\mathcal{A}_+ = \\left\\{ z\\in\\mathbb{C}\\,:\\, |e^{-z}R(z)|>1 \\right\\}$\n",
    "* $\\mathcal{A}_0 = \\left\\{ z\\in\\mathbb{C}\\,:\\, |e^{-z}R(z)|=1 \\right\\}$\n",
    "* $\\mathcal{A}_- = \\left\\{ z\\in\\mathbb{C}\\,:\\, |e^{-z}R(z)|<1 \\right\\}$\n",
    "\n",
    "où $R$ est le polynôme caractéristique, ou approximation de Padé de la fonction à étudier.\n",
    "\n",
    "> Pour des raisons techniques, il est plus simple de colorier l'ensemble des points du plan dont la valeur d'une fonction est comprise entre 2 bornes finies, par conséquent, en bleu, nous alons afficher $ \\mathcal{A}_-$."
   ]
  },
  {
   "cell_type": "code",
   "execution_count": null,
   "metadata": {},
   "outputs": [],
   "source": [
    "def contourf ( expr , z , Ir , Ii , **kwargs):\n",
    "  x,y = sp.symbols(\"x y\",real=True)\n",
    "  f = sp.lambdify((x, y), expr.subs(z,x+I*y),'numpy')\n",
    "  \n",
    "  a = np.linspace(*Ir)\n",
    "  b = np.linspace(*Ii)\n",
    "  X, Y = np.meshgrid(a, b)\n",
    "  try:\n",
    "    lab = kwargs.pop(\"label\")\n",
    "  except:\n",
    "    lab = \"\"\n",
    "  try:\n",
    "    c = kwargs[\"colors\"]\n",
    "  except:\n",
    "    c = palette[0]\n",
    "  if len(lab) > 0 :\n",
    "    plt.plot([0],[0],'s',markersize=1,label=lab,color=c)\n",
    "  return plt.contourf(X,Y, f(X,Y).real,**kwargs)"
   ]
  },
  {
   "cell_type": "code",
   "execution_count": null,
   "metadata": {},
   "outputs": [],
   "source": [
    "plt.rcParams['figure.figsize'] = [5,5]\n",
    "contourf(sp.Abs(sp.exp(-z)*rk33.stability_function()),z,(-5,5,100),(-5,5,100),levels=[0.,1.],colors=default.palette[0],label=\"$\\mathcal{A}_-$\")\n",
    "plt.legend(loc=(0.,1.02),ncol=3,mode=\"expand\",borderaxespad=0.,markerscale=8)\n",
    "plt.show()\n",
    "plt.rcParams['figure.figsize'] = default.figsize"
   ]
  },
  {
   "cell_type": "code",
   "execution_count": null,
   "metadata": {},
   "outputs": [],
   "source": [
    "plt.rcParams['figure.figsize'] = [10,10]\n",
    "\n",
    "for i,rk in enumerate((rk1,rk32best,rk33,rk33bis,rk44,rk44_38,rknssp33,rk53,rk32,dp5,rk86)):\n",
    "  contour(sp.Abs(sp.exp(-z)*rk.stability_function()),z,(-5,5,200),(-5,5,200),levels=[1.],colors=default.palette[i%len(default.palette)],label=rk.label )\n",
    "\n",
    "plt.legend(loc=(0.,1.02),ncol=6,mode=\"expand\",borderaxespad=0.)\n",
    "plt.show()\n",
    "\n",
    "plt.rcParams['figure.figsize'] = default.figsize"
   ]
  },
  {
   "cell_type": "markdown",
   "metadata": {},
   "source": [
    "## 2.2 Méthode diagonal implicit Runge-Kutta"
   ]
  },
  {
   "cell_type": "markdown",
   "metadata": {},
   "source": [
    "Nous n'avons étudier jusqu'à présent que des schémas de type Runge-Kutta explicite (ou eRK), et cela se traduit par un tableau de Butcher triangulaire strictement inférieur. Le cas général d'un tableau de Butcher plein est envisageable, le schéma est alors implicite, ce qui permet souvent d'améliorer sa stabilité au détriment du coût de calcul (à cause de l'inversion d'un système). Le compromis de DIRK est de ne rendre que la diagonale implicite. Nous allons étudier ici ce genre de schéma.\n",
    "\n",
    "L'inversion du schéma WENO nécessaire dans une méthode implicite étant un problème compliqué (voir [[S. Gottlieb, J. Mullen et S. Ruuth]](http://doi.org/10.1007/s10915-005-9034-z)), on se contentera de la présentation de ces méthodes."
   ]
  },
  {
   "cell_type": "code",
   "execution_count": null,
   "metadata": {},
   "outputs": [],
   "source": [
    "def poly_dirk( A , c , b=0 ):\n",
    "  r = range(len(c))\n",
    "  u_s = [ 0 for i in r ]\n",
    "  for i in r:\n",
    "    u_si = un + dt*sum([ A[i][j]*lamb*sp.symbols(\"u^{}\".format(j)) for j in r ])\n",
    "    for j in range(i) :\n",
    "      u_si = u_si.subs(sp.symbols(\"u^{}\".format(j)),u_s[j])\n",
    "    ui = sp.symbols(\"u^{}\".format(i))\n",
    "    eq = sp.Eq(ui,u_si)\n",
    "    u_s[i] = sp.solve(eq,ui)[0]\n",
    "  un1 = un + dt*sum([ c[j]*lamb*u_s[j] for j in r ])\n",
    "  return un1.subs(sp.symbols(\"u^0\"),u_s[0]).expand().subs(lamb*dt,z).subs(un,1)\n",
    "\n",
    "def to_gnuplot ( R , z , dic=None ):\n",
    "  x,y = sp.symbols(\"x y\",real=True)\n",
    "  r = R.subs(z,x+I*y)\n",
    "  if dic :\n",
    "    r = r.subs(dic)\n",
    "  return str(r)"
   ]
  },
  {
   "cell_type": "markdown",
   "metadata": {},
   "source": [
    "Commençons par le premier schéma DIRK présenté dans [[Alexander R. (1976)]](https://doi.org/10.1137/0714068), dont voici le tableau de Butcher :\n",
    "\n",
    "$$\n",
    "  \\begin{array}{c c | c}\n",
    "    \\frac{1}{2}+\\frac{1}{2\\sqrt{3}} & 0                               & \\frac{1}{2} + \\frac{1}{2\\sqrt{3}} \\\\\n",
    "    -\\frac{1}{\\sqrt{3}}             & \\frac{1}{2}+\\frac{1}{2\\sqrt{3}} & \\frac{1}{2} - \\frac{1}{2\\sqrt{3}} \\\\\n",
    "    \\hline\n",
    "    \\frac{1}{2}                     & \\frac{1}{2} &\n",
    "  \\end{array}\n",
    "$$\n",
    "\n",
    "est une méthode DIRK(2,3). Le polynôme caractéristique des méthodes DIRK est une fonction rationnelle."
   ]
  },
  {
   "cell_type": "code",
   "execution_count": null,
   "metadata": {},
   "outputs": [],
   "source": [
    "A = [[sp.Rational(1,2)+1/(2*sp.sqrt(3)),0                                ],\n",
    "     [-1/sp.sqrt(3)                    ,sp.Rational(1,2)+1/(2*sp.sqrt(3))]]\n",
    "c = [ sp.Rational(1,2)                 ,sp.Rational(1,2)                  ]\n",
    "dirk23 = poly_dirk(A=A,c=c).simplify().collect(z)\n",
    "display(dirk23)\n",
    "print(to_gnuplot(dirk23,z))\n",
    "del A,c"
   ]
  },
  {
   "cell_type": "code",
   "execution_count": null,
   "metadata": {},
   "outputs": [],
   "source": [
    "from mpl_toolkits.mplot3d import Axes3D\n",
    "from matplotlib import cm\n",
    "from matplotlib.ticker import LinearLocator, FormatStrFormatter\n",
    "\n",
    "plt.rcParams['figure.figsize'] = [10,10]\n",
    "fig = plt.figure()\n",
    "ax = fig.gca(projection='3d')\n",
    "\n",
    "# Make data.\n",
    "X = np.arange(-10,10,0.01)\n",
    "Y = np.arange(-10,10,0.01)\n",
    "X, Y = np.meshgrid(X, Y)\n",
    "R = sp.lambdify(z,dirk23,'numpy')\n",
    "Z = np.abs(R(X+1j*Y))\n",
    "Z = np.where(Z>1,1.1,Z)\n",
    "\n",
    "# Plot the surface.\n",
    "surf = ax.plot_surface(X, Y, Z,cmap='viridis', edgecolor='none',linewidth=0,antialiased=True)\n",
    "\n",
    "# Customize the z axis.\n",
    "ax.set_zlim(0,1.01)\n",
    "ax.zaxis.set_major_locator(LinearLocator(10))\n",
    "ax.zaxis.set_major_formatter(FormatStrFormatter('%.02f'))\n",
    "\n",
    "# Add a color bar which maps values to colors.\n",
    "fig.colorbar(surf,shrink=0.5,aspect=5)\n",
    "\n",
    "plt.show()\n",
    "plt.rcParams['figure.figsize'] = default.figsize\n",
    "\n",
    "del X,Y,Z,R,surf,ax,fig"
   ]
  },
  {
   "cell_type": "markdown",
   "metadata": {},
   "source": [
    "Par la suite, on ne présentera que les domaines de stabilité."
   ]
  },
  {
   "cell_type": "code",
   "execution_count": null,
   "metadata": {},
   "outputs": [],
   "source": [
    "plt.rcParams['figure.figsize'] = [6,6]\n",
    "contourf(sp.Abs(dirk23),z,(-3,17,500),(-10,10,500),levels=[0,1.],colors=default.palette[0],label=\"Stability domaine of DIRK(2,3)\")\n",
    "plt.plot(*reim(-weno5l.ztilde.data),color=default.palette[1],label=weno5l.name)\n",
    "plt.legend(loc=(0.,1.02),ncol=3,mode=\"expand\",borderaxespad=0.,markerscale=8)\n",
    "plt.show()\n",
    "plt.rcParams['figure.figsize'] = default.figsize"
   ]
  },
  {
   "cell_type": "markdown",
   "metadata": {},
   "source": [
    "Il est intéressant de remarquer que :\n",
    "1. On trace l'opposé du coefficient d'amplification que nous avions précédemment car avec une méthode RK on résout $u_x = -u_x$, or on traçait le coefficient de $+u_x$.\n",
    "2. Il est important, surtout pour des méthodes implicites, de ne pas tracer que la bordure du domaine de stabilité car (on le verra par la suite) il est difficile de prédire de quel côté de la bordure est le domaine."
   ]
  },
  {
   "cell_type": "code",
   "execution_count": null,
   "metadata": {},
   "outputs": [],
   "source": [
    "\"\"\" order star of DIRK(2,3) \"\"\"\n",
    "plt.rcParams['figure.figsize'] = [5,5]\n",
    "contourf(sp.Abs(sp.exp(-z)*dirk23),z,(-3,3,500),(-3,3,500),levels=[0,1.],colors=default.palette[0],label=\"$\\mathcal{A}_-$\")\n",
    "plt.legend(loc=(0.,1.02),ncol=3,mode=\"expand\",borderaxespad=0.,markerscale=8)\n",
    "plt.show()\n",
    "plt.rcParams['figure.figsize'] = default.figsize"
   ]
  },
  {
   "cell_type": "markdown",
   "metadata": {},
   "source": [
    "Posons $\\alpha = \\frac{2\\cos\\left(\\frac{\\pi}{18}\\right)}{\\sqrt{3}}$ :\n",
    "$$\n",
    "  \\begin{array}{c c c | c}\n",
    "  \\frac{1+\\alpha}{2}  & 0                     & 0                   & \\frac{1+\\alpha}{2} \\\\\n",
    "  -\\frac{\\alpha}{2}   & \\frac{1+\\alpha}{2}    & 0                   & \\frac{1}{2}        \\\\\n",
    "  1+\\alpha            & -(1+2\\alpha)          & \\frac{1+\\alpha}{2}  & \\frac{1-\\alpha}{2} \\\\\n",
    "  \\hline\n",
    "  \\frac{1}{6\\alpha^2} & 1-\\frac{1}{3\\alpha^2} & \\frac{1}{6\\alpha^2} &\n",
    "  \\end{array}\n",
    "$$\n",
    "est une méthode DIRK(3,4)."
   ]
  },
  {
   "cell_type": "code",
   "execution_count": null,
   "metadata": {},
   "outputs": [],
   "source": [
    "n_alpha = 2*sp.cos(sp.pi/18)/sp.sqrt(3)\n",
    "A = [[(1+n_alpha)/2   ,0               ,0            ],\n",
    "     [-n_alpha/2      ,(1+n_alpha)/2     ,0            ],\n",
    "     [1+n_alpha       ,-(1+2*n_alpha)    ,(1+n_alpha)/2  ]]\n",
    "c = [ 1/(6*n_alpha**2),1-1/(3*n_alpha**2),1/(6*n_alpha**2)]\n",
    "dirk34 = poly_dirk(A=A,c=c)\n",
    "\n",
    "dirk34 = dirk34.subs(n_alpha,n_alpha.evalf()).collect(z)\n",
    "plt.rcParams['figure.figsize'] = [7,7]\n",
    "contourf(sp.Abs(dirk34),z,(-3,10,100),(-7.5,7.5,100),levels=[0,1.],colors=default.palette[0],label=\"Stability domaine of DIRK(3,4)\")\n",
    "plt.plot(*reim(-weno5l.ztilde.data),color=default.palette[1],label=weno5l.name)\n",
    "plt.legend(loc=(0.,1.02),ncol=3,mode=\"expand\",borderaxespad=0.,markerscale=8)\n",
    "plt.axis('equal')\n",
    "plt.show()\n",
    "plt.rcParams['figure.figsize'] = default.figsize\n",
    "del n_alpha,A,c"
   ]
  },
  {
   "cell_type": "code",
   "execution_count": null,
   "metadata": {},
   "outputs": [],
   "source": [
    "plt.rcParams['figure.figsize'] = [7,7]\n",
    "contourf(sp.Abs(dirk34),z,(-1.5,2.,100),(-1.75,1.75,100),levels=[0,1.],colors=default.palette[0],label=\"Stability domaine of DIRK(3,4)\")\n",
    "plt.plot(*reim(-weno5l.ztilde.data),color=default.palette[1],label=weno5l.name)\n",
    "plt.legend(loc=(0.,1.02),ncol=3,mode=\"expand\",borderaxespad=0.,markerscale=8)\n",
    "plt.show()\n",
    "plt.rcParams['figure.figsize'] = default.figsize"
   ]
  },
  {
   "cell_type": "code",
   "execution_count": null,
   "metadata": {},
   "outputs": [],
   "source": [
    "\"\"\" order star \"\"\"\n",
    "plt.rcParams['figure.figsize'] = [5,5]\n",
    "contourf(sp.Abs(sp.exp(-z)*dirk34),z,(-3,3,100),(-3,3,100),levels=[0,1.],colors=default.palette[0],label=\"$\\mathcal{A}_-$\")\n",
    "plt.legend(loc=(0.,1.02),ncol=3,mode=\"expand\",borderaxespad=0.,markerscale=8)\n",
    "plt.show()\n",
    "plt.rcParams['figure.figsize'] = default.figsize"
   ]
  },
  {
   "cell_type": "markdown",
   "metadata": {},
   "source": [
    "Maintenant deux méthodes *strong S-stable* d'ordre 2 à 2 étages.\n",
    "$$\n",
    "  \\begin{array}{c c  | c }\n",
    "    \\alpha   & 0      & \\alpha \\\\\n",
    "    1-\\alpha & \\alpha & 1 \\\\\n",
    "    \\hline\n",
    "    1-\\alpha & \\alpha &\n",
    "  \\end{array}\n",
    "$$\n",
    "avec $\\alpha = 1\\pm\\frac{1}{2}\\sqrt{2}$. Les propritétés de stabilités de la méthode changent significativement en fonction de la valeur du coefficient $\\alpha$."
   ]
  },
  {
   "cell_type": "code",
   "execution_count": null,
   "metadata": {},
   "outputs": [],
   "source": [
    "n_alpha = 1+sp.Rational(1,2)*sp.sqrt(2)\n",
    "A = [[n_alpha  ,0    ],\n",
    "     [1-n_alpha,n_alpha]]\n",
    "c = [ 1-n_alpha,n_alpha ]\n",
    "dirk22ss = poly_dirk(A=A,c=c).collect(z)\n",
    "\n",
    "plt.rcParams['figure.figsize'] = [7,7]\n",
    "contourf(sp.Abs(dirk22ss),z,(-1.3,1.7,100),(-1.75,1.75,100),levels=[0,1.],colors=default.palette[0],label=\"Stability domaine of DIRK(2,2) S-stable\")\n",
    "plt.plot(*reim(-weno5l.ztilde.data),color=default.palette[1],label=weno5l.name)\n",
    "plt.legend(loc=(0.,1.02),ncol=3,mode=\"expand\",borderaxespad=0.,markerscale=8)\n",
    "plt.show()\n",
    "plt.rcParams['figure.figsize'] = default.figsize\n",
    "del n_alpha,A,c"
   ]
  },
  {
   "cell_type": "code",
   "execution_count": null,
   "metadata": {},
   "outputs": [],
   "source": [
    "plt.rcParams['figure.figsize'] = [5,5]\n",
    "contourf(sp.Abs(dirk22ss*sp.exp(-z)),z,(-1.5,1.5,100),(-1.5,1.5,100),levels=[0,1.],colors=default.palette[0],label=\"$\\mathcal{A}_-$\")\n",
    "plt.legend(loc=(0.,1.02),ncol=3,mode=\"expand\",borderaxespad=0.,markerscale=8)\n",
    "plt.show()\n",
    "plt.rcParams['figure.figsize'] = default.figsize"
   ]
  },
  {
   "cell_type": "code",
   "execution_count": null,
   "metadata": {},
   "outputs": [],
   "source": [
    "n_alpha = 1-sp.Rational(1,2)*sp.sqrt(2)\n",
    "A = [[n_alpha  ,0    ],\n",
    "     [1-n_alpha,n_alpha]]\n",
    "c = [ 1-n_alpha,n_alpha ]\n",
    "dirk22ss_m = poly_dirk(A=A,c=c).collect(z)\n",
    "\n",
    "plt.rcParams['figure.figsize'] = [7,7]\n",
    "contourf(sp.Abs(dirk22ss_m),z,(-1.5,12.,100),(-8,8,100),levels=[0,1.],colors=default.palette[0],label=\"Stability domaine of DIRK(2,2) S-stable\")\n",
    "plt.plot(*reim(-weno5l.ztilde.data),color=default.palette[1],label=weno5l.name)\n",
    "plt.legend(loc=(0.,1.02),ncol=3,mode=\"expand\",borderaxespad=0.,markerscale=8)\n",
    "plt.show()\n",
    "plt.rcParams['figure.figsize'] = default.figsize\n",
    "del n_alpha,A,c"
   ]
  },
  {
   "cell_type": "code",
   "execution_count": null,
   "metadata": {},
   "outputs": [],
   "source": [
    "plt.rcParams['figure.figsize'] = [5,5]\n",
    "contourf(sp.Abs(dirk22ss_m*sp.exp(-z)),z,(-5,6.,100),(-5,5,100),levels=[0,1.],colors=default.palette[0],label=\"$\\mathcal{A}_-$\")\n",
    "plt.legend(loc=(0.,1.02),ncol=3,mode=\"expand\",borderaxespad=0.,markerscale=8)\n",
    "plt.show()\n",
    "plt.rcParams['figure.figsize'] = default.figsize"
   ]
  },
  {
   "cell_type": "markdown",
   "metadata": {},
   "source": [
    "Maintenant une méthode *strong S-stable* d'ordre 3 à 3 étages :\n",
    "\n",
    "$$\n",
    "  \\begin{array}{c c c | c}\n",
    "    \\alpha        & 0      & 0      & \\alpha \\\\\n",
    "    \\tau_2-\\alpha & \\alpha & 0      & \\tau_2 \\\\\n",
    "    b_1           & b_2    & \\alpha & 1      \\\\\n",
    "    \\hline\n",
    "    b_1           & b_2    & \\alpha &\n",
    "  \\end{array}\n",
    "$$\n",
    "\n",
    "avec $\\alpha$ la racine de $x^3-3x+\\frac{3}{2}x-\\frac{1}{6}=0$ vivant dans $[\\frac{1}{6},\\frac{1}{2}]$, $\\alpha \\approx 0.43586652$\n",
    "\n",
    "* $\\tau = \\frac{1+\\alpha}{2}$\n",
    "* $b_1 = -\\frac{6\\alpha^2-16\\alpha+1}{4}$\n",
    "* $b_2 = \\frac{6\\alpha^2-20\\alpha+5}{4}$"
   ]
  },
  {
   "cell_type": "code",
   "execution_count": null,
   "metadata": {},
   "outputs": [],
   "source": [
    "p = x**3 - 3*x**2 + sp.Rational(3,2)*x - sp.Rational(1,6)\n",
    "subset = sp.solve(sp.Poly(x**3-3*x**2+sp.Rational(3,2)*x-sp.Rational(1,6)),x)\n",
    "n_alpha = sp.re(subset[0].evalf())\n",
    "tau2 = (1+n_alpha)/2\n",
    "b1 = -(6*n_alpha**2-16*n_alpha+1)/4\n",
    "b2 = (6*n_alpha**2-20*n_alpha+5)/4\n",
    "\n",
    "A = [[n_alpha     ,0      ,0      ],\n",
    "     [tau2-n_alpha,n_alpha,0      ],\n",
    "     [b1          ,b2     ,n_alpha]]\n",
    "c = [ b1          ,b2     ,n_alpha ]\n",
    "dirk33ss = poly_dirk(A=A,c=c)\n",
    "\n",
    "del p,subset,n_alpha,tau2,b1,b2,A,c"
   ]
  },
  {
   "cell_type": "code",
   "execution_count": null,
   "metadata": {},
   "outputs": [],
   "source": [
    "\"\"\" stability domain \"\"\"\n",
    "plt.rcParams['figure.figsize'] = [7,7]\n",
    "contourf(sp.Abs(dirk33ss),z,(-3,10,400),(-6.5,6.5,400),levels=[0,1.],colors=default.palette[0],label=\"Stability domaine of DIRK(3,3) S-stable\")\n",
    "plt.plot(*reim(-weno5l.ztilde.data),color=default.palette[1],label=weno5l.name)\n",
    "plt.legend(loc=(0.,1.02),ncol=3,mode=\"expand\",borderaxespad=0.,markerscale=8)\n",
    "plt.show()\n",
    "plt.rcParams['figure.figsize'] = default.figsize"
   ]
  },
  {
   "cell_type": "code",
   "execution_count": null,
   "metadata": {},
   "outputs": [],
   "source": [
    "\"\"\" order star \"\"\"\n",
    "plt.rcParams['figure.figsize'] = [5,5]\n",
    "contourf(sp.Abs(dirk33ss*sp.exp(-z)),z,(-5,9,100),(-7,7,100),levels=[0,1.],colors=default.palette[0],label=\"$\\mathcal{A}_-$\")\n",
    "plt.legend(loc=(0.,1.02),ncol=3,mode=\"expand\",borderaxespad=0.,markerscale=8)\n",
    "plt.show()\n",
    "plt.rcParams['figure.figsize'] = default.figsize"
   ]
  },
  {
   "cell_type": "markdown",
   "metadata": {},
   "source": [
    "Un autre test issu de [numipedia](http://ketch.github.io/numipedia/methods/SSPIRK33.html), où Ketcheson présente la méthode SSPIRK(3,3). Il est à noté que je ne me suis jamais intéressé au caractère SSP d'un schéma, donc je n'ai pas lu ou vérifié cet aspect sur les précédentes méthodes DIRK présentées.\n",
    "\n",
    "Le tableau de Butcher de la méthode SSPIRK(3,3) est :\n",
    "\n",
    "$$\n",
    "  \\begin{array}{c c c | c}\n",
    "    -\\frac{\\sqrt{2}}{4}+\\frac{1}{2} & 0                               & 0                               & -\\frac{\\sqrt{2}}{4}+\\frac{1}{2} \\\\\n",
    "    \\frac{\\sqrt{2}}{4}              & -\\frac{\\sqrt{2}}{4}+\\frac{1}{2} & 0                               & \\frac{1}{2} \\\\\n",
    "    \\frac{\\sqrt{2}}{4}              & \\frac{\\sqrt{2}}{4}             & -\\frac{\\sqrt{2}}{4}+\\frac{1}{2} & \\frac{\\sqrt{2}}{4}+\\frac{1}{2} \\\\\n",
    "    \\hline\n",
    "    \\frac{1}{3} & \\frac{1}{3} & \\frac{1}{3}  &\n",
    "  \\end{array}\n",
    "$$"
   ]
  },
  {
   "cell_type": "code",
   "execution_count": null,
   "metadata": {},
   "outputs": [],
   "source": [
    "\"\"\" test sur SSPIRK33 (http://ketch.github.io/numipedia/methods/SSPIRK33.html) \"\"\"\n",
    "A = [[-sp.sqrt(2)/4+sp.Rational(1,2) , 0                             , 0                             ],\n",
    "     [ sp.sqrt(2)/4                  ,-sp.sqrt(2)/4+sp.Rational(1,2) , 0                             ],\n",
    "     [ sp.sqrt(2)/4                  , sp.sqrt(2)/4                  ,-sp.sqrt(2)/4+sp.Rational(1,2) ]]\n",
    "b = [-sp.sqrt(2)/4+sp.Rational(1,2),sp.Rational(1,2),sp.sqrt(2)/4+sp.Rational(1,2)]\n",
    "c = [sp.Rational(1,3),sp.Rational(1,3),sp.Rational(1,3)]\n",
    "sspirk33 = poly_dirk(A=A,c=c)\n",
    "del A,b,c\n",
    "\n",
    "\"\"\" stability domain \"\"\"\n",
    "plt.rcParams['figure.figsize'] = [7,7]\n",
    "contourf(sp.Abs(sspirk33),z,(-39,1,50),(-20,20,50),levels=[0,1.],colors=default.palette[0],label=\"Stability domaine of SSPIRK(3,3)\")\n",
    "plt.plot(*reim(-weno5l.ztilde.data),color=default.palette[1],label=weno5l.name)\n",
    "plt.legend(loc=(0.,1.02),ncol=3,mode=\"expand\",borderaxespad=0.,markerscale=8)\n",
    "plt.show()\n",
    "\n",
    "\"\"\" order star \"\"\"\n",
    "plt.rcParams['figure.figsize'] = [5,5]\n",
    "contourf(sp.Abs(sspirk33*sp.exp(-z)),z,(-5,9,100),(-7,7,100),levels=[0,1.],colors=default.palette[0],label=\"$\\mathcal{A}_-$\")\n",
    "plt.legend(loc=(0.,1.02),ncol=3,mode=\"expand\",borderaxespad=0.,markerscale=8)\n",
    "plt.show()\n",
    "\n",
    "plt.rcParams['figure.figsize'] = default.figsize"
   ]
  },
  {
   "cell_type": "markdown",
   "metadata": {},
   "source": [
    "# 3. Étude de couples RK($s$,$n$)-WENO5"
   ]
  },
  {
   "cell_type": "markdown",
   "metadata": {},
   "source": [
    "On regarde maintenant la stabilité de WENO avec les différents schémas RK($s$,$n$). Pour cela on trace le domaine de stabilité du schéma RK choisi, et on compare ce domaine avec celui du coefficient d'amplification du schéma WENO5. Le schéma est linéairement stable s'il existe un coefficient $\\sigma$, appelé CFL, permettant de faire *rentrer* la courbe du schéma WENO dans le domaine de stabilité de RK($s$,$n$)."
   ]
  },
  {
   "cell_type": "code",
   "execution_count": null,
   "metadata": {},
   "outputs": [],
   "source": [
    "fig, ax = plt.subplots(2,2,figsize=(10,10))\n",
    "coords = [(x,y) for x in range(2) for y in range(2)]\n",
    "\n",
    "for i in range(1,5):\n",
    "  tmp_fig = plt.figure()\n",
    "  tmp = contour(sp.Abs(poly_carac(i)),z,(-5.,2.,500),(-3.5,3.5,500), levels=[1.]).allsegs[0]\n",
    "  data = max(tmp,key=lambda dat:len(dat))\n",
    "  plt.close(tmp_fig); del tmp_fig,tmp\n",
    "  ax[coords[i-1]].plot(data[:,0],data[:,1],label=\"RK%i\"%i,color=default.palette[i])\n",
    "  ax[coords[i-1]].plot(*reim(-weno5l.ztilde.data),label=weno5l.name,color=default.palette[0])\n",
    "  ax[coords[i-1]].axis('equal')\n",
    "  ax[coords[i-1]].legend(loc=(0.,1.02),ncol=3,mode=\"expand\",borderaxespad=0.)\n",
    "plt.show()\n",
    "\n",
    "del fig,ax"
   ]
  },
  {
   "cell_type": "markdown",
   "metadata": {},
   "source": [
    "## 3.1 Automatisation du calcul de CFL"
   ]
  },
  {
   "cell_type": "markdown",
   "metadata": {},
   "source": [
    "Il est maintenant intéressant d'étudier quel est le rapport d'homothétie liant le mieux RK($s$,$n$) à WENO, ce rapport d'homothétie est $\\sigma$ le nombre de CFL. Dans l'article [[Wang R. and Spiteri R. J. (2007)]](https://doi.org/10.1137/050637868) une approximation grossière est faite en supposant que RK($s$,$n$), pour $n\\geq 3$ contient un rectangle contenant la courbe de WENO linéarisé. Une estimation est ainsi faite d'un $\\sigma_0 \\leq \\sigma$. Il est possible dans un premier temps d'estimer numériquement un coefficient $\\sigma_{\\texttt{num}}$ tel que :\n",
    "\n",
    "$$\n",
    "  \\sigma_0 \\leq \\sigma_{\\texttt{num}} \\leq \\sigma\n",
    "$$\n",
    "\n",
    "travail effectué dans [[Motamed M. and Macdonald C. B. (2010)]](https://doi.org/10.1007/s10915-010-9423-9). Il est aussi possible de travailler sur la version complète du schéma WENO, en prenant en compte dans l'analyse de von Neumann de la partie non linéaire.\n",
    "\n",
    "Pour estimer une CFL entre un couple RK($s$,$n$)-WENO(lin) :\n",
    "\n",
    "1. On discrétise la frontière du domaine de stabilité de la méthode RK($s$,$n$), chose déjà effectuée par Python, on obtient ainsi un tableau de $\\{r(\\theta_k)\\}_k$.\n",
    "2. On discrétise le coefficient d'amplification en fonction de $\\phi$ en discrétisant l'intervalle $[0,2\\pi[$, on obtient ainsi un tableau des coefficients d'amplification $\\{w(\\phi_i)\\}_i$. Il est à noter qu'il n'y a pas de raison que la discrétisation $\\theta_k$ coïncide avec les $\\phi_i$.\n",
    "3. On trie ces 2 tableaux de données par ordre d'argument, cela sera plus simple pour les parcourir de manière similaire.\n",
    "4. Pour un couple $(\\varphi_i,w(\\phi_i)$ donné issu de la discrétisation, on recherche l'élément $\\rho(\\phi)$ défini comme : $$\\rho(\\phi_i) = \\arg\\!\\min_{r(\\theta_k)}\\left(arg(r(\\theta_k)-w(\\phi_i)\\right)$$\n",
    "5. On calcule le facteur d'homothétie locale : $$\\sigma_i = \\left| \\frac{\\rho(\\phi_i)}{w(\\phi_i)}\\right|$$\n",
    "6. On définit la CFL comme : $$\\sigma = \\min_i \\sigma_i$$\n",
    "\n",
    "L'étape 4 de l'alorithme peut se représenter comme suit, ici avec la méthode RK(4,4)."
   ]
  },
  {
   "cell_type": "code",
   "execution_count": null,
   "metadata": {},
   "outputs": [],
   "source": [
    "rk = rk44\n",
    "fig = plt.figure()\n",
    "reduce_data = rk.stability_domain(Ir=(-3,0.5),Ii=(-3.,3.),colors=default.palette[3]).allsegs[0][0]\n",
    "plt.close(fig)\n",
    "del fig\n",
    "\n",
    "plt.rcParams['figure.figsize'] = [7,7]\n",
    "plt.plot(*zip(*reduce_data[0::5]),\"x--\",color=default.palette[4],label=\"RK(4,4)\",markersize=10.)\n",
    "plt.plot(*reim(-weno5l.ztilde.data[0::30]),\"+--\",color=default.palette[0],label=weno5l.name+\" amplification factor\",markersize=12.)\n",
    "\n",
    "plt.plot([0,reduce_data[95][0]],[0,reduce_data[95][1]],\"--\",linewidth=1.)\n",
    "plt.plot([0,reduce_data[100][0]],[0,reduce_data[100][1]],\"--\",linewidth=1.)\n",
    "plt.plot([0,-np.real(weno5l.ztilde.data[0::30][21])],[0,np.imag(-weno5l.ztilde.data[0::30][21])],linewidth=1.)\n",
    "\n",
    "plt.axis('equal')\n",
    "plt.legend(loc=(0.,1.02),ncol=1,mode=\"expand\",borderaxespad=0.,prop={'size': 11})\n",
    "#plt.xlabel(r\"$\\Re(z)$\")\n",
    "#plt.ylabel(r\"$\\Im(z)$\")\n",
    "\n",
    "plt.xlim([-3,0.5])\n",
    "plt.ylim([-0.001,3])\n",
    "plt.show()\n",
    "plt.rcParams['figure.figsize'] = default.figsize"
   ]
  },
  {
   "cell_type": "markdown",
   "metadata": {},
   "source": [
    "Pour chaque point $w(\\phi_i)$ du coefficient d'amplification de WENO linéarisé, on souhaite trouver l'élément sur la bordure du domaine de stabilité de la méthode Runge-Kutta avec l'argument le plus proche de $\\arg(w(\\phi_i))$. Ici par exemple on trouve deux éléments $r(\\theta_k)$ et $r(\\theta_{k+1})$ avec un argument semblable, on choisit celui avec l'argument le plus proche.\n",
    "\n",
    "Si on souhaite avec un résultat plus précis, il est nécessaire d'effectuer une interpolation entre les 2 éléments de la bordure du domaine de stabilité de RK(4,4) que l'on trouve. On se limite ici à une interpolation constante par morceau, la précision ne sera approtée que par le rafinement du maillage angulaire."
   ]
  },
  {
   "cell_type": "code",
   "execution_count": null,
   "metadata": {},
   "outputs": [],
   "source": [
    "def cfl( z_rk , z_weno , display=True , data_rk=None , rk_name=None , weno_name=None ):\n",
    "  sigs = np.array([ np.array([np.angle(z),np.abs((b_)/(z))]) for (z,b_) in zip(z_weno,z_rk) if np.abs(z)>1e-1 and np.abs((b_)/(z)) > 0.1 ])\n",
    "  l = len(sigs)\n",
    "  cfl = min(sigs[int(0.1*l):-int(0.1*l),1])\n",
    "  #cfl = min(sigs[:,1])\n",
    "  if cfl < 0.2:\n",
    "    cfl = 0.\n",
    "  if display :\n",
    "    fig,ax = plt.subplots(1,2,figsize=(12,4))\n",
    "    ax[0].plot(sigs[int(0.1*l):-int(0.1*l),0],sigs[int(0.1*l):-int(0.1*l),1])\n",
    "    ax[0].set_xlabel(\"$\\\\varphi$\");ax[0].set_ylabel(\"$\\\\sigma_\\\\varphi$\")\n",
    "    if rk_name == None:\n",
    "      rk_name = \"time method\"\n",
    "    if weno_name == None:\n",
    "      weno_name = \"space method\"\n",
    "    if data_rk != None :\n",
    "      ax[1].plot(*reim(data_rk),label=rk_name)\n",
    "    else :\n",
    "      ax[1].plot(*reim(z_rk),\",\",label=rk_name)\n",
    "    ax[1].plot(*reim(-z_weno),label=weno_name)\n",
    "    ax[1].plot(*reim(-z_weno*cfl),label=weno_name+\" $\\\\times\\\\,\\\\sigma = {0:.3f}$\".format(cfl))\n",
    "    ax[1].axis('equal')\n",
    "    plt.legend(loc=(0.,1.02),ncol=2,mode=\"expand\",borderaxespad=0.)\n",
    "    plt.show()\n",
    "  return cfl\n",
    "\n",
    "def cfl_expr ( expr , z , z_weno , Ir , Ii , display=True , rk_name=None,weno_name=None ) :\n",
    "  tmp_fig = plt.figure()\n",
    "  dat0 = contour(expr,z,Ir,Ii, levels=[1.]).allsegs[0] # get stability domain\n",
    "  plt.close(tmp_fig); del tmp_fig\n",
    "  data = max(dat0,key=lambda l:len(l)) # get main domain\n",
    "  data_c = [ re+im*1j for (re,im) in zip(data[:,0],data[:,1]) ] # convert into complex\n",
    "  del dat0,data\n",
    "  \n",
    "  # sort rk data in the same way than weno\n",
    "  z_rk = np.array([ min(data_c,key=lambda zb:np.abs(np.angle(zb)-np.angle(-zw)) ) for zw in z_weno ])\n",
    "  return cfl(z_rk,z_weno,display,data_c,rk_name,weno_name)"
   ]
  },
  {
   "cell_type": "markdown",
   "metadata": {},
   "source": [
    "### 3.1.1 CFL RK($s$,$n$) - WENO linéarisé"
   ]
  },
  {
   "cell_type": "markdown",
   "metadata": {},
   "source": [
    "On commence par expérimenter notre méthode algorithmique sur le cas WENO linéarisé et retrouver les CFL proposées dans [[Motamed M. and Macdonald C. B. (2010)]](https://doi.org/10.1007/s10915-010-9423-9) ou [[Thibaut L. et al.]](https://doi.org/10.1175/MWR-D-16-0343.1)."
   ]
  },
  {
   "cell_type": "code",
   "execution_count": null,
   "metadata": {},
   "outputs": [],
   "source": [
    "rk1.cfl = {}\n",
    "rk1.cfl[weno5l.name] = cfl_expr( sp.Abs(rk1.stability_function()),z,weno5l.ztilde.data,(-6.,3.,500),(-6.,6.,500),\n",
    "         True,rk1.label,weno5l.name)\n",
    "display(rk1.cfl[weno5l.name])"
   ]
  },
  {
   "cell_type": "markdown",
   "metadata": {},
   "source": [
    "On confirme bien avec ce résultat l'aspect instable du couple EE-WENO5 démontré par dans [[R. Wang and R. J. Spiteri (2007)]](https://doi.org/10.1137/050637868)."
   ]
  },
  {
   "cell_type": "code",
   "execution_count": null,
   "metadata": {},
   "outputs": [],
   "source": [
    "rk33.cfl = {}\n",
    "rk33.cfl[weno5l.name] = cfl_expr( sp.Abs(rk33.stability_function()),z,weno5l.ztilde.data,(-6.,3.,500),(-6.,6.,500),\n",
    "         True,rk33.label,weno5l.name)\n",
    "display(rk33.cfl[weno5l.name])"
   ]
  },
  {
   "cell_type": "code",
   "execution_count": null,
   "metadata": {},
   "outputs": [],
   "source": [
    "rk44.cfl = {}\n",
    "rk44.cfl[weno5l.name] = cfl_expr( sp.Abs(rk44.stability_function()),z,weno5l.ztilde.data,(-6.,3.,500),(-6.,6.,500),\n",
    "         True,rk44.label,weno5l.name)\n",
    "display(rk44.cfl[weno5l.name])"
   ]
  },
  {
   "cell_type": "code",
   "execution_count": null,
   "metadata": {},
   "outputs": [],
   "source": [
    "rk53.cfl = {}\n",
    "rk53.cfl[weno5l.name] = cfl_expr( sp.Abs(rk53.stability_function()),z,weno5l.ztilde.data,(-6.,3.,500),(-6.,6.,500),\n",
    "         True,rk53.label,weno5l.name)\n",
    "display(rk53.cfl[weno5l.name])"
   ]
  },
  {
   "cell_type": "markdown",
   "metadata": {},
   "source": [
    "On récapitule les CFL obtenues :\n",
    "\n",
    "|         -          | Euler | RK(3,3) | RK(5,3) | RK(4,4) |\n",
    "|--------------------|-------|---------|---------|---------|\n",
    "| [[Thibaut L. et al.]](https://doi.org/10.1175/MWR-D-16-0343.1) | 0.00 | 1.44 | 2.14 | 1.73 |\n",
    "| **WENO linéarisé** | 0     | 1.430   | 2.558   | 1.730   |\n",
    "\n",
    "Je n'arrive pas à expliquer la différence sur le schéma RK(5,3) entre [[Thibaut L. et al.]](https://doi.org/10.1175/MWR-D-16-0343.1) et ma méthode de calcul de CFL avec WENO linéarisé."
   ]
  },
  {
   "cell_type": "code",
   "execution_count": null,
   "metadata": {},
   "outputs": [],
   "source": []
  }
 ],
 "metadata": {
  "kernelspec": {
   "display_name": "Python 3",
   "language": "python",
   "name": "python3"
  },
  "language_info": {
   "codemirror_mode": {
    "name": "ipython",
    "version": 3
   },
   "file_extension": ".py",
   "mimetype": "text/x-python",
   "name": "python",
   "nbconvert_exporter": "python",
   "pygments_lexer": "ipython3",
   "version": "3.8.4"
  }
 },
 "nbformat": 4,
 "nbformat_minor": 4
}
