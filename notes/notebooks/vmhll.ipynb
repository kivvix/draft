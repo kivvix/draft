{
 "cells": [
  {
   "cell_type": "markdown",
   "metadata": {},
   "source": [
    "Construction d'un schéma exponentiel pour Vlasov-Maxwell hybride linéarisé\n",
    "===\n",
    "\n",
    "On regardera ici comment calculer l'exponentielle de matrice nécessaire pour construire un schéma de Lawson."
   ]
  },
  {
   "cell_type": "code",
   "execution_count": null,
   "metadata": {},
   "outputs": [],
   "source": [
    "import sympy as sp\n",
    "import numpy as np\n",
    "import matplotlib.pyplot as plt\n",
    "import scipy as sc\n",
    "from IPython.display import display\n",
    "sp.init_printing(use_latex='mathjax')"
   ]
  },
  {
   "cell_type": "markdown",
   "metadata": {},
   "source": [
    "On travaille sur le système :\n",
    "\n",
    "$$\n",
    "  \\begin{cases}\n",
    "    \\partial_t j_{c,x} = \\Omega_{pe}^2E_x - j_{c,y}B_0 \\\\\n",
    "    \\partial_t j_{c,y} = \\Omega_{pe}^2E_y + j_{c,x}B_0 \\\\\n",
    "    \\partial_t B_x     =  \\partial_zE_y \\\\\n",
    "    \\partial_t B_y     = -\\partial_zE_x \\\\\n",
    "    \\partial_t E_x     = -\\partial_zB_y - j_x + \\int v_xf\\,\\mathrm{d}v \\\\\n",
    "    \\partial_t E_y     =  \\partial_zB_x - j_y + \\int v_yf\\,\\mathrm{d}v \\\\\n",
    "    \\partial_t f       = - v_z\\partial_t f + (E_x+v_yB_0-v_zB_y)\\partial_{v_x}f + (E_y-v_xB_0+v_zB_x)\\partial_{v_y}f + (v_xB_y-v_yB_x)\\partial_{v_z}f \n",
    "  \\end{cases}\n",
    "$$\n",
    "\n",
    "Ce qui nous donne, sous forme matricielle (après une transformée de Fourier en $z$ et sans changement dans les notations) :\n",
    "\n",
    "$$\n",
    "  \\partial_t \\begin{pmatrix}\n",
    "    j_{c,x} \\\\ j_{c_y} \\\\ B_x \\\\ B_y \\\\ E_x \\\\ E_y \\\\ f\n",
    "  \\end{pmatrix}\n",
    "  =\n",
    "  \\begin{pmatrix}\n",
    "     0 & -1 & 0  &  0  &  \\Omega_{pe}^2 & 0             & 0 \\\\\n",
    "     1 &  0 & 0  &  0  &  0             & \\Omega_{pe}^2 & 0 \\\\\n",
    "     0 &  0 & 0  &  0  &  0             & ik            & 0 \\\\\n",
    "     0 &  0 & 0  &  0  & -ik            & 0             & 0 \\\\\n",
    "    -1 &  0 & 0  & -ik &  0             & 0             & 0 \\\\\n",
    "     0 & -1 & ik &  0  &  0             & 0             & 0 \\\\\n",
    "     0 &  0 & 0  &  0  &  0             & 0             & -ikv_z\n",
    "  \\end{pmatrix}\n",
    "  \\begin{pmatrix}\n",
    "    j_{c,x} \\\\ j_{c_y} \\\\ B_x \\\\ B_y \\\\ E_x \\\\ E_y \\\\ f\n",
    "  \\end{pmatrix}\n",
    "  +\n",
    "  \\begin{pmatrix}\n",
    "    0 \\\\ 0 \\\\ 0 \\\\ 0 \\\\ \\int v_xf\\,\\mathrm{d}v \\\\ \\int v_yf\\,\\mathrm{d}v \\\\ (E+v\\times(B_0+B))\\cdot\\partial_vf\n",
    "  \\end{pmatrix}\n",
    "$$\n",
    "\n",
    "Sauf qu'il n'est pas possible de calculer l'exponentielle de cette matrice pour tout $\\Delta t$ de manière exacte. Il est donc décidé de transférer le transport en $z$ (les \"$ik$\" dans la matrice) dans le terme non linéaire pour enfin écrire :\n",
    "\n",
    "$$\n",
    "  \\partial_t U = AU + F(U)\n",
    "$$\n",
    "\n",
    "avec $U = (j_{c,x} , j_{c_y} , B_x , B_y , E_x , E_y , f)^\\textsf{T}$ et :\n",
    "\n",
    "$$\n",
    "  A = \\begin{pmatrix}\n",
    "     0 & -1 & 0  &  0  &  \\Omega_{pe}^2 & 0             & 0 \\\\\n",
    "     1 &  0 & 0  &  0  &  0             & \\Omega_{pe}^2 & 0 \\\\\n",
    "     0 &  0 & 0  &  0  &  0             & 0             & 0 \\\\\n",
    "     0 &  0 & 0  &  0  &  0             & 0             & 0 \\\\\n",
    "    -1 &  0 & 0  &  0  &  0             & 0             & 0 \\\\\n",
    "     0 & -1 & 0  &  0  &  0             & 0             & 0 \\\\\n",
    "     0 &  0 & 0  &  0  &  0             & 0             & -ikv_z\n",
    "  \\end{pmatrix}\n",
    "  \\quad,\\quad\n",
    "  F(U) = \\begin{pmatrix}\n",
    "    0 \\\\ 0 \\\\ ikE_y \\\\ -ikE_x \\\\ -ikB_y + \\int v_xf\\,\\mathrm{d}v \\\\ ikB_x + \\int v_yf\\,\\mathrm{d}v \\\\ (E+v\\times(B_0+B))\\cdot\\partial_vf\n",
    "  \\end{pmatrix}\n",
    "$$"
   ]
  },
  {
   "cell_type": "code",
   "execution_count": null,
   "metadata": {},
   "outputs": [],
   "source": [
    "jx,jy = sp.symbols(r\"j_{c\\,x} j_{c\\,y}\")\n",
    "Bx,By = sp.symbols(r\"B_x B_y\")\n",
    "Ex,Ey = sp.symbols(r\"E_x E_y\")\n",
    "f = sp.symbols(r\"\\hat{f}\")\n",
    "wpe = sp.symbols(r\"\\Omega_{pe}\",real=True,positive=True)\n",
    "dt = sp.symbols(r\"\\Delta\\ t\",real=True,positive=True)\n",
    "k = sp.symbols(\"k\")\n",
    "vx,vy,vz = sp.symbols(\"v_x v_y v_z\",real=True)\n",
    "\n",
    "U = sp.Matrix([jx,jy,Bx,By,Ex,Ey,f])\n",
    "U"
   ]
  },
  {
   "cell_type": "code",
   "execution_count": null,
   "metadata": {},
   "outputs": [],
   "source": [
    "A = sp.Matrix([[ 0 , -1 , 0 , 0 , wpe**2 , 0      ,  0         ],\n",
    "               [ 1 ,  0 , 0 , 0 , 0      , wpe**2 ,  0         ],\n",
    "               [ 0 ,  0 , 0 , 0 , 0      , 0      ,  0         ],\n",
    "               [ 0 ,  0 , 0 , 0 , 0      , 0      ,  0         ],\n",
    "               [-1 ,  0 , 0 , 0 , 0      , 0      ,  0         ],\n",
    "               [ 0 , -1 , 0 , 0 , 0      , 0      ,  0         ],\n",
    "               [ 0 ,  0 , 0 , 0 , 0      , 0      , -sp.I*k*vz ]\n",
    "              ])\n",
    "A"
   ]
  },
  {
   "cell_type": "code",
   "execution_count": null,
   "metadata": {},
   "outputs": [],
   "source": [
    "eA = sp.exp(A[:-1,:-1]*dt)\n",
    "eA.subs(wpe,2).evalf().simplify()"
   ]
  },
  {
   "cell_type": "markdown",
   "metadata": {},
   "source": [
    "Il n'est pas nécessaire de calculer la matrice pour une valeur de $\\Omega_{pe}$ quelconque. Cette grandeur est liée à des constantes physiques et on a $\\Omega_{pe}=2$.\n",
    "\n",
    "Pour s'assurer de la non nécessité numérique de calculer pour une valeur quelconque de $\\Omega_{pe}$, regardons le premier terme de la matrice."
   ]
  },
  {
   "cell_type": "code",
   "execution_count": null,
   "metadata": {
    "scrolled": true
   },
   "outputs": [],
   "source": [
    "eA[0,0]"
   ]
  },
  {
   "cell_type": "code",
   "execution_count": null,
   "metadata": {},
   "outputs": [],
   "source": [
    "Ix = sp.Function(r\"\\int_\\mathbb{R}\\ v_x\")\n",
    "Iy = sp.Function(r\"\\int_\\mathbb{R}\\ v_y\")\n",
    "df = sp.Function(r\"(E+v\\times B)\\cdot\\nabla_v\")\n",
    "def F(U):\n",
    "  return sp.Matrix([\n",
    "     0,\n",
    "     0,\n",
    "     sp.I*k*U[5],\n",
    "    -sp.I*k*U[4],\n",
    "    -sp.I*k*U[3]+Ix(U[6]),\n",
    "     sp.I*k*U[2]+Iy(U[6]),\n",
    "     df(U[6])\n",
    "  ])\n",
    "F(U)"
   ]
  },
  {
   "cell_type": "markdown",
   "metadata": {},
   "source": [
    "Pour calculer l'exponentielle de $\\Delta t A$ rapidement, je calcule l'exponentielle de la sous matrice (sans la dernière colonne et denière ligne) et je construis ensuite la matrice exponentielle par bloc."
   ]
  },
  {
   "cell_type": "code",
   "execution_count": null,
   "metadata": {},
   "outputs": [],
   "source": [
    "def expM(A):\n",
    "  A = A.subs(wpe,2)\n",
    "  eA = sp.exp(A[:-1,:-1]).evalf().simplify().row_join(sp.zeros(6,1)).col_join(sp.Matrix(1,7,[0]*6+[sp.exp(A[-1,-1])]))\n",
    "  return eA.simplify()\n",
    "\n",
    "expM(A*dt)"
   ]
  },
  {
   "cell_type": "markdown",
   "metadata": {},
   "source": [
    "On écrit maintenant le schéma Lawson induit par la méthode RK(3,3) de Shu-Osher."
   ]
  },
  {
   "cell_type": "code",
   "execution_count": null,
   "metadata": {},
   "outputs": [],
   "source": [
    "jxn,jyn = sp.symbols(r\"j_{c\\,x}^n j_{c\\,y}^n\")\n",
    "Bxn,Byn = sp.symbols(r\"B_x^n B_y^n\")\n",
    "Exn,Eyn = sp.symbols(r\"E_x^n E_y^n\")\n",
    "fn = sp.symbols(r\"\\hat{f}^n\")\n",
    "Un = sp.Matrix([jxn,jyn,Bxn,Byn,Exn,Eyn,fn])\n",
    "\n",
    "jx1,jy1 = sp.symbols(r\"j_{c\\,x}^{(1)} j_{c\\,y}^{(1)}\")\n",
    "Bx1,By1 = sp.symbols(r\"B_x^{(1)} B_y^{(1)}\")\n",
    "Ex1,Ey1 = sp.symbols(r\"E_x^{(1)} E_y^{(1)}\")\n",
    "f1 = sp.symbols(r\"\\hat{f}^{(1)}\")\n",
    "Us1 = sp.Matrix([jx1,jy1,Bx1,By1,Ex1,Ey1,f1])\n",
    "\n",
    "jx2,jy2 = sp.symbols(r\"j_{c\\,x}^{(2)} j_{c\\,y}^{(2)}\")\n",
    "Bx2,By2 = sp.symbols(r\"B_x^{(2)} B_y^{(2)}\")\n",
    "Ex2,Ey2 = sp.symbols(r\"E_x^{(2)} E_y^{(2)}\")\n",
    "f2 = sp.symbols(r\"\\hat{f}^{(2)}\")\n",
    "Us2 = sp.Matrix([jx2,jy2,Bx2,By2,Ex2,Ey2,f2])\n",
    "\n",
    "U1 = expM(A*dt)*Un + dt*expM(A*dt)*F(Un)\n",
    "U2 = sp.Rational(3,4)*expM(sp.Rational(1,2)*A*dt)*Un + sp.Rational(1,4)*expM(-sp.Rational(1,2)*dt*A)*Us1 + sp.Rational(1,4)*dt*expM(-sp.Rational(1,2)*dt*A)*F(Us1)\n",
    "Un1 = sp.Rational(1,3)*expM(A*dt)*Un + sp.Rational(2,3)*expM(sp.Rational(1,2)*dt*A)*Us2 + sp.Rational(2,3)*dt*expM(sp.Rational(1,2)*dt*A)*F(Us2)\n",
    "\n",
    "display(U1,U2,Un1)"
   ]
  },
  {
   "cell_type": "markdown",
   "metadata": {},
   "source": [
    "Il faut maintenant remplacer tous les symbols par des expressions qui peuvent être des noms de variable, ainsi que les fonctions. Certaines optimisations, comme le remplacement des divisions par 2 par une multiplication par 0.5, sont également faites."
   ]
  },
  {
   "cell_type": "code",
   "execution_count": null,
   "metadata": {},
   "outputs": [],
   "source": [
    "def expr_to_code (expr,symbols_replace,function_replace):\n",
    "  math_to_stl = [(f,\"std::\"+f) for f in (\"sin\",\"cos\",\"exp\",\"sqrt\")]\n",
    "\n",
    "  a = sp.Wild('a')\n",
    "  def func(expr):\n",
    "    print(expr is sp.S.Half,expr)\n",
    "    return sp.Float(0.5)\n",
    "  \n",
    "  tmp = expr.subs(symbols_replace)\n",
    "  for old,new in function_replace:\n",
    "    tmp = tmp.replace(old,new)\n",
    "  #tmp = tmp.replace(lambda expr:expr is sp.S.Half,lambda _:sp.Float(0.5)).simplify().evalf()\n",
    "  tmp = tmp.replace(a/2,0.5*a,exact=True).simplify()\n",
    "  tmp = tmp.replace(lambda expr:expr is sp.S.One or expr == 1.0,lambda _:sp.S.One).simplify().evalf()\n",
    "  \n",
    "  tmp = tmp.replace(lambda expr:expr.is_integer and (expr is not sp.S.One or expr is not sp.S.NegativeOne),lambda expr:sp.symbols(str(expr)+\".\"))\n",
    "  stmp = str(tmp)\n",
    "  #display(gv.Source(sp.dotprint(tmp)))\n",
    "  for old,new in math_to_stl:\n",
    "    stmp = stmp.replace(old,new)\n",
    "  return stmp"
   ]
  },
  {
   "cell_type": "code",
   "execution_count": null,
   "metadata": {
    "scrolled": false
   },
   "outputs": [],
   "source": [
    "sym_to_code = [(dt,sp.symbols(\"dt\")),(k,sp.symbols(\"Kz[i]\")),\n",
    "               (Exn,sp.symbols(\"hEx[i]\")),(Eyn,sp.symbols(\"hEy[i]\")),\n",
    "               (jxn,sp.symbols(\"hjcx[i]\")),(jyn,sp.symbols(\"hjcy[i]\")),\n",
    "               (Bxn,sp.symbols(\"hBx[i]\")),(Byn,sp.symbols(\"hBy[i]\")),\n",
    "               (fn,sp.symbols(r\"hf[k_x][k_y][k_z][i]\")),\n",
    "               (Ex1,sp.symbols(\"hEx1[i]\")),(Ey1,sp.symbols(\"hEy1[i]\")),\n",
    "               (jx1,sp.symbols(\"hjcx1[i]\")),(jy1,sp.symbols(\"hjcy1[i]\")),\n",
    "               (Bx1,sp.symbols(\"hBx1[i]\")),(By1,sp.symbols(\"hBy1[i]\")),\n",
    "               (f1,sp.symbols(r\"hf1[k_x][k_y][k_z][i]\")),\n",
    "               (Ex2,sp.symbols(\"hEx2[i]\")),(Ey2,sp.symbols(\"hEy2[i]\")),\n",
    "               (jx2,sp.symbols(\"hjcx2[i]\")),(jy2,sp.symbols(\"hjcy2[i]\")),\n",
    "               (Bx2,sp.symbols(\"hBx2[i]\")),(By2,sp.symbols(\"hBy2[i]\")),\n",
    "               (f2,sp.symbols(r\"hf2[k_x][k_y][k_z][i]\")),\n",
    "               #(sp.sqrt(2),sp.symbols(\"sqrt2_v\"))\n",
    "              ]\n",
    "fun_to_code = [(Ix,lambda _:sp.symbols(\"hjhx[i]\")),(Iy,lambda _:sp.symbols(\"hjhy[i]\")),(df,lambda _:sp.symbols(\"hfvxvyvz[i]\"))]\n",
    "\n",
    "for stage,nextU in zip([U1,U2,Un1],[Us1,Us2,Un]) :\n",
    "  code_nextU = nextU.subs(sym_to_code)\n",
    "  for i,l in enumerate(stage):\n",
    "    print(str(code_nextU[i])+\" = \"+expr_to_code(l,sym_to_code,fun_to_code)+\";\")\n",
    "    print(\"// ---\")\n",
    "  print(\"\\n/* ------ */\\n\")"
   ]
  },
  {
   "cell_type": "markdown",
   "metadata": {},
   "source": [
    "J'ai essayé plusieurs fois de supprimer les `1.0` qui apparaissent dans les formules, mais je n'y suis jamais parvenu."
   ]
  },
  {
   "cell_type": "markdown",
   "metadata": {},
   "source": [
    "On teste maintenant du Lawson(RK(4,4))"
   ]
  },
  {
   "cell_type": "code",
   "execution_count": null,
   "metadata": {},
   "outputs": [],
   "source": [
    "jx1,jy1 = sp.symbols(r\"j_{c\\,x}^{(1)} j_{c\\,y}^{(1)}\")\n",
    "Bx1,By1 = sp.symbols(r\"B_x^{(1)} B_y^{(1)}\")\n",
    "Ex1,Ey1 = sp.symbols(r\"E_x^{(1)} E_y^{(1)}\")\n",
    "f1 = sp.symbols(r\"\\hat{f}^{(1)}\")\n",
    "Us1 = sp.Matrix([jx1,jy1,Bx1,By1,Ex1,Ey1,f1])\n",
    "\n",
    "jx2,jy2 = sp.symbols(r\"j_{c\\,x}^{(2)} j_{c\\,y}^{(2)}\")\n",
    "Bx2,By2 = sp.symbols(r\"B_x^{(2)} B_y^{(2)}\")\n",
    "Ex2,Ey2 = sp.symbols(r\"E_x^{(2)} E_y^{(2)}\")\n",
    "f2 = sp.symbols(r\"\\hat{f}^{(2)}\")\n",
    "Us2 = sp.Matrix([jx2,jy2,Bx2,By2,Ex2,Ey2,f2])\n",
    "\n",
    "jx3,jy3 = sp.symbols(r\"j_{c\\,x}^{(3)} j_{c\\,y}^{(3)}\")\n",
    "Bx3,By3 = sp.symbols(r\"B_x^{(3)} B_y^{(3)}\")\n",
    "Ex3,Ey3 = sp.symbols(r\"E_x^{(3)} E_y^{(3)}\")\n",
    "f3 = sp.symbols(r\"\\hat{f}^{(3)}\")\n",
    "Us3 = sp.Matrix([jx3,jy3,Bx3,By3,Ex3,Ey3,f3])\n",
    "\n",
    "U1 = expM(sp.Rational(1,2)*A*dt)*Un + sp.Rational(1,2)*dt*expM(sp.Rational(1,2)*A*dt)*F(Un)\n",
    "U2 = expM(sp.Rational(1,2)*A*dt)*Un + sp.Rational(1,2)*dt*F(Us1)\n",
    "U3 = expM(A*dt)*Un + dt*expM(sp.Rational(1,2)*A*dt)*F(Us2)\n",
    "Un1 = -sp.Rational(1,3)*expM(A*dt)*Un + sp.Rational(1,3)*expM(sp.Rational(1,2)*dt*A)*Us1 + sp.Rational(2,3)*expM(sp.Rational(1,2)*dt*A)*Us2 + sp.Rational(1,3)*Us3 + sp.Rational(1,6)*dt*F(Us3)\n",
    "\n",
    "display(U1,U2,Us3,Un1)"
   ]
  },
  {
   "cell_type": "code",
   "execution_count": null,
   "metadata": {
    "scrolled": false
   },
   "outputs": [],
   "source": [
    "sym_to_code = [(dt,sp.symbols(\"dt\")),(k,sp.symbols(\"Kz[i]\")),\n",
    "               (Exn,sp.symbols(\"hEx[i]\")),(Eyn,sp.symbols(\"hEy[i]\")),\n",
    "               (jxn,sp.symbols(\"hjcx[i]\")),(jyn,sp.symbols(\"hjcy[i]\")),\n",
    "               (Bxn,sp.symbols(\"hBx[i]\")),(Byn,sp.symbols(\"hBy[i]\")),\n",
    "               (fn,sp.symbols(r\"hf[k_x][k_y][k_z][i]\")),\n",
    "               (Ex1,sp.symbols(\"hEx1[i]\")),(Ey1,sp.symbols(\"hEy1[i]\")),\n",
    "               (jx1,sp.symbols(\"hjcx1[i]\")),(jy1,sp.symbols(\"hjcy1[i]\")),\n",
    "               (Bx1,sp.symbols(\"hBx1[i]\")),(By1,sp.symbols(\"hBy1[i]\")),\n",
    "               (f1,sp.symbols(r\"hf1[k_x][k_y][k_z][i]\")),\n",
    "               (Ex2,sp.symbols(\"hEx2[i]\")),(Ey2,sp.symbols(\"hEy2[i]\")),\n",
    "               (jx2,sp.symbols(\"hjcx2[i]\")),(jy2,sp.symbols(\"hjcy2[i]\")),\n",
    "               (Bx2,sp.symbols(\"hBx2[i]\")),(By2,sp.symbols(\"hBy2[i]\")),\n",
    "               (f2,sp.symbols(r\"hf2[k_x][k_y][k_z][i]\")),\n",
    "               (Ex3,sp.symbols(\"hEx3[i]\")),(Ey3,sp.symbols(\"hEy3[i]\")),\n",
    "               (jx3,sp.symbols(\"hjcx3[i]\")),(jy3,sp.symbols(\"hjcy3[i]\")),\n",
    "               (Bx3,sp.symbols(\"hBx3[i]\")),(By3,sp.symbols(\"hBy3[i]\")),\n",
    "               (f3,sp.symbols(r\"hf3[k_x][k_y][k_z][i]\")),\n",
    "               #(sp.sqrt(2),sp.symbols(\"sqrt2_v\"))\n",
    "              ]\n",
    "fun_to_code = [(Ix,lambda _:sp.symbols(\"hjhx[i]\")),(Iy,lambda _:sp.symbols(\"hjhy[i]\")),(df,lambda _:sp.symbols(\"hfvxvyvz[i]\"))]\n",
    "\n",
    "for stage,nextU in zip([U1,U2,U3,Un1],[Us1,Us2,Us3,Un]) :\n",
    "  code_nextU = nextU.subs(sym_to_code)\n",
    "  for i,l in enumerate(stage):\n",
    "    print(str(code_nextU[i])+\" = \"+expr_to_code(l,sym_to_code,fun_to_code)+\";\")\n",
    "    print(\"// ---\")\n",
    "  print(\"\\n/* ------ */\\n\")"
   ]
  },
  {
   "cell_type": "markdown",
   "metadata": {},
   "source": [
    "Dans le code généré il est encore nécessaire d'écrire les boucles qui vont autour, de la manière suivante :\n",
    "\n",
    "1. Calcul des variables $\\hat{j}_{c,x}^{(1)}$, $\\hat{j}_{c,y}^{(1)}$, $\\hat{E}_x^{(1)}$, $\\hat{E}_y^{(1)}$, $\\hat{B}_x^{(1)}$ et $\\hat{B}_y^{(1)}$ :\n",
    "    + calcul des intégrales $\\int v_x \\hat{f}\\,\\mathrm{d}v$ et $\\int v_y \\hat{f}\\,\\mathrm{d}v$ :\n",
    "        - $\\left(\\hat{j}_{h,x}\\right)_i \\gets \\sum_{k_x,k_y,k_z} v_{k_x}\\,\\hat{f}_{i,k_x,k_y,k_z}\\,\\Delta v$\n",
    "        - $\\left(\\hat{j}_{h,y}\\right)_i \\gets \\sum_{k_x,k_y,k_z} v_{k_y}\\,\\hat{f}_{i,k_x,k_y,k_z}\\,\\Delta v$\n",
    "    + pour tout $x_i$ (code donné par `sympy`) :\n",
    "        - $\\hat{j}_{c,x}^{(1)}\\gets \\cdots$\n",
    "        - $\\hat{j}_{c,y}^{(1)}\\gets \\cdots$\n",
    "        - $\\hat{E}_{c,x}^{(1)}\\gets \\cdots$\n",
    "        - $\\hat{E}_{c,y}^{(1)}\\gets \\cdots$\n",
    "        - $\\hat{B}_{c,x}^{(1)}\\gets \\cdots$\n",
    "        - $\\hat{B}_{c,y}^{(1)}\\gets \\cdots$\n",
    "2. Calcul de la variable $\\hat{f}^{(1)}$ :\n",
    "    + transformée inverse de $\\hat{f}^{n}$ :\n",
    "        - $\\left(f\\right)_{i,k_x,k_z,k_z} \\gets \\text{iFFT}(\\hat{f}^n_{\\cdot,k_x,k_z,k_z})_i$ (boucle en $v_x$, $v_y$ et $v_z$)\n",
    "    + calcul de l'approximation de $(E_x+v_yB_0 + v_zB_y)\\partial_{v_x}f + (E_y-v_xB_0+v_zB_x)\\partial_{v_y}f +(v_xB_y - v_yB_x)\\partial_{v_z}f$ :\n",
    "        - pour tout $v_{k_x}$ :\n",
    "            - pour tout $v_{k_y}$ :\n",
    "                - pour tout $v_{k_y}$ :\n",
    "                    - pour tout $v_{k_z}$ :\n",
    "                        - pour tout $k_i$ :\n",
    "                            - $\\texttt{velocity_vx} \\gets E_{x,i}+v_{k_y}B_0 + v_{k_z}B_{y,i}$\n",
    "                            - $\\texttt{velocity_vy} \\gets E_{y,i}-v_{k_x}B_0 + v_{k_z}B_{x,i}$\n",
    "                            - $\\texttt{velocity_vz} \\gets v_{k_x}B_{y,i} - v_{k_y}B_{x,i}$\n",
    "                            - $\\partial_vf_{i,k_x,k_y,k_z}\\gets \\text{WENO}(\\texttt{velocity_vx},f_{i,k_x-3:k_x+3,k_y,k_z}) + \\text{WENO}(\\texttt{velocity_vy},f_{i,k_x,k_y-3:k_y+3,k_z}) + \\text{WENO}(\\texttt{velocity_vz},f_{i,k_x,k_y,k_z-3:k_z+3})$\n",
    "    + incrémentation de $\\hat{f}^{(1)}$ :\n",
    "        - pour tout $v_{k_x}$ :\n",
    "            - pour tout $v_{k_y}$ :\n",
    "                - pour tout $v_{k_y}$ :\n",
    "                    - pour tout $v_{k_z}$ :\n",
    "                        - $\\left(\\widehat{\\partial_vf}\\right)_i\\gets\\text{FFT}(\\partial_vf_{\\cdot,k_x,k_y,k_z})_i$\n",
    "                        - pour tout $k_i$ :\n",
    "                            - $\\hat{f}^{(1)}_{i,k_x,k_y,k_z} \\gets \\hat{f}^n_{i,k_x,k_y,k_z} + \\Delta t\\widehat{\\partial_vf}_i$\n",
    "\n",
    "où $\\text{WENO}$ est une fonction qui calcule une approximation de $a\\partial_xu(x_i)$ en prenant en argument $a$ et le stencil $u_{i-3:i+3}$. Cette fonction WENO diffère de ce que j'avais déjà pu implémenter avant, car il s'agissait alors d'une fonction renvoyant le flux numérique $\\hat{f}^\\pm_{i+\\frac{1}{2}}$. C'est-à-dire $\\text{WENO}(a,u_{i-3},u_{i-2},u_{i-1},u_{i},u_{i+1},u_{i+2},u_{i+3})$ est une fonction renvoyant l'approximation : $$a^+\\frac{u^+_{i+\\frac{1}{2}}-u^+_{i-\\frac{1}{2}}}{\\Delta x} + a^-\\frac{u^-_{i+\\frac{1}{2}}-u^-_{i-\\frac{1}{2}}}{\\Delta x}$$ donc les flux numériques sont calculés 2 fois, ce qui engendre des pertes en temps de calcul, mais un gain important en utilisation de la mémoire (puisqu'il n'est pas nécessaire de sauvergarder tous les flux numériques avant calcul des différences)."
   ]
  },
  {
   "cell_type": "markdown",
   "metadata": {},
   "source": [
    "Il existe un module `codegen` dans `sympy` qui ressemble à ce que je fais, mais celui-ci génère des fonctions, suppose que le symbole est directement convertible en nom de variable, etc. et fait toujours apparaître des `1.0` un peu partout dans ses expressions. Par exemple pour chaque \"ligne\" d'une méthode d'Euler explicite."
   ]
  },
  {
   "cell_type": "code",
   "execution_count": null,
   "metadata": {},
   "outputs": [],
   "source": [
    "from sympy.utilities.codegen import codegen\n",
    "\n",
    "for l in expM(A*dt)*Un + dt*expM(A*dt)*F(U) :\n",
    "  print(codegen((\"osef\",l),\"C\")[0][1])\n",
    "  print(\"---\")"
   ]
  },
  {
   "cell_type": "markdown",
   "metadata": {},
   "source": [
    "Il ne serait pas inintéressant de s'intéresser un peu plus au module, mais je ne sais pas comment définir proprement un tableau (car il faut remplacer tous les symbols par des tableaux) avec `sympy`... donc à voir...\n",
    "\n",
    "Ce module présente l'avantage d'utiliser les variables du module `math.h` de `C` (par exemple `M_SQRT2`). Ces variables ont leur équivalent `C++` uniquement à partir de `C++20` dans le module `cmath`, avant il faut utiliser ceux de `C`.\n",
    "\n",
    "> **Nota Bene :** j'ai remarqué récemment qu'il était possible d'indiquer que tous mes tableaux sont des objets indicés (`sp.IndexedBase`) et cela permet, lors de la génération de code, de dérouler les boucles. Mais vu la lourdeur d'utilisation pour moi, par rapport à ce que j'ai pu coder... je pense que je ne vais pas explorer plus cette piste tout de suite."
   ]
  },
  {
   "cell_type": "markdown",
   "metadata": {},
   "source": [
    "### une énième tentative de mettre le plus de choses dans la partie linéaire"
   ]
  },
  {
   "cell_type": "code",
   "execution_count": null,
   "metadata": {},
   "outputs": [],
   "source": [
    "B = sp.Matrix([[ 0 , -1 , 0      ,  0      ,  wpe**2 , 0      ,  0         ],\n",
    "               [ 1 ,  0 , 0      ,  0      ,  0      , wpe**2 ,  0         ],\n",
    "               [ 0 ,  0 , 0      ,  0      ,  0      , sp.I*k ,  0         ],\n",
    "               [ 0 ,  0 , 0      ,  0      , -sp.I*k , 0      ,  0         ],\n",
    "               [-1 ,  0 , 0      , -sp.I*k ,  0      , 0      ,  0         ],\n",
    "               [ 0 , -1 , sp.I*k ,  0      ,  0      , 0      ,  0         ],\n",
    "               [ 0 ,  0 , 0      ,  0      ,  0      , 0      , -sp.I*k*vz ]\n",
    "              ])\n",
    "try:\n",
    "  sp.exp(B.subs(wpe,2)*dt)\n",
    "except(NotImplementedError):\n",
    "  print(\"sympy gère pas cette matrice\")"
   ]
  },
  {
   "cell_type": "code",
   "execution_count": null,
   "metadata": {},
   "outputs": [],
   "source": [
    "for e in (B[:-1,:-1].subs(wpe,2)*dt).eigenvals():\n",
    "  display(e)\n",
    "  print(\"---\")"
   ]
  },
  {
   "cell_type": "markdown",
   "metadata": {},
   "source": [
    "Les valeurs propres de la sous-matrice (sans le transport en $z$ de $f$) sont relativement compliquées, il est donc très compliqué d'obtenir l'exponentielle de la matrice. `sympy` semble malgré tout calculer quelque chose, donc il est peut-être envisageable d'effectuer le calcul sur le serveur de calcul... à voir...\n",
    "\n",
    "Une méthode itérative est aussi envisageable pour avoir une méthode approchée, mais je ne sais pas si cela est vraiment possible avec du calcul formel (nécessaire pour le faire pour tout mode $k$ et pour tout $\\Delta t$)."
   ]
  },
  {
   "cell_type": "markdown",
   "metadata": {},
   "source": [
    "Les tentatives de calcul direct pour tout mode $k$ et tout $\\Delta t>0$ sur le serveur (donc sans contrainte de temps de calcul) ont échoué, même en fixant le mode $k$ (donc en voulant faire une trentaine de calcul pour chaque mode de Fourier dans la discrétisation en $z$)."
   ]
  },
  {
   "cell_type": "code",
   "execution_count": null,
   "metadata": {},
   "outputs": [],
   "source": []
  }
 ],
 "metadata": {
  "kernelspec": {
   "display_name": "Python 3",
   "language": "python",
   "name": "python3"
  },
  "language_info": {
   "codemirror_mode": {
    "name": "ipython",
    "version": 3
   },
   "file_extension": ".py",
   "mimetype": "text/x-python",
   "name": "python",
   "nbconvert_exporter": "python",
   "pygments_lexer": "ipython3",
   "version": "3.8.6"
  }
 },
 "nbformat": 4,
 "nbformat_minor": 4
}
